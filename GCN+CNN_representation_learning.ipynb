{
  "cells": [
    {
      "cell_type": "markdown",
      "metadata": {
        "id": "8G-eAEB00XEe"
      },
      "source": [
        "## Setup enviroment and load data"
      ]
    },
    {
      "cell_type": "code",
      "execution_count": null,
      "metadata": {
        "colab": {
          "base_uri": "https://localhost:8080/"
        },
        "id": "76Z9h4mTqx-M",
        "outputId": "949f2d73-323d-4685-d580-363186b028b1"
      },
      "outputs": [
        {
          "name": "stdout",
          "output_type": "stream",
          "text": [
            "Mounted at /content/drive\n"
          ]
        }
      ],
      "source": [
        "from google.colab import drive\n",
        "drive.mount('/content/drive', force_remount=True)\n",
        "\n",
        "!rm -r /content/sample_data"
      ]
    },
    {
      "cell_type": "code",
      "execution_count": null,
      "metadata": {
        "colab": {
          "base_uri": "https://localhost:8080/"
        },
        "id": "xvGhYzWHqzg7",
        "outputId": "b0e89f4b-13fc-495a-b4f9-ed4c81593c75"
      },
      "outputs": [],
      "source": [
        "!pip install stellargraph[demos]\n",
        "!pip install tensorflow_addons\n",
        "!pip install imbalanced-learn"
      ]
    },
    {
      "cell_type": "code",
      "execution_count": null,
      "metadata": {
        "id": "i5bYqJqNVA7a"
      },
      "outputs": [],
      "source": [
        "# https://drive.google.com/file/d/1Kn1LGPCPugrCuw5zog0waegrqpGMcB0c/view?usp=sharing\n",
        "# https://drive.google.com/file/d/1GqIBefMIC3C00rtBXWBoc0EDjdbckr0d/view?usp=sharing\n",
        "# !wget --load-cookies /tmp/cookies.txt \"https://docs.google.com/uc?export=download&confirm=$(wget --quiet --save-cookies /tmp/cookies.txt --keep-session-cookies --no-check-certificate 'https://docs.google.com/uc?export=download&id=1Kn1LGPCPugrCuw5zog0waegrqpGMcB0c' -O- | sed -rn 's/.*confirm=([0-9A-Za-z_]+).*/\\1\\n/p')&id=1Kn1LGPCPugrCuw5zog0waegrqpGMcB0c\" -O \"data.zip\" && rm -rf /tmp/cookies.txt\n"
      ]
    },
    {
      "cell_type": "code",
      "execution_count": null,
      "metadata": {
        "colab": {
          "base_uri": "https://localhost:8080/"
        },
        "id": "n_i8vHvWUnaK",
        "outputId": "24df898f-933e-433d-81c1-5a28dba48f37"
      },
      "outputs": [
        {
          "name": "stdout",
          "output_type": "stream",
          "text": [
            "--2022-04-25 02:43:19--  https://docs.google.com/uc?export=download&confirm=t&id=1GqIBefMIC3C00rtBXWBoc0EDjdbckr0d\n",
            "Resolving docs.google.com (docs.google.com)... 74.125.24.138, 74.125.24.100, 74.125.24.139, ...\n",
            "Connecting to docs.google.com (docs.google.com)|74.125.24.138|:443... connected.\n",
            "HTTP request sent, awaiting response... 303 See Other\n",
            "Location: https://doc-08-4o-docs.googleusercontent.com/docs/securesc/ha0ro937gcuc7l7deffksulhg5h7mbp1/hall10jvavdmnt2hkgj4pcb21j1k9bsq/1650854550000/05739447287618408964/*/1GqIBefMIC3C00rtBXWBoc0EDjdbckr0d?e=download [following]\n",
            "Warning: wildcards not supported in HTTP.\n",
            "--2022-04-25 02:43:20--  https://doc-08-4o-docs.googleusercontent.com/docs/securesc/ha0ro937gcuc7l7deffksulhg5h7mbp1/hall10jvavdmnt2hkgj4pcb21j1k9bsq/1650854550000/05739447287618408964/*/1GqIBefMIC3C00rtBXWBoc0EDjdbckr0d?e=download\n",
            "Resolving doc-08-4o-docs.googleusercontent.com (doc-08-4o-docs.googleusercontent.com)... 74.125.24.132, 2404:6800:4003:c03::84\n",
            "Connecting to doc-08-4o-docs.googleusercontent.com (doc-08-4o-docs.googleusercontent.com)|74.125.24.132|:443... connected.\n",
            "HTTP request sent, awaiting response... 200 OK\n",
            "Length: 1786547602 (1.7G) [application/zip]\n",
            "Saving to: ‘data.zip’\n",
            "\n",
            "data.zip            100%[===================>]   1.66G   116MB/s    in 19s     \n",
            "\n",
            "2022-04-25 02:43:39 (90.2 MB/s) - ‘data.zip’ saved [1786547602/1786547602]\n",
            "\n"
          ]
        }
      ],
      "source": [
        "!wget --load-cookies /tmp/cookies.txt \"https://docs.google.com/uc?export=download&confirm=$(wget --quiet --save-cookies /tmp/cookies.txt --keep-session-cookies --no-check-certificate 'https://docs.google.com/uc?export=download&id=1GqIBefMIC3C00rtBXWBoc0EDjdbckr0d' -O- | sed -rn 's/.*confirm=([0-9A-Za-z_]+).*/\\1\\n/p')&id=1GqIBefMIC3C00rtBXWBoc0EDjdbckr0d\" -O \"data.zip\" && rm -rf /tmp/cookies.txt"
      ]
    },
    {
      "cell_type": "code",
      "execution_count": null,
      "metadata": {
        "colab": {
          "base_uri": "https://localhost:8080/"
        },
        "id": "ksu8iBua9LVM",
        "outputId": "62fd0213-9269-4851-8ce5-fb1d570e8462"
      },
      "outputs": [
        {
          "name": "stdout",
          "output_type": "stream",
          "text": [
            "Archive:  /content/data.zip\n",
            "  inflating: X_test.npy              \n",
            "  inflating: X_train.npy             \n",
            "  inflating: y_test.npy              \n",
            "  inflating: y_train.npy             \n"
          ]
        }
      ],
      "source": [
        "!unzip \"/content/data.zip\"\n",
        "!rm \"/content/data.zip\""
      ]
    },
    {
      "cell_type": "code",
      "execution_count": null,
      "metadata": {
        "id": "m80damzQgyOg"
      },
      "outputs": [],
      "source": [
        "import pickle\n",
        "\n",
        "X_test = pickle.load(open(\"X_test.npy\", \"rb\"))\n",
        "y_test = pickle.load(open(\"y_test.npy\", \"rb\"))\n",
        "X_train = pickle.load(open(\"X_train.npy\", \"rb\"))\n",
        "y_train = pickle.load(open(\"y_train.npy\", \"rb\"))"
      ]
    },
    {
      "cell_type": "code",
      "execution_count": null,
      "metadata": {
        "id": "Y3tQyjbIq43S"
      },
      "outputs": [],
      "source": [
        "import pandas as pd\n",
        "import numpy as np\n",
        "import stellargraph as sg\n",
        "import cv2\n",
        "from tensorflow.keras.callbacks import EarlyStopping\n",
        "\n",
        "n_node_feature = 69+64+1\n",
        "n_node_max = 112\n",
        "np.random.seed(10)\n",
        "n_class = 1\n",
        "# n_edge_type = 13\n",
        "n_edge_type = 2 + n_node_feature + 13"
      ]
    },
    {
      "cell_type": "code",
      "execution_count": null,
      "metadata": {
        "id": "EVgfNFXL16Y3"
      },
      "outputs": [],
      "source": [
        "y_train = y_train.argmax(axis=1)\n",
        "y_test = y_test.argmax(axis=1)"
      ]
    },
    {
      "cell_type": "markdown",
      "metadata": {
        "id": "DmIBgf1hKE96"
      },
      "source": [
        "## Representation learning with 1 epoch"
      ]
    },
    {
      "cell_type": "code",
      "execution_count": null,
      "metadata": {
        "id": "iokrFVqw3hli"
      },
      "outputs": [],
      "source": [
        "import tensorflow as tf\n",
        "from tensorflow.keras.models import Sequential\n",
        "from tensorflow.keras import Model\n",
        "from tensorflow.keras.layers import Dense, Conv2D, MaxPooling2D, Dropout, Flatten, GlobalAveragePooling1D,Input,concatenate,Concatenate\n",
        "from stellargraph.layer.gcn import GraphConvolution\n",
        "import tensorflow_addons as tfa\n",
        "\n",
        "# Model CNN cũ\n",
        "# Sửa lại padding = same cho tất cả các Conv layer\n",
        "# Thêm 1 block Conv\n",
        "def create_cnn_model():\n",
        "    model = Sequential()\n",
        "    model.add(Conv2D(32, (3, 3), padding='same', activation='relu', input_shape=(n_node_max,n_node_max, 1)))\n",
        "    model.add(Conv2D(32, (3, 3), padding='same', activation='relu'))\n",
        "    model.add(MaxPooling2D(pool_size=(2, 2)))\n",
        "    model.add(Dropout(0.25))\n",
        "\n",
        "    model.add(Conv2D(64, (3, 3), padding='same', activation='relu'))\n",
        "    model.add(Conv2D(64, (3, 3), padding='same', activation='relu'))\n",
        "    model.add(MaxPooling2D(pool_size=(2, 2)))\n",
        "    model.add(Dropout(0.25))\n",
        "\n",
        "    model.add(Conv2D(128, (3, 3), padding='same', activation='relu'))\n",
        "    model.add(Conv2D(128, (3, 3), padding='same', activation='relu'))\n",
        "    model.add(MaxPooling2D(pool_size=(2, 2)))\n",
        "    model.add(Dropout(0.25))\n",
        "\n",
        "    model.add(Conv2D(256, (3, 3), padding='same', activation='relu'))\n",
        "    model.add(Conv2D(256, (3, 3), padding='same', activation='relu'))\n",
        "    model.add(MaxPooling2D(pool_size=(2, 2)))\n",
        "    model.add(Dropout(0.25))\n",
        "\n",
        "    model.add(Conv2D(64, (1, 1), padding='same', activation='relu'))\n",
        "    model.add(Flatten())\n",
        "\n",
        "    model.add(Dense(64, activation='relu'))\n",
        "    model.add(Dropout(0.25))\n",
        "    \n",
        "    return model\n",
        "\n",
        "def create_gcn_model():\n",
        "    x_features = Input(shape=( n_node_max, n_node_feature))\n",
        "    x_adjacency = Input(shape=( n_node_max, n_node_max))\n",
        "    out = Dropout(0.5)(x_features)\n",
        "    out = GraphConvolution(32, activation='relu', \n",
        "                        use_bias=True\n",
        "                        )([out, x_adjacency])\n",
        "    out = Dropout(0.5)(out)\n",
        "    out = GraphConvolution(32, activation='relu', \n",
        "                        use_bias=True\n",
        "                        )([out, x_adjacency])\n",
        "\n",
        "    # out = GlobalAveragePooling1D()(out)\n",
        "    out = Flatten()(out)\n",
        "    out = Dense(64, activation='relu')(out)\n",
        "    out = Dropout(.25)(out)\n",
        "\n",
        "    model = Model(inputs=[x_features, x_adjacency], outputs=out)\n",
        "\n",
        "    return model"
      ]
    },
    {
      "cell_type": "code",
      "execution_count": null,
      "metadata": {
        "id": "MRi37aUdNh3W"
      },
      "outputs": [],
      "source": [
        "METRICS = [\n",
        "      tf.keras.metrics.TruePositives(name='tp'),\n",
        "      tf.keras.metrics.FalsePositives(name='fp'),\n",
        "      tf.keras.metrics.TrueNegatives(name='tn'),\n",
        "      tf.keras.metrics.FalseNegatives(name='fn'), \n",
        "      tf.keras.metrics.BinaryAccuracy(name='accuracy'),\n",
        "      tf.keras.metrics.Precision(name='precision'),\n",
        "      tf.keras.metrics.Recall(name='recall'),\n",
        "      tf.keras.metrics.AUC(name='auc'),\n",
        "      tf.keras.metrics.AUC(name='prc', curve='PR'), # precision-recall curve\n",
        "  ]\n"
      ]
    },
    {
      "cell_type": "code",
      "execution_count": null,
      "metadata": {
        "id": "WKtVN_R13hlk"
      },
      "outputs": [],
      "source": [
        "def create_model() : \n",
        "  model1 = create_cnn_model()\n",
        "  model2 = create_gcn_model()\n",
        "\n",
        "  \n",
        "  out = Concatenate()([model1.output,model2.output])\n",
        "  # out = Flatten()(out)    \n",
        "  out = Dense(64, activation='relu')(out)\n",
        "  out = Dropout(.5)(out)\n",
        "  out = Dense(32, activation='relu')(out)\n",
        "  out = Dense(n_class, activation='sigmoid')(out)\n",
        "\n",
        "  model = Model([model1.input,model2.input], out)\n",
        "  model.compile(optimizer=tf.keras.optimizers.Adam(), loss=tf.keras.losses.BinaryCrossentropy(), metrics=METRICS)\n",
        "  model.summary()\n",
        "  return model"
      ]
    },
    {
      "cell_type": "code",
      "execution_count": null,
      "metadata": {
        "colab": {
          "base_uri": "https://localhost:8080/"
        },
        "id": "uZZAoMLLMLVG",
        "outputId": "7c64cfea-8ce4-4cbe-dfdd-8b39f20c6e98"
      },
      "outputs": [
        {
          "name": "stdout",
          "output_type": "stream",
          "text": [
            "Model: \"model_1\"\n",
            "__________________________________________________________________________________________________\n",
            " Layer (type)                   Output Shape         Param #     Connected to                     \n",
            "==================================================================================================\n",
            " conv2d_input (InputLayer)      [(None, 112, 112, 1  0           []                               \n",
            "                                )]                                                                \n",
            "                                                                                                  \n",
            " conv2d (Conv2D)                (None, 112, 112, 32  320         ['conv2d_input[0][0]']           \n",
            "                                )                                                                 \n",
            "                                                                                                  \n",
            " conv2d_1 (Conv2D)              (None, 112, 112, 32  9248        ['conv2d[0][0]']                 \n",
            "                                )                                                                 \n",
            "                                                                                                  \n",
            " max_pooling2d (MaxPooling2D)   (None, 56, 56, 32)   0           ['conv2d_1[0][0]']               \n",
            "                                                                                                  \n",
            " dropout (Dropout)              (None, 56, 56, 32)   0           ['max_pooling2d[0][0]']          \n",
            "                                                                                                  \n",
            " conv2d_2 (Conv2D)              (None, 56, 56, 64)   18496       ['dropout[0][0]']                \n",
            "                                                                                                  \n",
            " conv2d_3 (Conv2D)              (None, 56, 56, 64)   36928       ['conv2d_2[0][0]']               \n",
            "                                                                                                  \n",
            " max_pooling2d_1 (MaxPooling2D)  (None, 28, 28, 64)  0           ['conv2d_3[0][0]']               \n",
            "                                                                                                  \n",
            " dropout_1 (Dropout)            (None, 28, 28, 64)   0           ['max_pooling2d_1[0][0]']        \n",
            "                                                                                                  \n",
            " conv2d_4 (Conv2D)              (None, 28, 28, 128)  73856       ['dropout_1[0][0]']              \n",
            "                                                                                                  \n",
            " conv2d_5 (Conv2D)              (None, 28, 28, 128)  147584      ['conv2d_4[0][0]']               \n",
            "                                                                                                  \n",
            " max_pooling2d_2 (MaxPooling2D)  (None, 14, 14, 128)  0          ['conv2d_5[0][0]']               \n",
            "                                                                                                  \n",
            " dropout_2 (Dropout)            (None, 14, 14, 128)  0           ['max_pooling2d_2[0][0]']        \n",
            "                                                                                                  \n",
            " conv2d_6 (Conv2D)              (None, 14, 14, 256)  295168      ['dropout_2[0][0]']              \n",
            "                                                                                                  \n",
            " input_1 (InputLayer)           [(None, 112, 134)]   0           []                               \n",
            "                                                                                                  \n",
            " conv2d_7 (Conv2D)              (None, 14, 14, 256)  590080      ['conv2d_6[0][0]']               \n",
            "                                                                                                  \n",
            " dropout_5 (Dropout)            (None, 112, 134)     0           ['input_1[0][0]']                \n",
            "                                                                                                  \n",
            " input_2 (InputLayer)           [(None, 112, 112)]   0           []                               \n",
            "                                                                                                  \n",
            " max_pooling2d_3 (MaxPooling2D)  (None, 7, 7, 256)   0           ['conv2d_7[0][0]']               \n",
            "                                                                                                  \n",
            " graph_convolution (GraphConvol  (None, 112, 32)     4320        ['dropout_5[0][0]',              \n",
            " ution)                                                           'input_2[0][0]']                \n",
            "                                                                                                  \n",
            " dropout_3 (Dropout)            (None, 7, 7, 256)    0           ['max_pooling2d_3[0][0]']        \n",
            "                                                                                                  \n",
            " dropout_6 (Dropout)            (None, 112, 32)      0           ['graph_convolution[0][0]']      \n",
            "                                                                                                  \n",
            " conv2d_8 (Conv2D)              (None, 7, 7, 64)     16448       ['dropout_3[0][0]']              \n",
            "                                                                                                  \n",
            " graph_convolution_1 (GraphConv  (None, 112, 32)     1056        ['dropout_6[0][0]',              \n",
            " olution)                                                         'input_2[0][0]']                \n",
            "                                                                                                  \n",
            " flatten (Flatten)              (None, 3136)         0           ['conv2d_8[0][0]']               \n",
            "                                                                                                  \n",
            " flatten_1 (Flatten)            (None, 3584)         0           ['graph_convolution_1[0][0]']    \n",
            "                                                                                                  \n",
            " dense (Dense)                  (None, 64)           200768      ['flatten[0][0]']                \n",
            "                                                                                                  \n",
            " dense_1 (Dense)                (None, 64)           229440      ['flatten_1[0][0]']              \n",
            "                                                                                                  \n",
            " dropout_4 (Dropout)            (None, 64)           0           ['dense[0][0]']                  \n",
            "                                                                                                  \n",
            " dropout_7 (Dropout)            (None, 64)           0           ['dense_1[0][0]']                \n",
            "                                                                                                  \n",
            " concatenate (Concatenate)      (None, 128)          0           ['dropout_4[0][0]',              \n",
            "                                                                  'dropout_7[0][0]']              \n",
            "                                                                                                  \n",
            " dense_2 (Dense)                (None, 64)           8256        ['concatenate[0][0]']            \n",
            "                                                                                                  \n",
            " dropout_8 (Dropout)            (None, 64)           0           ['dense_2[0][0]']                \n",
            "                                                                                                  \n",
            " dense_3 (Dense)                (None, 32)           2080        ['dropout_8[0][0]']              \n",
            "                                                                                                  \n",
            " dense_4 (Dense)                (None, 1)            33          ['dense_3[0][0]']                \n",
            "                                                                                                  \n",
            "==================================================================================================\n",
            "Total params: 1,634,081\n",
            "Trainable params: 1,634,081\n",
            "Non-trainable params: 0\n",
            "__________________________________________________________________________________________________\n",
            "50/50 [==============================] - 35s 340ms/step - loss: 0.3686 - tp: 41.0000 - fp: 422.0000 - tn: 11136.0000 - fn: 1119.0000 - accuracy: 0.8788 - precision: 0.0886 - recall: 0.0353 - auc: 0.5789 - prc: 0.1055\n"
          ]
        },
        {
          "data": {
            "text/plain": [
              "<keras.callbacks.History at 0x7fd18b2cd090>"
            ]
          },
          "execution_count": 11,
          "metadata": {},
          "output_type": "execute_result"
        }
      ],
      "source": [
        "model = create_model()\n",
        "model.fit(x = X_train, y = y_train, batch_size=256, epochs=1)"
      ]
    },
    {
      "cell_type": "code",
      "execution_count": null,
      "metadata": {
        "colab": {
          "base_uri": "https://localhost:8080/"
        },
        "id": "E4GX0PSlMiC0",
        "outputId": "3c712618-7a64-48d5-97af-88f802b9cd86"
      },
      "outputs": [
        {
          "name": "stdout",
          "output_type": "stream",
          "text": [
            "Model: \"model_2\"\n",
            "__________________________________________________________________________________________________\n",
            " Layer (type)                   Output Shape         Param #     Connected to                     \n",
            "==================================================================================================\n",
            " conv2d_input (InputLayer)      [(None, 112, 112, 1  0           []                               \n",
            "                                )]                                                                \n",
            "                                                                                                  \n",
            " conv2d (Conv2D)                (None, 112, 112, 32  320         ['conv2d_input[0][0]']           \n",
            "                                )                                                                 \n",
            "                                                                                                  \n",
            " conv2d_1 (Conv2D)              (None, 112, 112, 32  9248        ['conv2d[0][0]']                 \n",
            "                                )                                                                 \n",
            "                                                                                                  \n",
            " max_pooling2d (MaxPooling2D)   (None, 56, 56, 32)   0           ['conv2d_1[0][0]']               \n",
            "                                                                                                  \n",
            " dropout (Dropout)              (None, 56, 56, 32)   0           ['max_pooling2d[0][0]']          \n",
            "                                                                                                  \n",
            " conv2d_2 (Conv2D)              (None, 56, 56, 64)   18496       ['dropout[0][0]']                \n",
            "                                                                                                  \n",
            " conv2d_3 (Conv2D)              (None, 56, 56, 64)   36928       ['conv2d_2[0][0]']               \n",
            "                                                                                                  \n",
            " max_pooling2d_1 (MaxPooling2D)  (None, 28, 28, 64)  0           ['conv2d_3[0][0]']               \n",
            "                                                                                                  \n",
            " dropout_1 (Dropout)            (None, 28, 28, 64)   0           ['max_pooling2d_1[0][0]']        \n",
            "                                                                                                  \n",
            " conv2d_4 (Conv2D)              (None, 28, 28, 128)  73856       ['dropout_1[0][0]']              \n",
            "                                                                                                  \n",
            " conv2d_5 (Conv2D)              (None, 28, 28, 128)  147584      ['conv2d_4[0][0]']               \n",
            "                                                                                                  \n",
            " max_pooling2d_2 (MaxPooling2D)  (None, 14, 14, 128)  0          ['conv2d_5[0][0]']               \n",
            "                                                                                                  \n",
            " dropout_2 (Dropout)            (None, 14, 14, 128)  0           ['max_pooling2d_2[0][0]']        \n",
            "                                                                                                  \n",
            " conv2d_6 (Conv2D)              (None, 14, 14, 256)  295168      ['dropout_2[0][0]']              \n",
            "                                                                                                  \n",
            " input_1 (InputLayer)           [(None, 112, 134)]   0           []                               \n",
            "                                                                                                  \n",
            " conv2d_7 (Conv2D)              (None, 14, 14, 256)  590080      ['conv2d_6[0][0]']               \n",
            "                                                                                                  \n",
            " dropout_5 (Dropout)            (None, 112, 134)     0           ['input_1[0][0]']                \n",
            "                                                                                                  \n",
            " input_2 (InputLayer)           [(None, 112, 112)]   0           []                               \n",
            "                                                                                                  \n",
            " max_pooling2d_3 (MaxPooling2D)  (None, 7, 7, 256)   0           ['conv2d_7[0][0]']               \n",
            "                                                                                                  \n",
            " graph_convolution (GraphConvol  (None, 112, 32)     4320        ['dropout_5[0][0]',              \n",
            " ution)                                                           'input_2[0][0]']                \n",
            "                                                                                                  \n",
            " dropout_3 (Dropout)            (None, 7, 7, 256)    0           ['max_pooling2d_3[0][0]']        \n",
            "                                                                                                  \n",
            " dropout_6 (Dropout)            (None, 112, 32)      0           ['graph_convolution[0][0]']      \n",
            "                                                                                                  \n",
            " conv2d_8 (Conv2D)              (None, 7, 7, 64)     16448       ['dropout_3[0][0]']              \n",
            "                                                                                                  \n",
            " graph_convolution_1 (GraphConv  (None, 112, 32)     1056        ['dropout_6[0][0]',              \n",
            " olution)                                                         'input_2[0][0]']                \n",
            "                                                                                                  \n",
            " flatten (Flatten)              (None, 3136)         0           ['conv2d_8[0][0]']               \n",
            "                                                                                                  \n",
            " flatten_1 (Flatten)            (None, 3584)         0           ['graph_convolution_1[0][0]']    \n",
            "                                                                                                  \n",
            " dense (Dense)                  (None, 64)           200768      ['flatten[0][0]']                \n",
            "                                                                                                  \n",
            " dense_1 (Dense)                (None, 64)           229440      ['flatten_1[0][0]']              \n",
            "                                                                                                  \n",
            " dropout_4 (Dropout)            (None, 64)           0           ['dense[0][0]']                  \n",
            "                                                                                                  \n",
            " dropout_7 (Dropout)            (None, 64)           0           ['dense_1[0][0]']                \n",
            "                                                                                                  \n",
            " concatenate (Concatenate)      (None, 128)          0           ['dropout_4[0][0]',              \n",
            "                                                                  'dropout_7[0][0]']              \n",
            "                                                                                                  \n",
            "==================================================================================================\n",
            "Total params: 1,623,712\n",
            "Trainable params: 1,623,712\n",
            "Non-trainable params: 0\n",
            "__________________________________________________________________________________________________\n"
          ]
        }
      ],
      "source": [
        "presentation_model = Model(inputs=model.inputs, outputs=model.layers[-5].output)\n",
        "presentation_model.summary()"
      ]
    },
    {
      "cell_type": "code",
      "execution_count": null,
      "metadata": {
        "colab": {
          "base_uri": "https://localhost:8080/"
        },
        "id": "qvdaH6skSSnp",
        "outputId": "8001bee5-bc24-4b07-851a-c5161e0f3e66"
      },
      "outputs": [
        {
          "name": "stdout",
          "output_type": "stream",
          "text": [
            "(5451, 128)\n"
          ]
        }
      ],
      "source": [
        "X_test = presentation_model.predict(X_test)\n",
        "print(X_test.shape)"
      ]
    },
    {
      "cell_type": "code",
      "execution_count": null,
      "metadata": {
        "id": "pW-bSs3Xffii"
      },
      "outputs": [],
      "source": [
        "X_train = presentation_model.predict(X_train)"
      ]
    },
    {
      "cell_type": "code",
      "execution_count": null,
      "metadata": {
        "colab": {
          "base_uri": "https://localhost:8080/"
        },
        "id": "mb8_CpOphE92",
        "outputId": "652be5fe-7625-4bbb-89df-9ff6736fb7b2"
      },
      "outputs": [
        {
          "name": "stdout",
          "output_type": "stream",
          "text": [
            "(12718, 128)\n",
            "0\n"
          ]
        }
      ],
      "source": [
        "print(X_train.shape)\n",
        "print(y_train[0])"
      ]
    },
    {
      "cell_type": "code",
      "execution_count": null,
      "metadata": {
        "colab": {
          "base_uri": "https://localhost:8080/"
        },
        "id": "ZvUi4ajTLz13",
        "outputId": "282304d4-1c8e-4c60-863d-678d5357d593"
      },
      "outputs": [
        {
          "name": "stdout",
          "output_type": "stream",
          "text": [
            "Counter({0: 11558, 1: 1160})\n"
          ]
        }
      ],
      "source": [
        "from collections import Counter\n",
        "\n",
        "print(Counter(y_train))"
      ]
    },
    {
      "cell_type": "code",
      "execution_count": null,
      "metadata": {
        "id": "oGdtKkf5f29E"
      },
      "outputs": [],
      "source": [
        "import imblearn\n",
        "from imblearn.over_sampling import SMOTE\n",
        "\n",
        "# transform the dataset\n",
        "oversample = SMOTE(sampling_strategy=0.5)\n",
        "X_train, y_train = oversample.fit_resample(X_train, y_train)"
      ]
    },
    {
      "cell_type": "code",
      "execution_count": null,
      "metadata": {
        "colab": {
          "base_uri": "https://localhost:8080/"
        },
        "id": "chMCNmQogkpA",
        "outputId": "ec677c64-2ac3-41cc-cfa5-20910ac51b8c"
      },
      "outputs": [
        {
          "name": "stdout",
          "output_type": "stream",
          "text": [
            "Counter({0: 11558, 1: 5779})\n"
          ]
        }
      ],
      "source": [
        "print(Counter(y_train))"
      ]
    },
    {
      "cell_type": "code",
      "execution_count": null,
      "metadata": {
        "id": "9dErr-9En0QX"
      },
      "outputs": [],
      "source": [
        "METRICS = [\n",
        "      tf.keras.metrics.TruePositives(name='tp'),\n",
        "      tf.keras.metrics.FalsePositives(name='fp'),\n",
        "      tf.keras.metrics.TrueNegatives(name='tn'),\n",
        "      tf.keras.metrics.FalseNegatives(name='fn'), \n",
        "      # tf.keras.metrics.BinaryAccuracy(name='accuracy'),\n",
        "      tf.keras.metrics.Precision(name='precision'),\n",
        "      tf.keras.metrics.Recall(name='recall'),\n",
        "      tf.keras.metrics.AUC(name='auc'),\n",
        "      tf.keras.metrics.AUC(name='prc', curve='PR'), # precision-recall curve\n",
        "  ]"
      ]
    },
    {
      "cell_type": "code",
      "execution_count": null,
      "metadata": {
        "id": "9VaI6QQioUKY"
      },
      "outputs": [],
      "source": [
        "from tensorflow.keras.optimizers import SGD\n"
      ]
    },
    {
      "cell_type": "code",
      "execution_count": null,
      "metadata": {
        "id": "84Wi36DJMyYI"
      },
      "outputs": [],
      "source": [
        "def classifierModel():\n",
        "    model = Sequential()\n",
        "\n",
        "    model.add(Dense(64, input_dim=128, activation='relu', kernel_initializer='he_uniform'))\n",
        "    model.add(Dropout(0.25))\n",
        "\n",
        "    model.add(Dense(32, activation='relu', kernel_initializer='he_uniform'))\n",
        "    model.add(Dropout(0.25))\n",
        "\n",
        "    model.add(Dense(8, activation='relu', kernel_initializer='he_uniform'))\n",
        "    model.add(Dropout(0.25))\n",
        "\n",
        "    model.add(Dense(n_class, activation='tanh'))\n",
        "\n",
        "    # model.compile(optimizer=tf.keras.optimizers.Adam(), loss=tf.keras.losses.BinaryCrossentropy(), metrics=METRICS)\n",
        "    model.compile(optimizer=SGD(lr=0.01, momentum=0.9), loss='hinge', metrics=['accuracy'])\n",
        "    model.summary()\n",
        "    return model"
      ]
    },
    {
      "cell_type": "code",
      "execution_count": null,
      "metadata": {
        "colab": {
          "base_uri": "https://localhost:8080/"
        },
        "id": "jZz02x3zN3tL",
        "outputId": "d0dee088-0235-431e-8970-cf232ee4f5bf"
      },
      "outputs": [
        {
          "name": "stdout",
          "output_type": "stream",
          "text": [
            "Model: \"sequential_6\"\n",
            "_________________________________________________________________\n",
            " Layer (type)                Output Shape              Param #   \n",
            "=================================================================\n",
            " dense_25 (Dense)            (None, 64)                8256      \n",
            "                                                                 \n",
            " dropout_24 (Dropout)        (None, 64)                0         \n",
            "                                                                 \n",
            " dense_26 (Dense)            (None, 32)                2080      \n",
            "                                                                 \n",
            " dropout_25 (Dropout)        (None, 32)                0         \n",
            "                                                                 \n",
            " dense_27 (Dense)            (None, 8)                 264       \n",
            "                                                                 \n",
            " dropout_26 (Dropout)        (None, 8)                 0         \n",
            "                                                                 \n",
            " dense_28 (Dense)            (None, 1)                 9         \n",
            "                                                                 \n",
            "=================================================================\n",
            "Total params: 10,609\n",
            "Trainable params: 10,609\n",
            "Non-trainable params: 0\n",
            "_________________________________________________________________\n",
            "Epoch 1/100\n"
          ]
        },
        {
          "name": "stderr",
          "output_type": "stream",
          "text": [
            "/usr/local/lib/python3.7/dist-packages/keras/optimizer_v2/gradient_descent.py:102: UserWarning: The `lr` argument is deprecated, use `learning_rate` instead.\n",
            "  super(SGD, self).__init__(name, **kwargs)\n"
          ]
        },
        {
          "name": "stdout",
          "output_type": "stream",
          "text": [
            "52/68 [=====================>........] - ETA: 0s - loss: 0.7286 - accuracy: 0.6533WARNING:tensorflow:Can save best model only with val_prc available, skipping.\n",
            "68/68 [==============================] - 1s 6ms/step - loss: 0.7148 - accuracy: 0.6565 - val_loss: 0.1827 - val_accuracy: 0.9086\n",
            "Epoch 2/100\n",
            "68/68 [==============================] - ETA: 0s - loss: 0.6700 - accuracy: 0.6666WARNING:tensorflow:Can save best model only with val_prc available, skipping.\n",
            "68/68 [==============================] - 0s 4ms/step - loss: 0.6700 - accuracy: 0.6666 - val_loss: 0.1827 - val_accuracy: 0.9086\n",
            "Epoch 3/100\n",
            "53/68 [======================>.......] - ETA: 0s - loss: 0.6667 - accuracy: 0.6680WARNING:tensorflow:Can save best model only with val_prc available, skipping.\n",
            "68/68 [==============================] - 0s 4ms/step - loss: 0.6686 - accuracy: 0.6668 - val_loss: 0.1827 - val_accuracy: 0.9086\n",
            "Epoch 4/100\n",
            "53/68 [======================>.......] - ETA: 0s - loss: 0.6676 - accuracy: 0.6678WARNING:tensorflow:Can save best model only with val_prc available, skipping.\n",
            "68/68 [==============================] - 0s 4ms/step - loss: 0.6700 - accuracy: 0.6664 - val_loss: 0.1827 - val_accuracy: 0.9086\n",
            "Epoch 5/100\n",
            "53/68 [======================>.......] - ETA: 0s - loss: 0.6656 - accuracy: 0.6677WARNING:tensorflow:Can save best model only with val_prc available, skipping.\n",
            "68/68 [==============================] - 0s 4ms/step - loss: 0.6683 - accuracy: 0.6666 - val_loss: 0.1827 - val_accuracy: 0.9086\n",
            "Epoch 6/100\n",
            "53/68 [======================>.......] - ETA: 0s - loss: 0.6676 - accuracy: 0.6669WARNING:tensorflow:Can save best model only with val_prc available, skipping.\n",
            "68/68 [==============================] - 0s 4ms/step - loss: 0.6682 - accuracy: 0.6667 - val_loss: 0.1827 - val_accuracy: 0.9086\n",
            "Epoch 7/100\n",
            "55/68 [=======================>......] - ETA: 0s - loss: 0.6748 - accuracy: 0.6633WARNING:tensorflow:Can save best model only with val_prc available, skipping.\n",
            "68/68 [==============================] - 0s 4ms/step - loss: 0.6682 - accuracy: 0.6666 - val_loss: 0.1827 - val_accuracy: 0.9086\n",
            "Epoch 8/100\n",
            "55/68 [=======================>......] - ETA: 0s - loss: 0.6626 - accuracy: 0.6691WARNING:tensorflow:Can save best model only with val_prc available, skipping.\n",
            "68/68 [==============================] - 0s 4ms/step - loss: 0.6678 - accuracy: 0.6666 - val_loss: 0.1827 - val_accuracy: 0.9086\n",
            "Epoch 9/100\n",
            "55/68 [=======================>......] - ETA: 0s - loss: 0.6669 - accuracy: 0.6670WARNING:tensorflow:Can save best model only with val_prc available, skipping.\n",
            "68/68 [==============================] - 0s 4ms/step - loss: 0.6679 - accuracy: 0.6666 - val_loss: 0.1827 - val_accuracy: 0.9086\n",
            "Epoch 10/100\n",
            "55/68 [=======================>......] - ETA: 0s - loss: 0.6646 - accuracy: 0.6685WARNING:tensorflow:Can save best model only with val_prc available, skipping.\n",
            "68/68 [==============================] - 0s 4ms/step - loss: 0.6682 - accuracy: 0.6667 - val_loss: 0.1827 - val_accuracy: 0.9086\n",
            "Epoch 11/100\n",
            "52/68 [=====================>........] - ETA: 0s - loss: 0.6702 - accuracy: 0.6652WARNING:tensorflow:Can save best model only with val_prc available, skipping.\n",
            "68/68 [==============================] - 0s 4ms/step - loss: 0.6671 - accuracy: 0.6667 - val_loss: 0.1827 - val_accuracy: 0.9086\n",
            "Epoch 12/100\n",
            "67/68 [============================>.] - ETA: 0s - loss: 0.6680 - accuracy: 0.6665WARNING:tensorflow:Can save best model only with val_prc available, skipping.\n",
            "68/68 [==============================] - 0s 4ms/step - loss: 0.6676 - accuracy: 0.6667 - val_loss: 0.1827 - val_accuracy: 0.9086\n",
            "Epoch 13/100\n",
            "53/68 [======================>.......] - ETA: 0s - loss: 0.6685 - accuracy: 0.6665WARNING:tensorflow:Can save best model only with val_prc available, skipping.\n",
            "68/68 [==============================] - 0s 4ms/step - loss: 0.6684 - accuracy: 0.6666 - val_loss: 0.1827 - val_accuracy: 0.9086\n",
            "Epoch 14/100\n",
            "53/68 [======================>.......] - ETA: 0s - loss: 0.6748 - accuracy: 0.6631WARNING:tensorflow:Can save best model only with val_prc available, skipping.\n",
            "68/68 [==============================] - 0s 4ms/step - loss: 0.6678 - accuracy: 0.6666 - val_loss: 0.1827 - val_accuracy: 0.9086\n",
            "Epoch 15/100\n",
            "53/68 [======================>.......] - ETA: 0s - loss: 0.6681 - accuracy: 0.6663WARNING:tensorflow:Can save best model only with val_prc available, skipping.\n",
            "68/68 [==============================] - 0s 4ms/step - loss: 0.6677 - accuracy: 0.6666 - val_loss: 0.1827 - val_accuracy: 0.9086\n",
            "Epoch 16/100\n",
            "67/68 [============================>.] - ETA: 0s - loss: 0.6690 - accuracy: 0.6659WARNING:tensorflow:Can save best model only with val_prc available, skipping.\n",
            "68/68 [==============================] - 0s 4ms/step - loss: 0.6674 - accuracy: 0.6667 - val_loss: 0.1827 - val_accuracy: 0.9086\n",
            "Epoch 17/100\n",
            "52/68 [=====================>........] - ETA: 0s - loss: 0.6726 - accuracy: 0.6641WARNING:tensorflow:Can save best model only with val_prc available, skipping.\n",
            "68/68 [==============================] - 0s 4ms/step - loss: 0.6677 - accuracy: 0.6666 - val_loss: 0.1827 - val_accuracy: 0.9086\n",
            "Epoch 18/100\n",
            "53/68 [======================>.......] - ETA: 0s - loss: 0.6686 - accuracy: 0.6660WARNING:tensorflow:Can save best model only with val_prc available, skipping.\n",
            "68/68 [==============================] - 0s 4ms/step - loss: 0.6670 - accuracy: 0.6667 - val_loss: 0.1827 - val_accuracy: 0.9086\n",
            "Epoch 19/100\n",
            "54/68 [======================>.......] - ETA: 0s - loss: 0.6678 - accuracy: 0.6665WARNING:tensorflow:Can save best model only with val_prc available, skipping.\n",
            "68/68 [==============================] - 0s 4ms/step - loss: 0.6675 - accuracy: 0.6667 - val_loss: 0.1827 - val_accuracy: 0.9086\n",
            "Epoch 20/100\n",
            "53/68 [======================>.......] - ETA: 0s - loss: 0.6647 - accuracy: 0.6680WARNING:tensorflow:Can save best model only with val_prc available, skipping.\n",
            "68/68 [==============================] - 0s 4ms/step - loss: 0.6675 - accuracy: 0.6667 - val_loss: 0.1827 - val_accuracy: 0.9086\n",
            "Epoch 21/100\n",
            "53/68 [======================>.......] - ETA: 0s - loss: 0.6642 - accuracy: 0.6687WARNING:tensorflow:Can save best model only with val_prc available, skipping.\n",
            "68/68 [==============================] - 0s 4ms/step - loss: 0.6681 - accuracy: 0.6667 - val_loss: 0.1827 - val_accuracy: 0.9086\n",
            "Epoch 22/100\n",
            "52/68 [=====================>........] - ETA: 0s - loss: 0.6696 - accuracy: 0.6654WARNING:tensorflow:Can save best model only with val_prc available, skipping.\n",
            "68/68 [==============================] - 0s 4ms/step - loss: 0.6670 - accuracy: 0.6667 - val_loss: 0.1827 - val_accuracy: 0.9086\n",
            "Epoch 23/100\n",
            "67/68 [============================>.] - ETA: 0s - loss: 0.6675 - accuracy: 0.6664WARNING:tensorflow:Can save best model only with val_prc available, skipping.\n",
            "68/68 [==============================] - 0s 4ms/step - loss: 0.6669 - accuracy: 0.6667 - val_loss: 0.1827 - val_accuracy: 0.9086\n",
            "Epoch 24/100\n",
            "64/68 [===========================>..] - ETA: 0s - loss: 0.6681 - accuracy: 0.6664WARNING:tensorflow:Can save best model only with val_prc available, skipping.\n",
            "68/68 [==============================] - 0s 4ms/step - loss: 0.6676 - accuracy: 0.6667 - val_loss: 0.1827 - val_accuracy: 0.9086\n",
            "Epoch 25/100\n",
            "54/68 [======================>.......] - ETA: 0s - loss: 0.6645 - accuracy: 0.6683WARNING:tensorflow:Can save best model only with val_prc available, skipping.\n",
            "68/68 [==============================] - 0s 4ms/step - loss: 0.6677 - accuracy: 0.6667 - val_loss: 0.1827 - val_accuracy: 0.9086\n",
            "Epoch 26/100\n",
            "53/68 [======================>.......] - ETA: 0s - loss: 0.6727 - accuracy: 0.6639WARNING:tensorflow:Can save best model only with val_prc available, skipping.\n",
            "68/68 [==============================] - 0s 4ms/step - loss: 0.6672 - accuracy: 0.6667 - val_loss: 0.1827 - val_accuracy: 0.9086\n",
            "Epoch 27/100\n",
            "52/68 [=====================>........] - ETA: 0s - loss: 0.6702 - accuracy: 0.6656WARNING:tensorflow:Can save best model only with val_prc available, skipping.\n",
            "68/68 [==============================] - 0s 4ms/step - loss: 0.6681 - accuracy: 0.6667 - val_loss: 0.1827 - val_accuracy: 0.9086\n",
            "Epoch 28/100\n",
            "52/68 [=====================>........] - ETA: 0s - loss: 0.6695 - accuracy: 0.6656WARNING:tensorflow:Can save best model only with val_prc available, skipping.\n",
            "68/68 [==============================] - 0s 4ms/step - loss: 0.6675 - accuracy: 0.6667 - val_loss: 0.1827 - val_accuracy: 0.9086\n",
            "Epoch 29/100\n",
            "53/68 [======================>.......] - ETA: 0s - loss: 0.6671 - accuracy: 0.6669WARNING:tensorflow:Can save best model only with val_prc available, skipping.\n",
            "68/68 [==============================] - 0s 4ms/step - loss: 0.6676 - accuracy: 0.6667 - val_loss: 0.1827 - val_accuracy: 0.9086\n",
            "Epoch 30/100\n",
            "53/68 [======================>.......] - ETA: 0s - loss: 0.6628 - accuracy: 0.6688WARNING:tensorflow:Can save best model only with val_prc available, skipping.\n",
            "68/68 [==============================] - 0s 4ms/step - loss: 0.6672 - accuracy: 0.6667 - val_loss: 0.1827 - val_accuracy: 0.9086\n",
            "Epoch 31/100\n",
            "54/68 [======================>.......] - ETA: 0s - loss: 0.6692 - accuracy: 0.6657WARNING:tensorflow:Can save best model only with val_prc available, skipping.\n",
            "68/68 [==============================] - 0s 4ms/step - loss: 0.6676 - accuracy: 0.6667 - val_loss: 0.1827 - val_accuracy: 0.9086\n",
            "Epoch 32/100\n",
            "67/68 [============================>.] - ETA: 0s - loss: 0.6662 - accuracy: 0.6672WARNING:tensorflow:Can save best model only with val_prc available, skipping.\n",
            "68/68 [==============================] - 0s 4ms/step - loss: 0.6673 - accuracy: 0.6667 - val_loss: 0.1827 - val_accuracy: 0.9086\n",
            "Epoch 33/100\n",
            "67/68 [============================>.] - ETA: 0s - loss: 0.6684 - accuracy: 0.6660WARNING:tensorflow:Can save best model only with val_prc available, skipping.\n",
            "68/68 [==============================] - 0s 4ms/step - loss: 0.6670 - accuracy: 0.6667 - val_loss: 0.1827 - val_accuracy: 0.9086\n",
            "Epoch 34/100\n",
            "53/68 [======================>.......] - ETA: 0s - loss: 0.6669 - accuracy: 0.6670WARNING:tensorflow:Can save best model only with val_prc available, skipping.\n",
            "68/68 [==============================] - 0s 4ms/step - loss: 0.6673 - accuracy: 0.6667 - val_loss: 0.1827 - val_accuracy: 0.9086\n",
            "Epoch 35/100\n",
            "53/68 [======================>.......] - ETA: 0s - loss: 0.6677 - accuracy: 0.6665WARNING:tensorflow:Can save best model only with val_prc available, skipping.\n",
            "68/68 [==============================] - 0s 4ms/step - loss: 0.6676 - accuracy: 0.6666 - val_loss: 0.1827 - val_accuracy: 0.9086\n",
            "Epoch 36/100\n",
            "55/68 [=======================>......] - ETA: 0s - loss: 0.6687 - accuracy: 0.6660WARNING:tensorflow:Can save best model only with val_prc available, skipping.\n",
            "68/68 [==============================] - 0s 4ms/step - loss: 0.6673 - accuracy: 0.6667 - val_loss: 0.1827 - val_accuracy: 0.9086\n",
            "Epoch 37/100\n",
            "53/68 [======================>.......] - ETA: 0s - loss: 0.6707 - accuracy: 0.6649WARNING:tensorflow:Can save best model only with val_prc available, skipping.\n",
            "68/68 [==============================] - 0s 4ms/step - loss: 0.6671 - accuracy: 0.6667 - val_loss: 0.1827 - val_accuracy: 0.9086\n",
            "Epoch 38/100\n",
            "55/68 [=======================>......] - ETA: 0s - loss: 0.6666 - accuracy: 0.6672WARNING:tensorflow:Can save best model only with val_prc available, skipping.\n",
            "68/68 [==============================] - 0s 4ms/step - loss: 0.6677 - accuracy: 0.6667 - val_loss: 0.1827 - val_accuracy: 0.9086\n",
            "Epoch 39/100\n",
            "54/68 [======================>.......] - ETA: 0s - loss: 0.6651 - accuracy: 0.6675WARNING:tensorflow:Can save best model only with val_prc available, skipping.\n",
            "68/68 [==============================] - 0s 4ms/step - loss: 0.6670 - accuracy: 0.6666 - val_loss: 0.1827 - val_accuracy: 0.9086\n",
            "Epoch 40/100\n",
            "52/68 [=====================>........] - ETA: 0s - loss: 0.6670 - accuracy: 0.6667WARNING:tensorflow:Can save best model only with val_prc available, skipping.\n",
            "68/68 [==============================] - 0s 4ms/step - loss: 0.6672 - accuracy: 0.6667 - val_loss: 0.1827 - val_accuracy: 0.9086\n",
            "Epoch 41/100\n",
            "53/68 [======================>.......] - ETA: 0s - loss: 0.6679 - accuracy: 0.6663WARNING:tensorflow:Can save best model only with val_prc available, skipping.\n",
            "68/68 [==============================] - 0s 4ms/step - loss: 0.6672 - accuracy: 0.6667 - val_loss: 0.1827 - val_accuracy: 0.9086\n",
            "Epoch 42/100\n",
            "53/68 [======================>.......] - ETA: 0s - loss: 0.6631 - accuracy: 0.6686WARNING:tensorflow:Can save best model only with val_prc available, skipping.\n",
            "68/68 [==============================] - 0s 4ms/step - loss: 0.6669 - accuracy: 0.6667 - val_loss: 0.1827 - val_accuracy: 0.9086\n",
            "Epoch 43/100\n",
            "52/68 [=====================>........] - ETA: 0s - loss: 0.6624 - accuracy: 0.6691WARNING:tensorflow:Can save best model only with val_prc available, skipping.\n",
            "68/68 [==============================] - 0s 4ms/step - loss: 0.6675 - accuracy: 0.6666 - val_loss: 0.1827 - val_accuracy: 0.9086\n",
            "Epoch 44/100\n",
            "55/68 [=======================>......] - ETA: 0s - loss: 0.6657 - accuracy: 0.6675WARNING:tensorflow:Can save best model only with val_prc available, skipping.\n",
            "68/68 [==============================] - 0s 4ms/step - loss: 0.6674 - accuracy: 0.6667 - val_loss: 0.1827 - val_accuracy: 0.9086\n",
            "Epoch 45/100\n",
            "53/68 [======================>.......] - ETA: 0s - loss: 0.6664 - accuracy: 0.6672WARNING:tensorflow:Can save best model only with val_prc available, skipping.\n",
            "68/68 [==============================] - 0s 4ms/step - loss: 0.6676 - accuracy: 0.6667 - val_loss: 0.1827 - val_accuracy: 0.9086\n",
            "Epoch 46/100\n",
            "54/68 [======================>.......] - ETA: 0s - loss: 0.6700 - accuracy: 0.6654WARNING:tensorflow:Can save best model only with val_prc available, skipping.\n",
            "68/68 [==============================] - 0s 4ms/step - loss: 0.6675 - accuracy: 0.6667 - val_loss: 0.1827 - val_accuracy: 0.9086\n",
            "Epoch 47/100\n",
            "53/68 [======================>.......] - ETA: 0s - loss: 0.6689 - accuracy: 0.6658WARNING:tensorflow:Can save best model only with val_prc available, skipping.\n",
            "68/68 [==============================] - 0s 4ms/step - loss: 0.6672 - accuracy: 0.6667 - val_loss: 0.1827 - val_accuracy: 0.9086\n",
            "Epoch 48/100\n",
            "66/68 [============================>.] - ETA: 0s - loss: 0.6682 - accuracy: 0.6662WARNING:tensorflow:Can save best model only with val_prc available, skipping.\n",
            "68/68 [==============================] - 0s 4ms/step - loss: 0.6673 - accuracy: 0.6667 - val_loss: 0.1827 - val_accuracy: 0.9086\n",
            "Epoch 49/100\n",
            "68/68 [==============================] - ETA: 0s - loss: 0.6672 - accuracy: 0.6667WARNING:tensorflow:Can save best model only with val_prc available, skipping.\n",
            "68/68 [==============================] - 0s 4ms/step - loss: 0.6672 - accuracy: 0.6667 - val_loss: 0.1827 - val_accuracy: 0.9086\n",
            "Epoch 50/100\n",
            "68/68 [==============================] - ETA: 0s - loss: 0.6670 - accuracy: 0.6667WARNING:tensorflow:Can save best model only with val_prc available, skipping.\n",
            "68/68 [==============================] - 0s 4ms/step - loss: 0.6670 - accuracy: 0.6667 - val_loss: 0.1827 - val_accuracy: 0.9086\n",
            "Epoch 51/100\n",
            "52/68 [=====================>........] - ETA: 0s - loss: 0.6625 - accuracy: 0.6688WARNING:tensorflow:Can save best model only with val_prc available, skipping.\n",
            "68/68 [==============================] - 0s 4ms/step - loss: 0.6667 - accuracy: 0.6667 - val_loss: 0.1827 - val_accuracy: 0.9086\n",
            "Epoch 52/100\n",
            "66/68 [============================>.] - ETA: 0s - loss: 0.6673 - accuracy: 0.6666WARNING:tensorflow:Can save best model only with val_prc available, skipping.\n",
            "68/68 [==============================] - 0s 4ms/step - loss: 0.6672 - accuracy: 0.6667 - val_loss: 0.1827 - val_accuracy: 0.9086\n",
            "Epoch 53/100\n",
            "54/68 [======================>.......] - ETA: 0s - loss: 0.6660 - accuracy: 0.6672WARNING:tensorflow:Can save best model only with val_prc available, skipping.\n",
            "68/68 [==============================] - 0s 4ms/step - loss: 0.6670 - accuracy: 0.6666 - val_loss: 0.1827 - val_accuracy: 0.9086\n",
            "Epoch 54/100\n",
            "54/68 [======================>.......] - ETA: 0s - loss: 0.6691 - accuracy: 0.6657WARNING:tensorflow:Can save best model only with val_prc available, skipping.\n",
            "68/68 [==============================] - 0s 4ms/step - loss: 0.6673 - accuracy: 0.6667 - val_loss: 0.1827 - val_accuracy: 0.9086\n",
            "Epoch 55/100\n",
            "53/68 [======================>.......] - ETA: 0s - loss: 0.6694 - accuracy: 0.6655WARNING:tensorflow:Can save best model only with val_prc available, skipping.\n",
            "68/68 [==============================] - 0s 4ms/step - loss: 0.6670 - accuracy: 0.6667 - val_loss: 0.1827 - val_accuracy: 0.9086\n",
            "Epoch 56/100\n",
            "52/68 [=====================>........] - ETA: 0s - loss: 0.6691 - accuracy: 0.6656WARNING:tensorflow:Can save best model only with val_prc available, skipping.\n",
            "68/68 [==============================] - 0s 4ms/step - loss: 0.6668 - accuracy: 0.6667 - val_loss: 0.1827 - val_accuracy: 0.9086\n",
            "Epoch 57/100\n",
            "52/68 [=====================>........] - ETA: 0s - loss: 0.6649 - accuracy: 0.6676WARNING:tensorflow:Can save best model only with val_prc available, skipping.\n",
            "68/68 [==============================] - 0s 4ms/step - loss: 0.6668 - accuracy: 0.6667 - val_loss: 0.1827 - val_accuracy: 0.9086\n",
            "Epoch 58/100\n",
            "67/68 [============================>.] - ETA: 0s - loss: 0.6667 - accuracy: 0.6669WARNING:tensorflow:Can save best model only with val_prc available, skipping.\n",
            "68/68 [==============================] - 0s 4ms/step - loss: 0.6671 - accuracy: 0.6667 - val_loss: 0.1827 - val_accuracy: 0.9086\n",
            "Epoch 59/100\n",
            "55/68 [=======================>......] - ETA: 0s - loss: 0.6644 - accuracy: 0.6680WARNING:tensorflow:Can save best model only with val_prc available, skipping.\n",
            "68/68 [==============================] - 0s 4ms/step - loss: 0.6671 - accuracy: 0.6667 - val_loss: 0.1827 - val_accuracy: 0.9086\n",
            "Epoch 60/100\n",
            "52/68 [=====================>........] - ETA: 0s - loss: 0.6656 - accuracy: 0.6674WARNING:tensorflow:Can save best model only with val_prc available, skipping.\n",
            "68/68 [==============================] - 0s 4ms/step - loss: 0.6669 - accuracy: 0.6667 - val_loss: 0.1827 - val_accuracy: 0.9086\n",
            "Epoch 61/100\n",
            "55/68 [=======================>......] - ETA: 0s - loss: 0.6609 - accuracy: 0.6697WARNING:tensorflow:Can save best model only with val_prc available, skipping.\n",
            "68/68 [==============================] - 0s 4ms/step - loss: 0.6669 - accuracy: 0.6667 - val_loss: 0.1827 - val_accuracy: 0.9086\n",
            "Epoch 62/100\n",
            "67/68 [============================>.] - ETA: 0s - loss: 0.6671 - accuracy: 0.6666WARNING:tensorflow:Can save best model only with val_prc available, skipping.\n",
            "68/68 [==============================] - 0s 4ms/step - loss: 0.6669 - accuracy: 0.6667 - val_loss: 0.1827 - val_accuracy: 0.9086\n",
            "Epoch 63/100\n",
            "51/68 [=====================>........] - ETA: 0s - loss: 0.6720 - accuracy: 0.6641WARNING:tensorflow:Can save best model only with val_prc available, skipping.\n",
            "68/68 [==============================] - 0s 4ms/step - loss: 0.6668 - accuracy: 0.6667 - val_loss: 0.1827 - val_accuracy: 0.9086\n",
            "Epoch 64/100\n",
            "52/68 [=====================>........] - ETA: 0s - loss: 0.6632 - accuracy: 0.6685WARNING:tensorflow:Can save best model only with val_prc available, skipping.\n",
            "68/68 [==============================] - 0s 4ms/step - loss: 0.6669 - accuracy: 0.6667 - val_loss: 0.1827 - val_accuracy: 0.9086\n",
            "Epoch 65/100\n",
            "52/68 [=====================>........] - ETA: 0s - loss: 0.6762 - accuracy: 0.6620WARNING:tensorflow:Can save best model only with val_prc available, skipping.\n",
            "68/68 [==============================] - 0s 4ms/step - loss: 0.6669 - accuracy: 0.6667 - val_loss: 0.1827 - val_accuracy: 0.9086\n",
            "Epoch 66/100\n",
            "52/68 [=====================>........] - ETA: 0s - loss: 0.6628 - accuracy: 0.6687WARNING:tensorflow:Can save best model only with val_prc available, skipping.\n",
            "68/68 [==============================] - 0s 4ms/step - loss: 0.6669 - accuracy: 0.6667 - val_loss: 0.1827 - val_accuracy: 0.9086\n",
            "Epoch 67/100\n",
            "54/68 [======================>.......] - ETA: 0s - loss: 0.6677 - accuracy: 0.6664WARNING:tensorflow:Can save best model only with val_prc available, skipping.\n",
            "68/68 [==============================] - 0s 4ms/step - loss: 0.6670 - accuracy: 0.6667 - val_loss: 0.1827 - val_accuracy: 0.9086\n",
            "Epoch 68/100\n",
            "55/68 [=======================>......] - ETA: 0s - loss: 0.6696 - accuracy: 0.6653WARNING:tensorflow:Can save best model only with val_prc available, skipping.\n",
            "68/68 [==============================] - 0s 4ms/step - loss: 0.6669 - accuracy: 0.6667 - val_loss: 0.1827 - val_accuracy: 0.9086\n",
            "Epoch 69/100\n",
            "54/68 [======================>.......] - ETA: 0s - loss: 0.6639 - accuracy: 0.6682WARNING:tensorflow:Can save best model only with val_prc available, skipping.\n",
            "68/68 [==============================] - 0s 4ms/step - loss: 0.6669 - accuracy: 0.6666 - val_loss: 0.1827 - val_accuracy: 0.9086\n",
            "Epoch 70/100\n",
            "54/68 [======================>.......] - ETA: 0s - loss: 0.6738 - accuracy: 0.6633WARNING:tensorflow:Can save best model only with val_prc available, skipping.\n",
            "68/68 [==============================] - 0s 4ms/step - loss: 0.6670 - accuracy: 0.6667 - val_loss: 0.1827 - val_accuracy: 0.9086\n",
            "Epoch 71/100\n",
            "53/68 [======================>.......] - ETA: 0s - loss: 0.6679 - accuracy: 0.6663WARNING:tensorflow:Can save best model only with val_prc available, skipping.\n",
            "68/68 [==============================] - 0s 4ms/step - loss: 0.6670 - accuracy: 0.6667 - val_loss: 0.1827 - val_accuracy: 0.9086\n",
            "Epoch 72/100\n",
            "67/68 [============================>.] - ETA: 0s - loss: 0.6674 - accuracy: 0.6664WARNING:tensorflow:Can save best model only with val_prc available, skipping.\n",
            "68/68 [==============================] - 0s 4ms/step - loss: 0.6669 - accuracy: 0.6667 - val_loss: 0.1827 - val_accuracy: 0.9086\n",
            "Epoch 73/100\n",
            "68/68 [==============================] - ETA: 0s - loss: 0.6669 - accuracy: 0.6667WARNING:tensorflow:Can save best model only with val_prc available, skipping.\n",
            "68/68 [==============================] - 0s 4ms/step - loss: 0.6669 - accuracy: 0.6667 - val_loss: 0.1827 - val_accuracy: 0.9086\n",
            "Epoch 74/100\n",
            "53/68 [======================>.......] - ETA: 0s - loss: 0.6688 - accuracy: 0.6656WARNING:tensorflow:Can save best model only with val_prc available, skipping.\n",
            "68/68 [==============================] - 0s 4ms/step - loss: 0.6667 - accuracy: 0.6667 - val_loss: 0.1827 - val_accuracy: 0.9086\n",
            "Epoch 75/100\n",
            "52/68 [=====================>........] - ETA: 0s - loss: 0.6721 - accuracy: 0.6641WARNING:tensorflow:Can save best model only with val_prc available, skipping.\n",
            "68/68 [==============================] - 0s 4ms/step - loss: 0.6670 - accuracy: 0.6667 - val_loss: 0.1827 - val_accuracy: 0.9086\n",
            "Epoch 76/100\n",
            "53/68 [======================>.......] - ETA: 0s - loss: 0.6674 - accuracy: 0.6665WARNING:tensorflow:Can save best model only with val_prc available, skipping.\n",
            "68/68 [==============================] - 0s 4ms/step - loss: 0.6670 - accuracy: 0.6667 - val_loss: 0.1827 - val_accuracy: 0.9086\n",
            "Epoch 77/100\n",
            "52/68 [=====================>........] - ETA: 0s - loss: 0.6682 - accuracy: 0.6659WARNING:tensorflow:Can save best model only with val_prc available, skipping.\n",
            "68/68 [==============================] - 0s 4ms/step - loss: 0.6668 - accuracy: 0.6667 - val_loss: 0.1827 - val_accuracy: 0.9086\n",
            "Epoch 78/100\n",
            "52/68 [=====================>........] - ETA: 0s - loss: 0.6671 - accuracy: 0.6665WARNING:tensorflow:Can save best model only with val_prc available, skipping.\n",
            "68/68 [==============================] - 0s 4ms/step - loss: 0.6669 - accuracy: 0.6667 - val_loss: 0.1827 - val_accuracy: 0.9086\n",
            "Epoch 79/100\n",
            "67/68 [============================>.] - ETA: 0s - loss: 0.6675 - accuracy: 0.6665WARNING:tensorflow:Can save best model only with val_prc available, skipping.\n",
            "68/68 [==============================] - 0s 4ms/step - loss: 0.6670 - accuracy: 0.6667 - val_loss: 0.1827 - val_accuracy: 0.9086\n",
            "Epoch 80/100\n",
            "68/68 [==============================] - ETA: 0s - loss: 0.6671 - accuracy: 0.6667WARNING:tensorflow:Can save best model only with val_prc available, skipping.\n",
            "68/68 [==============================] - 0s 4ms/step - loss: 0.6671 - accuracy: 0.6667 - val_loss: 0.1827 - val_accuracy: 0.9086\n",
            "Epoch 81/100\n",
            "66/68 [============================>.] - ETA: 0s - loss: 0.6672 - accuracy: 0.6665WARNING:tensorflow:Can save best model only with val_prc available, skipping.\n",
            "68/68 [==============================] - 0s 4ms/step - loss: 0.6671 - accuracy: 0.6666 - val_loss: 0.1827 - val_accuracy: 0.9086\n",
            "Epoch 82/100\n",
            "68/68 [==============================] - ETA: 0s - loss: 0.6666 - accuracy: 0.6667WARNING:tensorflow:Can save best model only with val_prc available, skipping.\n",
            "68/68 [==============================] - 0s 4ms/step - loss: 0.6666 - accuracy: 0.6667 - val_loss: 0.1827 - val_accuracy: 0.9086\n",
            "Epoch 83/100\n",
            "52/68 [=====================>........] - ETA: 0s - loss: 0.6707 - accuracy: 0.6648WARNING:tensorflow:Can save best model only with val_prc available, skipping.\n",
            "68/68 [==============================] - 0s 4ms/step - loss: 0.6670 - accuracy: 0.6667 - val_loss: 0.1827 - val_accuracy: 0.9086\n",
            "Epoch 84/100\n",
            "67/68 [============================>.] - ETA: 0s - loss: 0.6668 - accuracy: 0.6666WARNING:tensorflow:Can save best model only with val_prc available, skipping.\n",
            "68/68 [==============================] - 0s 4ms/step - loss: 0.6667 - accuracy: 0.6667 - val_loss: 0.1827 - val_accuracy: 0.9086\n",
            "Epoch 85/100\n",
            "53/68 [======================>.......] - ETA: 0s - loss: 0.6625 - accuracy: 0.6688WARNING:tensorflow:Can save best model only with val_prc available, skipping.\n",
            "68/68 [==============================] - 0s 4ms/step - loss: 0.6667 - accuracy: 0.6667 - val_loss: 0.1827 - val_accuracy: 0.9086\n",
            "Epoch 86/100\n",
            "53/68 [======================>.......] - ETA: 0s - loss: 0.6614 - accuracy: 0.6694WARNING:tensorflow:Can save best model only with val_prc available, skipping.\n",
            "68/68 [==============================] - 0s 4ms/step - loss: 0.6669 - accuracy: 0.6667 - val_loss: 0.1827 - val_accuracy: 0.9086\n",
            "Epoch 87/100\n",
            "52/68 [=====================>........] - ETA: 0s - loss: 0.6622 - accuracy: 0.6689WARNING:tensorflow:Can save best model only with val_prc available, skipping.\n",
            "68/68 [==============================] - 0s 4ms/step - loss: 0.6668 - accuracy: 0.6667 - val_loss: 0.1827 - val_accuracy: 0.9086\n",
            "Epoch 88/100\n",
            "53/68 [======================>.......] - ETA: 0s - loss: 0.6640 - accuracy: 0.6680WARNING:tensorflow:Can save best model only with val_prc available, skipping.\n",
            "68/68 [==============================] - 0s 4ms/step - loss: 0.6669 - accuracy: 0.6667 - val_loss: 0.1827 - val_accuracy: 0.9086\n",
            "Epoch 89/100\n",
            "66/68 [============================>.] - ETA: 0s - loss: 0.6670 - accuracy: 0.6665WARNING:tensorflow:Can save best model only with val_prc available, skipping.\n",
            "68/68 [==============================] - 0s 4ms/step - loss: 0.6668 - accuracy: 0.6667 - val_loss: 0.1827 - val_accuracy: 0.9086\n",
            "Epoch 90/100\n",
            "66/68 [============================>.] - ETA: 0s - loss: 0.6665 - accuracy: 0.6669WARNING:tensorflow:Can save best model only with val_prc available, skipping.\n",
            "68/68 [==============================] - 0s 4ms/step - loss: 0.6669 - accuracy: 0.6667 - val_loss: 0.1827 - val_accuracy: 0.9086\n",
            "Epoch 91/100\n",
            "66/68 [============================>.] - ETA: 0s - loss: 0.6687 - accuracy: 0.6658WARNING:tensorflow:Can save best model only with val_prc available, skipping.\n",
            "68/68 [==============================] - 0s 4ms/step - loss: 0.6669 - accuracy: 0.6667 - val_loss: 0.1827 - val_accuracy: 0.9086\n",
            "Epoch 92/100\n",
            "67/68 [============================>.] - ETA: 0s - loss: 0.6670 - accuracy: 0.6666WARNING:tensorflow:Can save best model only with val_prc available, skipping.\n",
            "68/68 [==============================] - 0s 4ms/step - loss: 0.6668 - accuracy: 0.6667 - val_loss: 0.1827 - val_accuracy: 0.9086\n",
            "Epoch 93/100\n",
            "52/68 [=====================>........] - ETA: 0s - loss: 0.6664 - accuracy: 0.6669WARNING:tensorflow:Can save best model only with val_prc available, skipping.\n",
            "68/68 [==============================] - 0s 4ms/step - loss: 0.6669 - accuracy: 0.6667 - val_loss: 0.1827 - val_accuracy: 0.9086\n",
            "Epoch 94/100\n",
            "66/68 [============================>.] - ETA: 0s - loss: 0.6676 - accuracy: 0.6663WARNING:tensorflow:Can save best model only with val_prc available, skipping.\n",
            "68/68 [==============================] - 0s 4ms/step - loss: 0.6669 - accuracy: 0.6667 - val_loss: 0.1827 - val_accuracy: 0.9086\n",
            "Epoch 95/100\n",
            "68/68 [==============================] - ETA: 0s - loss: 0.6669 - accuracy: 0.6667WARNING:tensorflow:Can save best model only with val_prc available, skipping.\n",
            "68/68 [==============================] - 0s 4ms/step - loss: 0.6669 - accuracy: 0.6667 - val_loss: 0.1827 - val_accuracy: 0.9086\n",
            "Epoch 96/100\n",
            "65/68 [===========================>..] - ETA: 0s - loss: 0.6683 - accuracy: 0.6660WARNING:tensorflow:Can save best model only with val_prc available, skipping.\n",
            "68/68 [==============================] - 0s 4ms/step - loss: 0.6670 - accuracy: 0.6667 - val_loss: 0.1827 - val_accuracy: 0.9086\n",
            "Epoch 97/100\n",
            "52/68 [=====================>........] - ETA: 0s - loss: 0.6703 - accuracy: 0.6650WARNING:tensorflow:Can save best model only with val_prc available, skipping.\n",
            "68/68 [==============================] - 0s 4ms/step - loss: 0.6669 - accuracy: 0.6667 - val_loss: 0.1827 - val_accuracy: 0.9086\n",
            "Epoch 98/100\n",
            "68/68 [==============================] - ETA: 0s - loss: 0.6668 - accuracy: 0.6667WARNING:tensorflow:Can save best model only with val_prc available, skipping.\n",
            "68/68 [==============================] - 0s 4ms/step - loss: 0.6668 - accuracy: 0.6667 - val_loss: 0.1827 - val_accuracy: 0.9086\n",
            "Epoch 99/100\n",
            "54/68 [======================>.......] - ETA: 0s - loss: 0.6701 - accuracy: 0.6651WARNING:tensorflow:Can save best model only with val_prc available, skipping.\n",
            "68/68 [==============================] - 0s 4ms/step - loss: 0.6669 - accuracy: 0.6667 - val_loss: 0.1827 - val_accuracy: 0.9086\n",
            "Epoch 100/100\n",
            "51/68 [=====================>........] - ETA: 0s - loss: 0.6707 - accuracy: 0.6648WARNING:tensorflow:Can save best model only with val_prc available, skipping.\n",
            "68/68 [==============================] - 0s 4ms/step - loss: 0.6669 - accuracy: 0.6667 - val_loss: 0.1827 - val_accuracy: 0.9086\n"
          ]
        }
      ],
      "source": [
        "checkpoint_filepath = 'best.hdf5'\n",
        "model = classifierModel()\n",
        "# monitor=\"val_loss\"\n",
        "# class_weight = {0: 0.55, 1: 2.74}\n",
        "model_checkpoint_callback = tf.keras.callbacks.ModelCheckpoint(filepath=checkpoint_filepath,monitor='val_prc',save_best_only=True, verbose=1)\n",
        "history = model.fit( x = X_train, y = y_train, batch_size=256, epochs=100, callbacks=[model_checkpoint_callback], validation_data = [X_test, y_test])"
      ]
    },
    {
      "cell_type": "code",
      "execution_count": null,
      "metadata": {
        "colab": {
          "base_uri": "https://localhost:8080/"
        },
        "id": "82_FrCZqLiQk",
        "outputId": "6cb50e32-feeb-458a-d0f4-27e1f76e34a5"
      },
      "outputs": [
        {
          "name": "stdout",
          "output_type": "stream",
          "text": [
            "Model: \"sequential_5\"\n",
            "_________________________________________________________________\n",
            " Layer (type)                Output Shape              Param #   \n",
            "=================================================================\n",
            " dense_21 (Dense)            (None, 64)                8256      \n",
            "                                                                 \n",
            " dropout_21 (Dropout)        (None, 64)                0         \n",
            "                                                                 \n",
            " dense_22 (Dense)            (None, 32)                2080      \n",
            "                                                                 \n",
            " dropout_22 (Dropout)        (None, 32)                0         \n",
            "                                                                 \n",
            " dense_23 (Dense)            (None, 8)                 264       \n",
            "                                                                 \n",
            " dropout_23 (Dropout)        (None, 8)                 0         \n",
            "                                                                 \n",
            " dense_24 (Dense)            (None, 1)                 9         \n",
            "                                                                 \n",
            "=================================================================\n",
            "Total params: 10,609\n",
            "Trainable params: 10,609\n",
            "Non-trainable params: 0\n",
            "_________________________________________________________________\n"
          ]
        }
      ],
      "source": [
        "checkpoint_filepath = 'best.hdf5'\n",
        "model = classifierModel()\n",
        "model.load_weights(checkpoint_filepath)"
      ]
    },
    {
      "cell_type": "code",
      "execution_count": null,
      "metadata": {
        "colab": {
          "base_uri": "https://localhost:8080/",
          "height": 200
        },
        "id": "g8KEHtGpfrNt",
        "outputId": "5e3df183-103d-4ad9-d06d-f1ab347e870b"
      },
      "outputs": [
        {
          "name": "stdout",
          "output_type": "stream",
          "text": [
            "171/171 [==============================] - 0s 2ms/step - loss: 0.1421\n"
          ]
        },
        {
          "ename": "TypeError",
          "evalue": "ignored",
          "output_type": "error",
          "traceback": [
            "\u001b[0;31m---------------------------------------------------------------------------\u001b[0m",
            "\u001b[0;31mTypeError\u001b[0m                                 Traceback (most recent call last)",
            "\u001b[0;32m<ipython-input-29-48c24c1ae149>\u001b[0m in \u001b[0;36m<module>\u001b[0;34m()\u001b[0m\n\u001b[1;32m      1\u001b[0m \u001b[0mscore\u001b[0m \u001b[0;34m=\u001b[0m \u001b[0mmodel\u001b[0m\u001b[0;34m.\u001b[0m\u001b[0mevaluate\u001b[0m\u001b[0;34m(\u001b[0m\u001b[0mX_test\u001b[0m\u001b[0;34m,\u001b[0m \u001b[0my_test\u001b[0m\u001b[0;34m,\u001b[0m \u001b[0mverbose\u001b[0m\u001b[0;34m=\u001b[0m\u001b[0;36m1\u001b[0m\u001b[0;34m)\u001b[0m\u001b[0;34m\u001b[0m\u001b[0;34m\u001b[0m\u001b[0m\n\u001b[0;32m----> 2\u001b[0;31m \u001b[0mprint\u001b[0m\u001b[0;34m(\u001b[0m\u001b[0;34mf'Test loss: {score[0]} / Test accuracy: {score[1]}'\u001b[0m\u001b[0;34m)\u001b[0m\u001b[0;34m\u001b[0m\u001b[0;34m\u001b[0m\u001b[0m\n\u001b[0m",
            "\u001b[0;31mTypeError\u001b[0m: 'float' object is not subscriptable"
          ]
        }
      ],
      "source": [
        "score = model.evaluate(X_test, y_test, verbose=1)\n",
        "print(f'Test loss: {score[0]} / Test accuracy: {score[1]}')"
      ]
    },
    {
      "cell_type": "code",
      "execution_count": null,
      "metadata": {
        "colab": {
          "base_uri": "https://localhost:8080/",
          "height": 296
        },
        "id": "lrn12kGk3hlp",
        "outputId": "10d0b834-85fe-41fb-ebec-36856eed629f"
      },
      "outputs": [
        {
          "data": {
            "text/plain": [
              "Text(33.0, 0.5, 'Actual')"
            ]
          },
          "execution_count": 39,
          "metadata": {},
          "output_type": "execute_result"
        },
        {
          "data": {
            "image/png": "[encoded data removed]",
            "text/plain": [
              "<Figure size 432x288 with 2 Axes>"
            ]
          },
          "metadata": {
            "needs_background": "light"
          },
          "output_type": "display_data"
        }
      ],
      "source": [
        "import seaborn as sns\n",
        "import matplotlib.pyplot as plt\n",
        "from sklearn.metrics import confusion_matrix\n",
        "from sklearn.metrics import classification_report\n",
        "\n",
        "y_pred = model.predict(X_test)\n",
        "\n",
        "matrix = confusion_matrix(y_test, np.round(y_pred))\n",
        "sns.heatmap(matrix, annot=True, fmt='.0f', cmap='Blues', yticklabels=['non-vul', 'vul'],xticklabels=['non-vul', 'vul'])\n",
        "plt.xlabel(\"Predicted\")\n",
        "plt.ylabel(\"Actual\") "
      ]
    },
    {
      "cell_type": "code",
      "execution_count": null,
      "metadata": {
        "colab": {
          "base_uri": "https://localhost:8080/"
        },
        "id": "2Gb1yCmqlSoz",
        "outputId": "5925c79b-306d-41b5-cc23-616174da7f47"
      },
      "outputs": [
        {
          "name": "stdout",
          "output_type": "stream",
          "text": [
            "              precision    recall  f1-score   support\n",
            "\n",
            "        -1.0       0.00      0.00      0.00         0\n",
            "         0.0       0.91      1.00      0.95      4953\n",
            "         1.0       0.00      0.00      0.00       498\n",
            "\n",
            "    accuracy                           0.91      5451\n",
            "   macro avg       0.30      0.33      0.32      5451\n",
            "weighted avg       0.83      0.91      0.87      5451\n",
            "\n"
          ]
        },
        {
          "name": "stderr",
          "output_type": "stream",
          "text": [
            "/usr/local/lib/python3.7/dist-packages/sklearn/metrics/_classification.py:1318: UndefinedMetricWarning: Precision and F-score are ill-defined and being set to 0.0 in labels with no predicted samples. Use `zero_division` parameter to control this behavior.\n",
            "  _warn_prf(average, modifier, msg_start, len(result))\n",
            "/usr/local/lib/python3.7/dist-packages/sklearn/metrics/_classification.py:1318: UndefinedMetricWarning: Recall and F-score are ill-defined and being set to 0.0 in labels with no true samples. Use `zero_division` parameter to control this behavior.\n",
            "  _warn_prf(average, modifier, msg_start, len(result))\n",
            "/usr/local/lib/python3.7/dist-packages/sklearn/metrics/_classification.py:1318: UndefinedMetricWarning: Precision and F-score are ill-defined and being set to 0.0 in labels with no predicted samples. Use `zero_division` parameter to control this behavior.\n",
            "  _warn_prf(average, modifier, msg_start, len(result))\n",
            "/usr/local/lib/python3.7/dist-packages/sklearn/metrics/_classification.py:1318: UndefinedMetricWarning: Recall and F-score are ill-defined and being set to 0.0 in labels with no true samples. Use `zero_division` parameter to control this behavior.\n",
            "  _warn_prf(average, modifier, msg_start, len(result))\n",
            "/usr/local/lib/python3.7/dist-packages/sklearn/metrics/_classification.py:1318: UndefinedMetricWarning: Precision and F-score are ill-defined and being set to 0.0 in labels with no predicted samples. Use `zero_division` parameter to control this behavior.\n",
            "  _warn_prf(average, modifier, msg_start, len(result))\n",
            "/usr/local/lib/python3.7/dist-packages/sklearn/metrics/_classification.py:1318: UndefinedMetricWarning: Recall and F-score are ill-defined and being set to 0.0 in labels with no true samples. Use `zero_division` parameter to control this behavior.\n",
            "  _warn_prf(average, modifier, msg_start, len(result))\n"
          ]
        }
      ],
      "source": [
        "print(classification_report(y_test, np.round(y_pred)))"
      ]
    },
    {
      "cell_type": "code",
      "execution_count": null,
      "metadata": {
        "id": "3oiLjXAVOxVr"
      },
      "outputs": [],
      "source": []
    },
    {
      "cell_type": "markdown",
      "metadata": {
        "id": "AchTtBIFkHvg"
      },
      "source": [
        "## Representation learning with class weight"
      ]
    },
    {
      "cell_type": "code",
      "execution_count": null,
      "metadata": {
        "colab": {
          "base_uri": "https://localhost:8080/"
        },
        "id": "nmw38OvLkYQo",
        "outputId": "9a06c58d-7e46-4e22-cf63-12447ca2afec"
      },
      "outputs": [
        {
          "name": "stdout",
          "output_type": "stream",
          "text": [
            "Weight for class 0: 0.55\n",
            "Weight for class 1: 5.48\n"
          ]
        }
      ],
      "source": [
        "# Scaling by total/2 helps keep the loss to a similar magnitude.\n",
        "# The sum of the weights of all examples stays the same.\n",
        "total = len(y_train)\n",
        "# y_train = y_train.argmax(axis=1)\n",
        "# y_test = y_test.argmax(axis=1)\n",
        "neg = (y_train == 0).sum()\n",
        "pos = (y_train == 1).sum()\n",
        "weight_for_0 = (1 / neg) * (total / 2.0)\n",
        "weight_for_1 = (1 / pos) * (total / 2.0)\n",
        "\n",
        "class_weight = {0: weight_for_0, 1: weight_for_1}\n",
        "\n",
        "\n",
        "print('Weight for class 0: {:.2f}'.format(weight_for_0))\n",
        "print('Weight for class 1: {:.2f}'.format(weight_for_1))"
      ]
    },
    {
      "cell_type": "code",
      "execution_count": null,
      "metadata": {
        "id": "Qr8-WcFBkRTQ"
      },
      "outputs": [],
      "source": [
        "import tensorflow as tf\n",
        "from tensorflow.keras.models import Sequential\n",
        "from tensorflow.keras import Model\n",
        "from tensorflow.keras.layers import Dense, Conv2D, MaxPooling2D, Dropout, Flatten, GlobalAveragePooling1D,Input,concatenate,Concatenate\n",
        "from stellargraph.layer.gcn import GraphConvolution\n",
        "import tensorflow_addons as tfa\n",
        "\n",
        "# Model CNN cũ\n",
        "# Sửa lại padding = same cho tất cả các Conv layer\n",
        "# Thêm 1 block Conv\n",
        "def create_cnn_model():\n",
        "    model = Sequential()\n",
        "    model.add(Conv2D(32, (3, 3), padding='same', activation='relu', input_shape=(n_node_max,n_node_max, 1)))\n",
        "    model.add(Conv2D(32, (3, 3), padding='same', activation='relu'))\n",
        "    model.add(MaxPooling2D(pool_size=(2, 2)))\n",
        "    model.add(Dropout(0.25))\n",
        "\n",
        "    model.add(Conv2D(64, (3, 3), padding='same', activation='relu'))\n",
        "    model.add(Conv2D(64, (3, 3), padding='same', activation='relu'))\n",
        "    model.add(MaxPooling2D(pool_size=(2, 2)))\n",
        "    model.add(Dropout(0.25))\n",
        "\n",
        "    model.add(Conv2D(128, (3, 3), padding='same', activation='relu'))\n",
        "    model.add(Conv2D(128, (3, 3), padding='same', activation='relu'))\n",
        "    model.add(MaxPooling2D(pool_size=(2, 2)))\n",
        "    model.add(Dropout(0.25))\n",
        "\n",
        "    model.add(Conv2D(256, (3, 3), padding='same', activation='relu'))\n",
        "    model.add(Conv2D(256, (3, 3), padding='same', activation='relu'))\n",
        "    model.add(MaxPooling2D(pool_size=(2, 2)))\n",
        "    model.add(Dropout(0.25))\n",
        "\n",
        "    model.add(Conv2D(64, (1, 1), padding='same', activation='relu'))\n",
        "    model.add(Flatten())\n",
        "\n",
        "    model.add(Dense(64, activation='relu'))\n",
        "    model.add(Dropout(0.25))\n",
        "    \n",
        "    return model\n",
        "\n",
        "def create_gcn_model():\n",
        "    x_features = Input(shape=( n_node_max, n_node_feature))\n",
        "    x_adjacency = Input(shape=( n_node_max, n_node_max))\n",
        "    out = Dropout(0.5)(x_features)\n",
        "    out = GraphConvolution(32, activation='relu', \n",
        "                        use_bias=True\n",
        "                        )([out, x_adjacency])\n",
        "    out = Dropout(0.5)(out)\n",
        "    out = GraphConvolution(32, activation='relu', \n",
        "                        use_bias=True\n",
        "                        )([out, x_adjacency])\n",
        "\n",
        "    # out = GlobalAveragePooling1D()(out)\n",
        "    out = Flatten()(out)\n",
        "    out = Dense(64, activation='relu')(out)\n",
        "    out = Dropout(.25)(out)\n",
        "\n",
        "    model = Model(inputs=[x_features, x_adjacency], outputs=out)\n",
        "\n",
        "    return model"
      ]
    },
    {
      "cell_type": "code",
      "execution_count": null,
      "metadata": {
        "id": "O-mFw29lkRTT"
      },
      "outputs": [],
      "source": [
        "METRICS = [\n",
        "      tf.keras.metrics.TruePositives(name='tp'),\n",
        "      tf.keras.metrics.FalsePositives(name='fp'),\n",
        "      tf.keras.metrics.TrueNegatives(name='tn'),\n",
        "      tf.keras.metrics.FalseNegatives(name='fn'), \n",
        "      tf.keras.metrics.BinaryAccuracy(name='accuracy'),\n",
        "      tf.keras.metrics.Precision(name='precision'),\n",
        "      tf.keras.metrics.Recall(name='recall'),\n",
        "      tf.keras.metrics.AUC(name='auc'),\n",
        "      tf.keras.metrics.AUC(name='prc', curve='PR'), # precision-recall curve\n",
        "  ]\n"
      ]
    },
    {
      "cell_type": "code",
      "execution_count": null,
      "metadata": {
        "id": "hrT7wMlOkRTU"
      },
      "outputs": [],
      "source": [
        "def create_model() : \n",
        "  model1 = create_cnn_model()\n",
        "  model2 = create_gcn_model()\n",
        "\n",
        "  \n",
        "  out = Concatenate()([model1.output,model2.output])\n",
        "  # out = Flatten()(out)    \n",
        "  out = Dense(64, activation='relu')(out)\n",
        "  out = Dropout(.5)(out)\n",
        "  out = Dense(32, activation='relu')(out)\n",
        "  out = Dense(n_class, activation='sigmoid')(out)\n",
        "\n",
        "  model = Model([model1.input,model2.input], out)\n",
        "  model.compile(optimizer=tf.keras.optimizers.Adam(), loss=tf.keras.losses.BinaryCrossentropy(), metrics=METRICS)\n",
        "  model.summary()\n",
        "  return model"
      ]
    },
    {
      "cell_type": "code",
      "execution_count": null,
      "metadata": {
        "colab": {
          "base_uri": "https://localhost:8080/"
        },
        "id": "4sI0Mnb2kRTV",
        "outputId": "2c2fc8d9-d650-47db-9681-539cd5f8beaf"
      },
      "outputs": [
        {
          "name": "stdout",
          "output_type": "stream",
          "text": [
            "Model: \"model_7\"\n",
            "__________________________________________________________________________________________________\n",
            " Layer (type)                   Output Shape         Param #     Connected to                     \n",
            "==================================================================================================\n",
            " conv2d_18_input (InputLayer)   [(None, 112, 112, 1  0           []                               \n",
            "                                )]                                                                \n",
            "                                                                                                  \n",
            " conv2d_18 (Conv2D)             (None, 112, 112, 32  320         ['conv2d_18_input[0][0]']        \n",
            "                                )                                                                 \n",
            "                                                                                                  \n",
            " conv2d_19 (Conv2D)             (None, 112, 112, 32  9248        ['conv2d_18[0][0]']              \n",
            "                                )                                                                 \n",
            "                                                                                                  \n",
            " max_pooling2d_8 (MaxPooling2D)  (None, 56, 56, 32)  0           ['conv2d_19[0][0]']              \n",
            "                                                                                                  \n",
            " dropout_60 (Dropout)           (None, 56, 56, 32)   0           ['max_pooling2d_8[0][0]']        \n",
            "                                                                                                  \n",
            " conv2d_20 (Conv2D)             (None, 56, 56, 64)   18496       ['dropout_60[0][0]']             \n",
            "                                                                                                  \n",
            " conv2d_21 (Conv2D)             (None, 56, 56, 64)   36928       ['conv2d_20[0][0]']              \n",
            "                                                                                                  \n",
            " max_pooling2d_9 (MaxPooling2D)  (None, 28, 28, 64)  0           ['conv2d_21[0][0]']              \n",
            "                                                                                                  \n",
            " dropout_61 (Dropout)           (None, 28, 28, 64)   0           ['max_pooling2d_9[0][0]']        \n",
            "                                                                                                  \n",
            " conv2d_22 (Conv2D)             (None, 28, 28, 128)  73856       ['dropout_61[0][0]']             \n",
            "                                                                                                  \n",
            " conv2d_23 (Conv2D)             (None, 28, 28, 128)  147584      ['conv2d_22[0][0]']              \n",
            "                                                                                                  \n",
            " max_pooling2d_10 (MaxPooling2D  (None, 14, 14, 128)  0          ['conv2d_23[0][0]']              \n",
            " )                                                                                                \n",
            "                                                                                                  \n",
            " dropout_62 (Dropout)           (None, 14, 14, 128)  0           ['max_pooling2d_10[0][0]']       \n",
            "                                                                                                  \n",
            " conv2d_24 (Conv2D)             (None, 14, 14, 256)  295168      ['dropout_62[0][0]']             \n",
            "                                                                                                  \n",
            " input_19 (InputLayer)          [(None, 112, 134)]   0           []                               \n",
            "                                                                                                  \n",
            " conv2d_25 (Conv2D)             (None, 14, 14, 256)  590080      ['conv2d_24[0][0]']              \n",
            "                                                                                                  \n",
            " dropout_65 (Dropout)           (None, 112, 134)     0           ['input_19[0][0]']               \n",
            "                                                                                                  \n",
            " input_20 (InputLayer)          [(None, 112, 112)]   0           []                               \n",
            "                                                                                                  \n",
            " max_pooling2d_11 (MaxPooling2D  (None, 7, 7, 256)   0           ['conv2d_25[0][0]']              \n",
            " )                                                                                                \n",
            "                                                                                                  \n",
            " graph_convolution_4 (GraphConv  (None, 112, 32)     4320        ['dropout_65[0][0]',             \n",
            " olution)                                                         'input_20[0][0]']               \n",
            "                                                                                                  \n",
            " dropout_63 (Dropout)           (None, 7, 7, 256)    0           ['max_pooling2d_11[0][0]']       \n",
            "                                                                                                  \n",
            " dropout_66 (Dropout)           (None, 112, 32)      0           ['graph_convolution_4[0][0]']    \n",
            "                                                                                                  \n",
            " conv2d_26 (Conv2D)             (None, 7, 7, 64)     16448       ['dropout_63[0][0]']             \n",
            "                                                                                                  \n",
            " graph_convolution_5 (GraphConv  (None, 112, 32)     1056        ['dropout_66[0][0]',             \n",
            " olution)                                                         'input_20[0][0]']               \n",
            "                                                                                                  \n",
            " flatten_4 (Flatten)            (None, 3136)         0           ['conv2d_26[0][0]']              \n",
            "                                                                                                  \n",
            " flatten_5 (Flatten)            (None, 3584)         0           ['graph_convolution_5[0][0]']    \n",
            "                                                                                                  \n",
            " dense_66 (Dense)               (None, 64)           200768      ['flatten_4[0][0]']              \n",
            "                                                                                                  \n",
            " dense_67 (Dense)               (None, 64)           229440      ['flatten_5[0][0]']              \n",
            "                                                                                                  \n",
            " dropout_64 (Dropout)           (None, 64)           0           ['dense_66[0][0]']               \n",
            "                                                                                                  \n",
            " dropout_67 (Dropout)           (None, 64)           0           ['dense_67[0][0]']               \n",
            "                                                                                                  \n",
            " concatenate_2 (Concatenate)    (None, 128)          0           ['dropout_64[0][0]',             \n",
            "                                                                  'dropout_67[0][0]']             \n",
            "                                                                                                  \n",
            " dense_68 (Dense)               (None, 64)           8256        ['concatenate_2[0][0]']          \n",
            "                                                                                                  \n",
            " dropout_68 (Dropout)           (None, 64)           0           ['dense_68[0][0]']               \n",
            "                                                                                                  \n",
            " dense_69 (Dense)               (None, 32)           2080        ['dropout_68[0][0]']             \n",
            "                                                                                                  \n",
            " dense_70 (Dense)               (None, 1)            33          ['dense_69[0][0]']               \n",
            "                                                                                                  \n",
            "==================================================================================================\n",
            "Total params: 1,634,081\n",
            "Trainable params: 1,634,081\n",
            "Non-trainable params: 0\n",
            "__________________________________________________________________________________________________\n",
            "Epoch 1/100\n",
            "50/50 [==============================] - ETA: 0s - loss: 0.6770 - tp: 717.0000 - fp: 4762.0000 - tn: 6796.0000 - fn: 443.0000 - accuracy: 0.5907 - precision: 0.1309 - recall: 0.6181 - auc: 0.6434 - prc: 0.1335WARNING:tensorflow:Early stopping conditioned on metric `val_prc` which is not available. Available metrics are: loss,tp,fp,tn,fn,accuracy,precision,recall,auc,prc\n",
            "50/50 [==============================] - 11s 157ms/step - loss: 0.6770 - tp: 717.0000 - fp: 4762.0000 - tn: 6796.0000 - fn: 443.0000 - accuracy: 0.5907 - precision: 0.1309 - recall: 0.6181 - auc: 0.6434 - prc: 0.1335\n",
            "Epoch 2/100\n",
            "50/50 [==============================] - ETA: 0s - loss: 0.6446 - tp: 764.0000 - fp: 4358.0000 - tn: 7200.0000 - fn: 396.0000 - accuracy: 0.6262 - precision: 0.1492 - recall: 0.6586 - auc: 0.6852 - prc: 0.1679WARNING:tensorflow:Early stopping conditioned on metric `val_prc` which is not available. Available metrics are: loss,tp,fp,tn,fn,accuracy,precision,recall,auc,prc\n",
            "50/50 [==============================] - 8s 157ms/step - loss: 0.6446 - tp: 764.0000 - fp: 4358.0000 - tn: 7200.0000 - fn: 396.0000 - accuracy: 0.6262 - precision: 0.1492 - recall: 0.6586 - auc: 0.6852 - prc: 0.1679\n",
            "Epoch 3/100\n",
            "50/50 [==============================] - ETA: 0s - loss: 0.6396 - tp: 710.0000 - fp: 3732.0000 - tn: 7826.0000 - fn: 450.0000 - accuracy: 0.6712 - precision: 0.1598 - recall: 0.6121 - auc: 0.6873 - prc: 0.1712WARNING:tensorflow:Early stopping conditioned on metric `val_prc` which is not available. Available metrics are: loss,tp,fp,tn,fn,accuracy,precision,recall,auc,prc\n",
            "50/50 [==============================] - 8s 157ms/step - loss: 0.6396 - tp: 710.0000 - fp: 3732.0000 - tn: 7826.0000 - fn: 450.0000 - accuracy: 0.6712 - precision: 0.1598 - recall: 0.6121 - auc: 0.6873 - prc: 0.1712\n",
            "Epoch 4/100\n",
            "50/50 [==============================] - ETA: 0s - loss: 0.6342 - tp: 689.0000 - fp: 3382.0000 - tn: 8176.0000 - fn: 471.0000 - accuracy: 0.6970 - precision: 0.1692 - recall: 0.5940 - auc: 0.6934 - prc: 0.1768WARNING:tensorflow:Early stopping conditioned on metric `val_prc` which is not available. Available metrics are: loss,tp,fp,tn,fn,accuracy,precision,recall,auc,prc\n",
            "50/50 [==============================] - 8s 157ms/step - loss: 0.6342 - tp: 689.0000 - fp: 3382.0000 - tn: 8176.0000 - fn: 471.0000 - accuracy: 0.6970 - precision: 0.1692 - recall: 0.5940 - auc: 0.6934 - prc: 0.1768\n",
            "Epoch 5/100\n",
            "50/50 [==============================] - ETA: 0s - loss: 0.6299 - tp: 699.0000 - fp: 3335.0000 - tn: 8223.0000 - fn: 461.0000 - accuracy: 0.7015 - precision: 0.1733 - recall: 0.6026 - auc: 0.6998 - prc: 0.1838WARNING:tensorflow:Early stopping conditioned on metric `val_prc` which is not available. Available metrics are: loss,tp,fp,tn,fn,accuracy,precision,recall,auc,prc\n",
            "50/50 [==============================] - 8s 156ms/step - loss: 0.6299 - tp: 699.0000 - fp: 3335.0000 - tn: 8223.0000 - fn: 461.0000 - accuracy: 0.7015 - precision: 0.1733 - recall: 0.6026 - auc: 0.6998 - prc: 0.1838\n",
            "Epoch 6/100\n",
            "50/50 [==============================] - ETA: 0s - loss: 0.6267 - tp: 695.0000 - fp: 3371.0000 - tn: 8187.0000 - fn: 465.0000 - accuracy: 0.6984 - precision: 0.1709 - recall: 0.5991 - auc: 0.7048 - prc: 0.1836WARNING:tensorflow:Early stopping conditioned on metric `val_prc` which is not available. Available metrics are: loss,tp,fp,tn,fn,accuracy,precision,recall,auc,prc\n",
            "50/50 [==============================] - 8s 157ms/step - loss: 0.6267 - tp: 695.0000 - fp: 3371.0000 - tn: 8187.0000 - fn: 465.0000 - accuracy: 0.6984 - precision: 0.1709 - recall: 0.5991 - auc: 0.7048 - prc: 0.1836\n",
            "Epoch 7/100\n",
            "50/50 [==============================] - ETA: 0s - loss: 0.6133 - tp: 718.0000 - fp: 3319.0000 - tn: 8239.0000 - fn: 442.0000 - accuracy: 0.7043 - precision: 0.1779 - recall: 0.6190 - auc: 0.7250 - prc: 0.2050WARNING:tensorflow:Early stopping conditioned on metric `val_prc` which is not available. Available metrics are: loss,tp,fp,tn,fn,accuracy,precision,recall,auc,prc\n",
            "50/50 [==============================] - 8s 157ms/step - loss: 0.6133 - tp: 718.0000 - fp: 3319.0000 - tn: 8239.0000 - fn: 442.0000 - accuracy: 0.7043 - precision: 0.1779 - recall: 0.6190 - auc: 0.7250 - prc: 0.2050\n",
            "Epoch 8/100\n",
            "50/50 [==============================] - ETA: 0s - loss: 0.6177 - tp: 699.0000 - fp: 3275.0000 - tn: 8283.0000 - fn: 461.0000 - accuracy: 0.7062 - precision: 0.1759 - recall: 0.6026 - auc: 0.7182 - prc: 0.1867WARNING:tensorflow:Early stopping conditioned on metric `val_prc` which is not available. Available metrics are: loss,tp,fp,tn,fn,accuracy,precision,recall,auc,prc\n",
            "50/50 [==============================] - 8s 157ms/step - loss: 0.6177 - tp: 699.0000 - fp: 3275.0000 - tn: 8283.0000 - fn: 461.0000 - accuracy: 0.7062 - precision: 0.1759 - recall: 0.6026 - auc: 0.7182 - prc: 0.1867\n",
            "Epoch 9/100\n",
            "50/50 [==============================] - ETA: 0s - loss: 0.6039 - tp: 757.0000 - fp: 3728.0000 - tn: 7830.0000 - fn: 403.0000 - accuracy: 0.6752 - precision: 0.1688 - recall: 0.6526 - auc: 0.7320 - prc: 0.2153WARNING:tensorflow:Early stopping conditioned on metric `val_prc` which is not available. Available metrics are: loss,tp,fp,tn,fn,accuracy,precision,recall,auc,prc\n",
            "50/50 [==============================] - 8s 157ms/step - loss: 0.6039 - tp: 757.0000 - fp: 3728.0000 - tn: 7830.0000 - fn: 403.0000 - accuracy: 0.6752 - precision: 0.1688 - recall: 0.6526 - auc: 0.7320 - prc: 0.2153\n",
            "Epoch 10/100\n",
            "50/50 [==============================] - ETA: 0s - loss: 0.5982 - tp: 764.0000 - fp: 3484.0000 - tn: 8074.0000 - fn: 396.0000 - accuracy: 0.6949 - precision: 0.1798 - recall: 0.6586 - auc: 0.7398 - prc: 0.2093WARNING:tensorflow:Early stopping conditioned on metric `val_prc` which is not available. Available metrics are: loss,tp,fp,tn,fn,accuracy,precision,recall,auc,prc\n",
            "50/50 [==============================] - 8s 156ms/step - loss: 0.5982 - tp: 764.0000 - fp: 3484.0000 - tn: 8074.0000 - fn: 396.0000 - accuracy: 0.6949 - precision: 0.1798 - recall: 0.6586 - auc: 0.7398 - prc: 0.2093\n",
            "Epoch 11/100\n",
            "50/50 [==============================] - ETA: 0s - loss: 0.5894 - tp: 780.0000 - fp: 3593.0000 - tn: 7965.0000 - fn: 380.0000 - accuracy: 0.6876 - precision: 0.1784 - recall: 0.6724 - auc: 0.7501 - prc: 0.2273WARNING:tensorflow:Early stopping conditioned on metric `val_prc` which is not available. Available metrics are: loss,tp,fp,tn,fn,accuracy,precision,recall,auc,prc\n",
            "50/50 [==============================] - 8s 158ms/step - loss: 0.5894 - tp: 780.0000 - fp: 3593.0000 - tn: 7965.0000 - fn: 380.0000 - accuracy: 0.6876 - precision: 0.1784 - recall: 0.6724 - auc: 0.7501 - prc: 0.2273\n",
            "Epoch 12/100\n",
            "50/50 [==============================] - ETA: 0s - loss: 0.5885 - tp: 791.0000 - fp: 3446.0000 - tn: 8112.0000 - fn: 369.0000 - accuracy: 0.7000 - precision: 0.1867 - recall: 0.6819 - auc: 0.7508 - prc: 0.2304WARNING:tensorflow:Early stopping conditioned on metric `val_prc` which is not available. Available metrics are: loss,tp,fp,tn,fn,accuracy,precision,recall,auc,prc\n",
            "50/50 [==============================] - 8s 157ms/step - loss: 0.5885 - tp: 791.0000 - fp: 3446.0000 - tn: 8112.0000 - fn: 369.0000 - accuracy: 0.7000 - precision: 0.1867 - recall: 0.6819 - auc: 0.7508 - prc: 0.2304\n",
            "Epoch 13/100\n",
            "50/50 [==============================] - ETA: 0s - loss: 0.5805 - tp: 786.0000 - fp: 3459.0000 - tn: 8099.0000 - fn: 374.0000 - accuracy: 0.6986 - precision: 0.1852 - recall: 0.6776 - auc: 0.7575 - prc: 0.2371WARNING:tensorflow:Early stopping conditioned on metric `val_prc` which is not available. Available metrics are: loss,tp,fp,tn,fn,accuracy,precision,recall,auc,prc\n",
            "50/50 [==============================] - 8s 157ms/step - loss: 0.5805 - tp: 786.0000 - fp: 3459.0000 - tn: 8099.0000 - fn: 374.0000 - accuracy: 0.6986 - precision: 0.1852 - recall: 0.6776 - auc: 0.7575 - prc: 0.2371\n",
            "Epoch 14/100\n",
            "50/50 [==============================] - ETA: 0s - loss: 0.5676 - tp: 822.0000 - fp: 3376.0000 - tn: 8182.0000 - fn: 338.0000 - accuracy: 0.7080 - precision: 0.1958 - recall: 0.7086 - auc: 0.7735 - prc: 0.2501WARNING:tensorflow:Early stopping conditioned on metric `val_prc` which is not available. Available metrics are: loss,tp,fp,tn,fn,accuracy,precision,recall,auc,prc\n",
            "50/50 [==============================] - 8s 157ms/step - loss: 0.5676 - tp: 822.0000 - fp: 3376.0000 - tn: 8182.0000 - fn: 338.0000 - accuracy: 0.7080 - precision: 0.1958 - recall: 0.7086 - auc: 0.7735 - prc: 0.2501\n",
            "Epoch 15/100\n",
            "50/50 [==============================] - ETA: 0s - loss: 0.5677 - tp: 837.0000 - fp: 3517.0000 - tn: 8041.0000 - fn: 323.0000 - accuracy: 0.6981 - precision: 0.1922 - recall: 0.7216 - auc: 0.7709 - prc: 0.2452WARNING:tensorflow:Early stopping conditioned on metric `val_prc` which is not available. Available metrics are: loss,tp,fp,tn,fn,accuracy,precision,recall,auc,prc\n",
            "50/50 [==============================] - 8s 157ms/step - loss: 0.5677 - tp: 837.0000 - fp: 3517.0000 - tn: 8041.0000 - fn: 323.0000 - accuracy: 0.6981 - precision: 0.1922 - recall: 0.7216 - auc: 0.7709 - prc: 0.2452\n",
            "Epoch 16/100\n",
            "50/50 [==============================] - ETA: 0s - loss: 0.5578 - tp: 844.0000 - fp: 3553.0000 - tn: 8005.0000 - fn: 316.0000 - accuracy: 0.6958 - precision: 0.1919 - recall: 0.7276 - auc: 0.7826 - prc: 0.2511WARNING:tensorflow:Early stopping conditioned on metric `val_prc` which is not available. Available metrics are: loss,tp,fp,tn,fn,accuracy,precision,recall,auc,prc\n",
            "50/50 [==============================] - 8s 157ms/step - loss: 0.5578 - tp: 844.0000 - fp: 3553.0000 - tn: 8005.0000 - fn: 316.0000 - accuracy: 0.6958 - precision: 0.1919 - recall: 0.7276 - auc: 0.7826 - prc: 0.2511\n",
            "Epoch 17/100\n",
            "50/50 [==============================] - ETA: 0s - loss: 0.5436 - tp: 864.0000 - fp: 3488.0000 - tn: 8070.0000 - fn: 296.0000 - accuracy: 0.7025 - precision: 0.1985 - recall: 0.7448 - auc: 0.7958 - prc: 0.2743WARNING:tensorflow:Early stopping conditioned on metric `val_prc` which is not available. Available metrics are: loss,tp,fp,tn,fn,accuracy,precision,recall,auc,prc\n",
            "50/50 [==============================] - 8s 157ms/step - loss: 0.5436 - tp: 864.0000 - fp: 3488.0000 - tn: 8070.0000 - fn: 296.0000 - accuracy: 0.7025 - precision: 0.1985 - recall: 0.7448 - auc: 0.7958 - prc: 0.2743\n",
            "Epoch 18/100\n",
            "50/50 [==============================] - ETA: 0s - loss: 0.5420 - tp: 857.0000 - fp: 3347.0000 - tn: 8211.0000 - fn: 303.0000 - accuracy: 0.7130 - precision: 0.2039 - recall: 0.7388 - auc: 0.7945 - prc: 0.2892WARNING:tensorflow:Early stopping conditioned on metric `val_prc` which is not available. Available metrics are: loss,tp,fp,tn,fn,accuracy,precision,recall,auc,prc\n",
            "50/50 [==============================] - 8s 157ms/step - loss: 0.5420 - tp: 857.0000 - fp: 3347.0000 - tn: 8211.0000 - fn: 303.0000 - accuracy: 0.7130 - precision: 0.2039 - recall: 0.7388 - auc: 0.7945 - prc: 0.2892\n",
            "Epoch 19/100\n",
            "50/50 [==============================] - ETA: 0s - loss: 0.5432 - tp: 849.0000 - fp: 3345.0000 - tn: 8213.0000 - fn: 311.0000 - accuracy: 0.7125 - precision: 0.2024 - recall: 0.7319 - auc: 0.7952 - prc: 0.2800WARNING:tensorflow:Early stopping conditioned on metric `val_prc` which is not available. Available metrics are: loss,tp,fp,tn,fn,accuracy,precision,recall,auc,prc\n",
            "50/50 [==============================] - 8s 157ms/step - loss: 0.5432 - tp: 849.0000 - fp: 3345.0000 - tn: 8213.0000 - fn: 311.0000 - accuracy: 0.7125 - precision: 0.2024 - recall: 0.7319 - auc: 0.7952 - prc: 0.2800\n",
            "Epoch 20/100\n",
            "50/50 [==============================] - ETA: 0s - loss: 0.5365 - tp: 897.0000 - fp: 3574.0000 - tn: 7984.0000 - fn: 263.0000 - accuracy: 0.6983 - precision: 0.2006 - recall: 0.7733 - auc: 0.8019 - prc: 0.2788WARNING:tensorflow:Early stopping conditioned on metric `val_prc` which is not available. Available metrics are: loss,tp,fp,tn,fn,accuracy,precision,recall,auc,prc\n",
            "50/50 [==============================] - 8s 157ms/step - loss: 0.5365 - tp: 897.0000 - fp: 3574.0000 - tn: 7984.0000 - fn: 263.0000 - accuracy: 0.6983 - precision: 0.2006 - recall: 0.7733 - auc: 0.8019 - prc: 0.2788\n",
            "Epoch 21/100\n",
            "50/50 [==============================] - ETA: 0s - loss: 0.5247 - tp: 893.0000 - fp: 3357.0000 - tn: 8201.0000 - fn: 267.0000 - accuracy: 0.7150 - precision: 0.2101 - recall: 0.7698 - auc: 0.8106 - prc: 0.3008WARNING:tensorflow:Early stopping conditioned on metric `val_prc` which is not available. Available metrics are: loss,tp,fp,tn,fn,accuracy,precision,recall,auc,prc\n",
            "50/50 [==============================] - 8s 157ms/step - loss: 0.5247 - tp: 893.0000 - fp: 3357.0000 - tn: 8201.0000 - fn: 267.0000 - accuracy: 0.7150 - precision: 0.2101 - recall: 0.7698 - auc: 0.8106 - prc: 0.3008\n",
            "Epoch 22/100\n",
            "50/50 [==============================] - ETA: 0s - loss: 0.5284 - tp: 869.0000 - fp: 3369.0000 - tn: 8189.0000 - fn: 291.0000 - accuracy: 0.7122 - precision: 0.2050 - recall: 0.7491 - auc: 0.8069 - prc: 0.2986WARNING:tensorflow:Early stopping conditioned on metric `val_prc` which is not available. Available metrics are: loss,tp,fp,tn,fn,accuracy,precision,recall,auc,prc\n",
            "50/50 [==============================] - 8s 157ms/step - loss: 0.5284 - tp: 869.0000 - fp: 3369.0000 - tn: 8189.0000 - fn: 291.0000 - accuracy: 0.7122 - precision: 0.2050 - recall: 0.7491 - auc: 0.8069 - prc: 0.2986\n",
            "Epoch 23/100\n",
            "50/50 [==============================] - ETA: 0s - loss: 0.5161 - tp: 885.0000 - fp: 3328.0000 - tn: 8230.0000 - fn: 275.0000 - accuracy: 0.7167 - precision: 0.2101 - recall: 0.7629 - auc: 0.8190 - prc: 0.3124WARNING:tensorflow:Early stopping conditioned on metric `val_prc` which is not available. Available metrics are: loss,tp,fp,tn,fn,accuracy,precision,recall,auc,prc\n",
            "50/50 [==============================] - 8s 157ms/step - loss: 0.5161 - tp: 885.0000 - fp: 3328.0000 - tn: 8230.0000 - fn: 275.0000 - accuracy: 0.7167 - precision: 0.2101 - recall: 0.7629 - auc: 0.8190 - prc: 0.3124\n",
            "Epoch 24/100\n",
            "50/50 [==============================] - ETA: 0s - loss: 0.5156 - tp: 901.0000 - fp: 3256.0000 - tn: 8302.0000 - fn: 259.0000 - accuracy: 0.7236 - precision: 0.2167 - recall: 0.7767 - auc: 0.8238 - prc: 0.3122WARNING:tensorflow:Early stopping conditioned on metric `val_prc` which is not available. Available metrics are: loss,tp,fp,tn,fn,accuracy,precision,recall,auc,prc\n",
            "50/50 [==============================] - 8s 157ms/step - loss: 0.5156 - tp: 901.0000 - fp: 3256.0000 - tn: 8302.0000 - fn: 259.0000 - accuracy: 0.7236 - precision: 0.2167 - recall: 0.7767 - auc: 0.8238 - prc: 0.3122\n",
            "Epoch 25/100\n",
            "50/50 [==============================] - ETA: 0s - loss: 0.5240 - tp: 904.0000 - fp: 3303.0000 - tn: 8255.0000 - fn: 256.0000 - accuracy: 0.7202 - precision: 0.2149 - recall: 0.7793 - auc: 0.8163 - prc: 0.3124WARNING:tensorflow:Early stopping conditioned on metric `val_prc` which is not available. Available metrics are: loss,tp,fp,tn,fn,accuracy,precision,recall,auc,prc\n",
            "50/50 [==============================] - 8s 157ms/step - loss: 0.5240 - tp: 904.0000 - fp: 3303.0000 - tn: 8255.0000 - fn: 256.0000 - accuracy: 0.7202 - precision: 0.2149 - recall: 0.7793 - auc: 0.8163 - prc: 0.3124\n",
            "Epoch 26/100\n",
            "50/50 [==============================] - ETA: 0s - loss: 0.4941 - tp: 922.0000 - fp: 3053.0000 - tn: 8505.0000 - fn: 238.0000 - accuracy: 0.7412 - precision: 0.2319 - recall: 0.7948 - auc: 0.8358 - prc: 0.3378WARNING:tensorflow:Early stopping conditioned on metric `val_prc` which is not available. Available metrics are: loss,tp,fp,tn,fn,accuracy,precision,recall,auc,prc\n",
            "50/50 [==============================] - 8s 157ms/step - loss: 0.4941 - tp: 922.0000 - fp: 3053.0000 - tn: 8505.0000 - fn: 238.0000 - accuracy: 0.7412 - precision: 0.2319 - recall: 0.7948 - auc: 0.8358 - prc: 0.3378\n",
            "Epoch 27/100\n",
            "50/50 [==============================] - ETA: 0s - loss: 0.5004 - tp: 899.0000 - fp: 3072.0000 - tn: 8486.0000 - fn: 261.0000 - accuracy: 0.7379 - precision: 0.2264 - recall: 0.7750 - auc: 0.8338 - prc: 0.3428WARNING:tensorflow:Early stopping conditioned on metric `val_prc` which is not available. Available metrics are: loss,tp,fp,tn,fn,accuracy,precision,recall,auc,prc\n",
            "50/50 [==============================] - 8s 157ms/step - loss: 0.5004 - tp: 899.0000 - fp: 3072.0000 - tn: 8486.0000 - fn: 261.0000 - accuracy: 0.7379 - precision: 0.2264 - recall: 0.7750 - auc: 0.8338 - prc: 0.3428\n",
            "Epoch 28/100\n",
            "50/50 [==============================] - ETA: 0s - loss: 0.4934 - tp: 915.0000 - fp: 3020.0000 - tn: 8538.0000 - fn: 245.0000 - accuracy: 0.7433 - precision: 0.2325 - recall: 0.7888 - auc: 0.8375 - prc: 0.3475WARNING:tensorflow:Early stopping conditioned on metric `val_prc` which is not available. Available metrics are: loss,tp,fp,tn,fn,accuracy,precision,recall,auc,prc\n",
            "50/50 [==============================] - 8s 157ms/step - loss: 0.4934 - tp: 915.0000 - fp: 3020.0000 - tn: 8538.0000 - fn: 245.0000 - accuracy: 0.7433 - precision: 0.2325 - recall: 0.7888 - auc: 0.8375 - prc: 0.3475\n",
            "Epoch 29/100\n",
            "50/50 [==============================] - ETA: 0s - loss: 0.4877 - tp: 921.0000 - fp: 3095.0000 - tn: 8463.0000 - fn: 239.0000 - accuracy: 0.7379 - precision: 0.2293 - recall: 0.7940 - auc: 0.8399 - prc: 0.3524WARNING:tensorflow:Early stopping conditioned on metric `val_prc` which is not available. Available metrics are: loss,tp,fp,tn,fn,accuracy,precision,recall,auc,prc\n",
            "50/50 [==============================] - 8s 157ms/step - loss: 0.4877 - tp: 921.0000 - fp: 3095.0000 - tn: 8463.0000 - fn: 239.0000 - accuracy: 0.7379 - precision: 0.2293 - recall: 0.7940 - auc: 0.8399 - prc: 0.3524\n",
            "Epoch 30/100\n",
            "50/50 [==============================] - ETA: 0s - loss: 0.4795 - tp: 930.0000 - fp: 3034.0000 - tn: 8524.0000 - fn: 230.0000 - accuracy: 0.7434 - precision: 0.2346 - recall: 0.8017 - auc: 0.8457 - prc: 0.3623WARNING:tensorflow:Early stopping conditioned on metric `val_prc` which is not available. Available metrics are: loss,tp,fp,tn,fn,accuracy,precision,recall,auc,prc\n",
            "50/50 [==============================] - 8s 157ms/step - loss: 0.4795 - tp: 930.0000 - fp: 3034.0000 - tn: 8524.0000 - fn: 230.0000 - accuracy: 0.7434 - precision: 0.2346 - recall: 0.8017 - auc: 0.8457 - prc: 0.3623\n",
            "Epoch 31/100\n",
            "50/50 [==============================] - ETA: 0s - loss: 0.4784 - tp: 922.0000 - fp: 3119.0000 - tn: 8439.0000 - fn: 238.0000 - accuracy: 0.7360 - precision: 0.2282 - recall: 0.7948 - auc: 0.8455 - prc: 0.3602WARNING:tensorflow:Early stopping conditioned on metric `val_prc` which is not available. Available metrics are: loss,tp,fp,tn,fn,accuracy,precision,recall,auc,prc\n",
            "50/50 [==============================] - 8s 157ms/step - loss: 0.4784 - tp: 922.0000 - fp: 3119.0000 - tn: 8439.0000 - fn: 238.0000 - accuracy: 0.7360 - precision: 0.2282 - recall: 0.7948 - auc: 0.8455 - prc: 0.3602\n",
            "Epoch 32/100\n",
            "50/50 [==============================] - ETA: 0s - loss: 0.4687 - tp: 946.0000 - fp: 2924.0000 - tn: 8634.0000 - fn: 214.0000 - accuracy: 0.7533 - precision: 0.2444 - recall: 0.8155 - auc: 0.8549 - prc: 0.3735WARNING:tensorflow:Early stopping conditioned on metric `val_prc` which is not available. Available metrics are: loss,tp,fp,tn,fn,accuracy,precision,recall,auc,prc\n",
            "50/50 [==============================] - 8s 157ms/step - loss: 0.4687 - tp: 946.0000 - fp: 2924.0000 - tn: 8634.0000 - fn: 214.0000 - accuracy: 0.7533 - precision: 0.2444 - recall: 0.8155 - auc: 0.8549 - prc: 0.3735\n",
            "Epoch 33/100\n",
            "50/50 [==============================] - ETA: 0s - loss: 0.4646 - tp: 927.0000 - fp: 2987.0000 - tn: 8571.0000 - fn: 233.0000 - accuracy: 0.7468 - precision: 0.2368 - recall: 0.7991 - auc: 0.8578 - prc: 0.3916WARNING:tensorflow:Early stopping conditioned on metric `val_prc` which is not available. Available metrics are: loss,tp,fp,tn,fn,accuracy,precision,recall,auc,prc\n",
            "50/50 [==============================] - 8s 157ms/step - loss: 0.4646 - tp: 927.0000 - fp: 2987.0000 - tn: 8571.0000 - fn: 233.0000 - accuracy: 0.7468 - precision: 0.2368 - recall: 0.7991 - auc: 0.8578 - prc: 0.3916\n",
            "Epoch 34/100\n",
            "50/50 [==============================] - ETA: 0s - loss: 0.4619 - tp: 941.0000 - fp: 2936.0000 - tn: 8622.0000 - fn: 219.0000 - accuracy: 0.7519 - precision: 0.2427 - recall: 0.8112 - auc: 0.8580 - prc: 0.3905WARNING:tensorflow:Early stopping conditioned on metric `val_prc` which is not available. Available metrics are: loss,tp,fp,tn,fn,accuracy,precision,recall,auc,prc\n",
            "50/50 [==============================] - 8s 157ms/step - loss: 0.4619 - tp: 941.0000 - fp: 2936.0000 - tn: 8622.0000 - fn: 219.0000 - accuracy: 0.7519 - precision: 0.2427 - recall: 0.8112 - auc: 0.8580 - prc: 0.3905\n",
            "Epoch 35/100\n",
            "50/50 [==============================] - ETA: 0s - loss: 0.4648 - tp: 971.0000 - fp: 2995.0000 - tn: 8563.0000 - fn: 189.0000 - accuracy: 0.7496 - precision: 0.2448 - recall: 0.8371 - auc: 0.8623 - prc: 0.4026WARNING:tensorflow:Early stopping conditioned on metric `val_prc` which is not available. Available metrics are: loss,tp,fp,tn,fn,accuracy,precision,recall,auc,prc\n",
            "50/50 [==============================] - 8s 157ms/step - loss: 0.4648 - tp: 971.0000 - fp: 2995.0000 - tn: 8563.0000 - fn: 189.0000 - accuracy: 0.7496 - precision: 0.2448 - recall: 0.8371 - auc: 0.8623 - prc: 0.4026\n",
            "Epoch 36/100\n",
            "50/50 [==============================] - ETA: 0s - loss: 0.4600 - tp: 938.0000 - fp: 2667.0000 - tn: 8891.0000 - fn: 222.0000 - accuracy: 0.7728 - precision: 0.2602 - recall: 0.8086 - auc: 0.8634 - prc: 0.3975WARNING:tensorflow:Early stopping conditioned on metric `val_prc` which is not available. Available metrics are: loss,tp,fp,tn,fn,accuracy,precision,recall,auc,prc\n",
            "50/50 [==============================] - 8s 157ms/step - loss: 0.4600 - tp: 938.0000 - fp: 2667.0000 - tn: 8891.0000 - fn: 222.0000 - accuracy: 0.7728 - precision: 0.2602 - recall: 0.8086 - auc: 0.8634 - prc: 0.3975\n",
            "Epoch 37/100\n",
            "50/50 [==============================] - ETA: 0s - loss: 0.4509 - tp: 962.0000 - fp: 2703.0000 - tn: 8855.0000 - fn: 198.0000 - accuracy: 0.7719 - precision: 0.2625 - recall: 0.8293 - auc: 0.8706 - prc: 0.4264WARNING:tensorflow:Early stopping conditioned on metric `val_prc` which is not available. Available metrics are: loss,tp,fp,tn,fn,accuracy,precision,recall,auc,prc\n",
            "50/50 [==============================] - 8s 157ms/step - loss: 0.4509 - tp: 962.0000 - fp: 2703.0000 - tn: 8855.0000 - fn: 198.0000 - accuracy: 0.7719 - precision: 0.2625 - recall: 0.8293 - auc: 0.8706 - prc: 0.4264\n",
            "Epoch 38/100\n",
            "50/50 [==============================] - ETA: 0s - loss: 0.4332 - tp: 966.0000 - fp: 2561.0000 - tn: 8997.0000 - fn: 194.0000 - accuracy: 0.7834 - precision: 0.2739 - recall: 0.8328 - auc: 0.8767 - prc: 0.4280WARNING:tensorflow:Early stopping conditioned on metric `val_prc` which is not available. Available metrics are: loss,tp,fp,tn,fn,accuracy,precision,recall,auc,prc\n",
            "50/50 [==============================] - 8s 157ms/step - loss: 0.4332 - tp: 966.0000 - fp: 2561.0000 - tn: 8997.0000 - fn: 194.0000 - accuracy: 0.7834 - precision: 0.2739 - recall: 0.8328 - auc: 0.8767 - prc: 0.4280\n",
            "Epoch 39/100\n",
            "50/50 [==============================] - ETA: 0s - loss: 0.4421 - tp: 965.0000 - fp: 2836.0000 - tn: 8722.0000 - fn: 195.0000 - accuracy: 0.7617 - precision: 0.2539 - recall: 0.8319 - auc: 0.8727 - prc: 0.4183WARNING:tensorflow:Early stopping conditioned on metric `val_prc` which is not available. Available metrics are: loss,tp,fp,tn,fn,accuracy,precision,recall,auc,prc\n",
            "50/50 [==============================] - 8s 157ms/step - loss: 0.4421 - tp: 965.0000 - fp: 2836.0000 - tn: 8722.0000 - fn: 195.0000 - accuracy: 0.7617 - precision: 0.2539 - recall: 0.8319 - auc: 0.8727 - prc: 0.4183\n",
            "Epoch 40/100\n",
            "50/50 [==============================] - ETA: 0s - loss: 0.4312 - tp: 980.0000 - fp: 2761.0000 - tn: 8797.0000 - fn: 180.0000 - accuracy: 0.7688 - precision: 0.2620 - recall: 0.8448 - auc: 0.8769 - prc: 0.4283WARNING:tensorflow:Early stopping conditioned on metric `val_prc` which is not available. Available metrics are: loss,tp,fp,tn,fn,accuracy,precision,recall,auc,prc\n",
            "50/50 [==============================] - 8s 157ms/step - loss: 0.4312 - tp: 980.0000 - fp: 2761.0000 - tn: 8797.0000 - fn: 180.0000 - accuracy: 0.7688 - precision: 0.2620 - recall: 0.8448 - auc: 0.8769 - prc: 0.4283\n",
            "Epoch 41/100\n",
            "50/50 [==============================] - ETA: 0s - loss: 0.4247 - tp: 987.0000 - fp: 2655.0000 - tn: 8903.0000 - fn: 173.0000 - accuracy: 0.7776 - precision: 0.2710 - recall: 0.8509 - auc: 0.8845 - prc: 0.4481WARNING:tensorflow:Early stopping conditioned on metric `val_prc` which is not available. Available metrics are: loss,tp,fp,tn,fn,accuracy,precision,recall,auc,prc\n",
            "50/50 [==============================] - 8s 157ms/step - loss: 0.4247 - tp: 987.0000 - fp: 2655.0000 - tn: 8903.0000 - fn: 173.0000 - accuracy: 0.7776 - precision: 0.2710 - recall: 0.8509 - auc: 0.8845 - prc: 0.4481\n",
            "Epoch 42/100\n",
            "50/50 [==============================] - ETA: 0s - loss: 0.4230 - tp: 988.0000 - fp: 2697.0000 - tn: 8861.0000 - fn: 172.0000 - accuracy: 0.7744 - precision: 0.2681 - recall: 0.8517 - auc: 0.8838 - prc: 0.4427WARNING:tensorflow:Early stopping conditioned on metric `val_prc` which is not available. Available metrics are: loss,tp,fp,tn,fn,accuracy,precision,recall,auc,prc\n",
            "50/50 [==============================] - 8s 158ms/step - loss: 0.4230 - tp: 988.0000 - fp: 2697.0000 - tn: 8861.0000 - fn: 172.0000 - accuracy: 0.7744 - precision: 0.2681 - recall: 0.8517 - auc: 0.8838 - prc: 0.4427\n",
            "Epoch 43/100\n",
            "50/50 [==============================] - ETA: 0s - loss: 0.4217 - tp: 977.0000 - fp: 2556.0000 - tn: 9002.0000 - fn: 183.0000 - accuracy: 0.7846 - precision: 0.2765 - recall: 0.8422 - auc: 0.8864 - prc: 0.4486WARNING:tensorflow:Early stopping conditioned on metric `val_prc` which is not available. Available metrics are: loss,tp,fp,tn,fn,accuracy,precision,recall,auc,prc\n",
            "50/50 [==============================] - 8s 157ms/step - loss: 0.4217 - tp: 977.0000 - fp: 2556.0000 - tn: 9002.0000 - fn: 183.0000 - accuracy: 0.7846 - precision: 0.2765 - recall: 0.8422 - auc: 0.8864 - prc: 0.4486\n",
            "Epoch 44/100\n",
            "50/50 [==============================] - ETA: 0s - loss: 0.4224 - tp: 974.0000 - fp: 2602.0000 - tn: 8956.0000 - fn: 186.0000 - accuracy: 0.7808 - precision: 0.2724 - recall: 0.8397 - auc: 0.8859 - prc: 0.4508WARNING:tensorflow:Early stopping conditioned on metric `val_prc` which is not available. Available metrics are: loss,tp,fp,tn,fn,accuracy,precision,recall,auc,prc\n",
            "50/50 [==============================] - 8s 157ms/step - loss: 0.4224 - tp: 974.0000 - fp: 2602.0000 - tn: 8956.0000 - fn: 186.0000 - accuracy: 0.7808 - precision: 0.2724 - recall: 0.8397 - auc: 0.8859 - prc: 0.4508\n",
            "Epoch 45/100\n",
            "50/50 [==============================] - ETA: 0s - loss: 0.4035 - tp: 979.0000 - fp: 2600.0000 - tn: 8958.0000 - fn: 181.0000 - accuracy: 0.7813 - precision: 0.2735 - recall: 0.8440 - auc: 0.8938 - prc: 0.4767WARNING:tensorflow:Early stopping conditioned on metric `val_prc` which is not available. Available metrics are: loss,tp,fp,tn,fn,accuracy,precision,recall,auc,prc\n",
            "50/50 [==============================] - 8s 157ms/step - loss: 0.4035 - tp: 979.0000 - fp: 2600.0000 - tn: 8958.0000 - fn: 181.0000 - accuracy: 0.7813 - precision: 0.2735 - recall: 0.8440 - auc: 0.8938 - prc: 0.4767\n",
            "Epoch 46/100\n",
            "50/50 [==============================] - ETA: 0s - loss: 0.3985 - tp: 988.0000 - fp: 2487.0000 - tn: 9071.0000 - fn: 172.0000 - accuracy: 0.7909 - precision: 0.2843 - recall: 0.8517 - auc: 0.8959 - prc: 0.4698WARNING:tensorflow:Early stopping conditioned on metric `val_prc` which is not available. Available metrics are: loss,tp,fp,tn,fn,accuracy,precision,recall,auc,prc\n",
            "50/50 [==============================] - 8s 157ms/step - loss: 0.3985 - tp: 988.0000 - fp: 2487.0000 - tn: 9071.0000 - fn: 172.0000 - accuracy: 0.7909 - precision: 0.2843 - recall: 0.8517 - auc: 0.8959 - prc: 0.4698\n",
            "Epoch 47/100\n",
            "50/50 [==============================] - ETA: 0s - loss: 0.4010 - tp: 989.0000 - fp: 2597.0000 - tn: 8961.0000 - fn: 171.0000 - accuracy: 0.7824 - precision: 0.2758 - recall: 0.8526 - auc: 0.8944 - prc: 0.4808WARNING:tensorflow:Early stopping conditioned on metric `val_prc` which is not available. Available metrics are: loss,tp,fp,tn,fn,accuracy,precision,recall,auc,prc\n",
            "50/50 [==============================] - 8s 157ms/step - loss: 0.4010 - tp: 989.0000 - fp: 2597.0000 - tn: 8961.0000 - fn: 171.0000 - accuracy: 0.7824 - precision: 0.2758 - recall: 0.8526 - auc: 0.8944 - prc: 0.4808\n",
            "Epoch 48/100\n",
            "50/50 [==============================] - ETA: 0s - loss: 0.3899 - tp: 998.0000 - fp: 2464.0000 - tn: 9094.0000 - fn: 162.0000 - accuracy: 0.7935 - precision: 0.2883 - recall: 0.8603 - auc: 0.9014 - prc: 0.4941WARNING:tensorflow:Early stopping conditioned on metric `val_prc` which is not available. Available metrics are: loss,tp,fp,tn,fn,accuracy,precision,recall,auc,prc\n",
            "50/50 [==============================] - 8s 157ms/step - loss: 0.3899 - tp: 998.0000 - fp: 2464.0000 - tn: 9094.0000 - fn: 162.0000 - accuracy: 0.7935 - precision: 0.2883 - recall: 0.8603 - auc: 0.9014 - prc: 0.4941\n",
            "Epoch 49/100\n",
            "50/50 [==============================] - ETA: 0s - loss: 0.4042 - tp: 977.0000 - fp: 2488.0000 - tn: 9070.0000 - fn: 183.0000 - accuracy: 0.7900 - precision: 0.2820 - recall: 0.8422 - auc: 0.8946 - prc: 0.4776WARNING:tensorflow:Early stopping conditioned on metric `val_prc` which is not available. Available metrics are: loss,tp,fp,tn,fn,accuracy,precision,recall,auc,prc\n",
            "50/50 [==============================] - 8s 157ms/step - loss: 0.4042 - tp: 977.0000 - fp: 2488.0000 - tn: 9070.0000 - fn: 183.0000 - accuracy: 0.7900 - precision: 0.2820 - recall: 0.8422 - auc: 0.8946 - prc: 0.4776\n",
            "Epoch 50/100\n",
            "50/50 [==============================] - ETA: 0s - loss: 0.4156 - tp: 997.0000 - fp: 2625.0000 - tn: 8933.0000 - fn: 163.0000 - accuracy: 0.7808 - precision: 0.2753 - recall: 0.8595 - auc: 0.8902 - prc: 0.4616WARNING:tensorflow:Early stopping conditioned on metric `val_prc` which is not available. Available metrics are: loss,tp,fp,tn,fn,accuracy,precision,recall,auc,prc\n",
            "50/50 [==============================] - 8s 157ms/step - loss: 0.4156 - tp: 997.0000 - fp: 2625.0000 - tn: 8933.0000 - fn: 163.0000 - accuracy: 0.7808 - precision: 0.2753 - recall: 0.8595 - auc: 0.8902 - prc: 0.4616\n",
            "Epoch 51/100\n",
            "50/50 [==============================] - ETA: 0s - loss: 0.4001 - tp: 993.0000 - fp: 2561.0000 - tn: 8997.0000 - fn: 167.0000 - accuracy: 0.7855 - precision: 0.2794 - recall: 0.8560 - auc: 0.8967 - prc: 0.4916WARNING:tensorflow:Early stopping conditioned on metric `val_prc` which is not available. Available metrics are: loss,tp,fp,tn,fn,accuracy,precision,recall,auc,prc\n",
            "50/50 [==============================] - 8s 157ms/step - loss: 0.4001 - tp: 993.0000 - fp: 2561.0000 - tn: 8997.0000 - fn: 167.0000 - accuracy: 0.7855 - precision: 0.2794 - recall: 0.8560 - auc: 0.8967 - prc: 0.4916\n",
            "Epoch 52/100\n",
            "50/50 [==============================] - ETA: 0s - loss: 0.3801 - tp: 1000.0000 - fp: 2350.0000 - tn: 9208.0000 - fn: 160.0000 - accuracy: 0.8026 - precision: 0.2985 - recall: 0.8621 - auc: 0.9063 - prc: 0.5063WARNING:tensorflow:Early stopping conditioned on metric `val_prc` which is not available. Available metrics are: loss,tp,fp,tn,fn,accuracy,precision,recall,auc,prc\n",
            "50/50 [==============================] - 8s 157ms/step - loss: 0.3801 - tp: 1000.0000 - fp: 2350.0000 - tn: 9208.0000 - fn: 160.0000 - accuracy: 0.8026 - precision: 0.2985 - recall: 0.8621 - auc: 0.9063 - prc: 0.5063\n",
            "Epoch 53/100\n",
            "50/50 [==============================] - ETA: 0s - loss: 0.3856 - tp: 1003.0000 - fp: 2391.0000 - tn: 9167.0000 - fn: 157.0000 - accuracy: 0.7997 - precision: 0.2955 - recall: 0.8647 - auc: 0.9040 - prc: 0.4975WARNING:tensorflow:Early stopping conditioned on metric `val_prc` which is not available. Available metrics are: loss,tp,fp,tn,fn,accuracy,precision,recall,auc,prc\n",
            "50/50 [==============================] - 8s 157ms/step - loss: 0.3856 - tp: 1003.0000 - fp: 2391.0000 - tn: 9167.0000 - fn: 157.0000 - accuracy: 0.7997 - precision: 0.2955 - recall: 0.8647 - auc: 0.9040 - prc: 0.4975\n",
            "Epoch 54/100\n",
            "50/50 [==============================] - ETA: 0s - loss: 0.3840 - tp: 1009.0000 - fp: 2466.0000 - tn: 9092.0000 - fn: 151.0000 - accuracy: 0.7942 - precision: 0.2904 - recall: 0.8698 - auc: 0.9029 - prc: 0.4913WARNING:tensorflow:Early stopping conditioned on metric `val_prc` which is not available. Available metrics are: loss,tp,fp,tn,fn,accuracy,precision,recall,auc,prc\n",
            "50/50 [==============================] - 8s 156ms/step - loss: 0.3840 - tp: 1009.0000 - fp: 2466.0000 - tn: 9092.0000 - fn: 151.0000 - accuracy: 0.7942 - precision: 0.2904 - recall: 0.8698 - auc: 0.9029 - prc: 0.4913\n",
            "Epoch 55/100\n",
            "50/50 [==============================] - ETA: 0s - loss: 0.3769 - tp: 1021.0000 - fp: 2360.0000 - tn: 9198.0000 - fn: 139.0000 - accuracy: 0.8035 - precision: 0.3020 - recall: 0.8802 - auc: 0.9092 - prc: 0.5059WARNING:tensorflow:Early stopping conditioned on metric `val_prc` which is not available. Available metrics are: loss,tp,fp,tn,fn,accuracy,precision,recall,auc,prc\n",
            "50/50 [==============================] - 8s 156ms/step - loss: 0.3769 - tp: 1021.0000 - fp: 2360.0000 - tn: 9198.0000 - fn: 139.0000 - accuracy: 0.8035 - precision: 0.3020 - recall: 0.8802 - auc: 0.9092 - prc: 0.5059\n",
            "Epoch 56/100\n",
            "50/50 [==============================] - ETA: 0s - loss: 0.3747 - tp: 1017.0000 - fp: 2308.0000 - tn: 9250.0000 - fn: 143.0000 - accuracy: 0.8073 - precision: 0.3059 - recall: 0.8767 - auc: 0.9103 - prc: 0.5062WARNING:tensorflow:Early stopping conditioned on metric `val_prc` which is not available. Available metrics are: loss,tp,fp,tn,fn,accuracy,precision,recall,auc,prc\n",
            "50/50 [==============================] - 8s 157ms/step - loss: 0.3747 - tp: 1017.0000 - fp: 2308.0000 - tn: 9250.0000 - fn: 143.0000 - accuracy: 0.8073 - precision: 0.3059 - recall: 0.8767 - auc: 0.9103 - prc: 0.5062\n",
            "Epoch 57/100\n",
            "50/50 [==============================] - ETA: 0s - loss: 0.3862 - tp: 987.0000 - fp: 2286.0000 - tn: 9272.0000 - fn: 173.0000 - accuracy: 0.8067 - precision: 0.3016 - recall: 0.8509 - auc: 0.9047 - prc: 0.5009WARNING:tensorflow:Early stopping conditioned on metric `val_prc` which is not available. Available metrics are: loss,tp,fp,tn,fn,accuracy,precision,recall,auc,prc\n",
            "50/50 [==============================] - 8s 157ms/step - loss: 0.3862 - tp: 987.0000 - fp: 2286.0000 - tn: 9272.0000 - fn: 173.0000 - accuracy: 0.8067 - precision: 0.3016 - recall: 0.8509 - auc: 0.9047 - prc: 0.5009\n",
            "Epoch 58/100\n",
            "50/50 [==============================] - ETA: 0s - loss: 0.3710 - tp: 1017.0000 - fp: 2294.0000 - tn: 9264.0000 - fn: 143.0000 - accuracy: 0.8084 - precision: 0.3072 - recall: 0.8767 - auc: 0.9123 - prc: 0.5362WARNING:tensorflow:Early stopping conditioned on metric `val_prc` which is not available. Available metrics are: loss,tp,fp,tn,fn,accuracy,precision,recall,auc,prc\n",
            "50/50 [==============================] - 8s 157ms/step - loss: 0.3710 - tp: 1017.0000 - fp: 2294.0000 - tn: 9264.0000 - fn: 143.0000 - accuracy: 0.8084 - precision: 0.3072 - recall: 0.8767 - auc: 0.9123 - prc: 0.5362\n",
            "Epoch 59/100\n",
            "50/50 [==============================] - ETA: 0s - loss: 0.3589 - tp: 1015.0000 - fp: 2183.0000 - tn: 9375.0000 - fn: 145.0000 - accuracy: 0.8170 - precision: 0.3174 - recall: 0.8750 - auc: 0.9169 - prc: 0.5398WARNING:tensorflow:Early stopping conditioned on metric `val_prc` which is not available. Available metrics are: loss,tp,fp,tn,fn,accuracy,precision,recall,auc,prc\n",
            "50/50 [==============================] - 8s 157ms/step - loss: 0.3589 - tp: 1015.0000 - fp: 2183.0000 - tn: 9375.0000 - fn: 145.0000 - accuracy: 0.8170 - precision: 0.3174 - recall: 0.8750 - auc: 0.9169 - prc: 0.5398\n",
            "Epoch 60/100\n",
            "50/50 [==============================] - ETA: 0s - loss: 0.3621 - tp: 1021.0000 - fp: 2305.0000 - tn: 9253.0000 - fn: 139.0000 - accuracy: 0.8078 - precision: 0.3070 - recall: 0.8802 - auc: 0.9151 - prc: 0.5247WARNING:tensorflow:Early stopping conditioned on metric `val_prc` which is not available. Available metrics are: loss,tp,fp,tn,fn,accuracy,precision,recall,auc,prc\n",
            "50/50 [==============================] - 8s 157ms/step - loss: 0.3621 - tp: 1021.0000 - fp: 2305.0000 - tn: 9253.0000 - fn: 139.0000 - accuracy: 0.8078 - precision: 0.3070 - recall: 0.8802 - auc: 0.9151 - prc: 0.5247\n",
            "Epoch 61/100\n",
            "50/50 [==============================] - ETA: 0s - loss: 0.3583 - tp: 1019.0000 - fp: 2290.0000 - tn: 9268.0000 - fn: 141.0000 - accuracy: 0.8089 - precision: 0.3079 - recall: 0.8784 - auc: 0.9170 - prc: 0.5468WARNING:tensorflow:Early stopping conditioned on metric `val_prc` which is not available. Available metrics are: loss,tp,fp,tn,fn,accuracy,precision,recall,auc,prc\n",
            "50/50 [==============================] - 8s 157ms/step - loss: 0.3583 - tp: 1019.0000 - fp: 2290.0000 - tn: 9268.0000 - fn: 141.0000 - accuracy: 0.8089 - precision: 0.3079 - recall: 0.8784 - auc: 0.9170 - prc: 0.5468\n",
            "Epoch 62/100\n",
            "50/50 [==============================] - ETA: 0s - loss: 0.3593 - tp: 1016.0000 - fp: 2219.0000 - tn: 9339.0000 - fn: 144.0000 - accuracy: 0.8142 - precision: 0.3141 - recall: 0.8759 - auc: 0.9174 - prc: 0.5488WARNING:tensorflow:Early stopping conditioned on metric `val_prc` which is not available. Available metrics are: loss,tp,fp,tn,fn,accuracy,precision,recall,auc,prc\n",
            "50/50 [==============================] - 8s 157ms/step - loss: 0.3593 - tp: 1016.0000 - fp: 2219.0000 - tn: 9339.0000 - fn: 144.0000 - accuracy: 0.8142 - precision: 0.3141 - recall: 0.8759 - auc: 0.9174 - prc: 0.5488\n",
            "Epoch 63/100\n",
            "50/50 [==============================] - ETA: 0s - loss: 0.3646 - tp: 1009.0000 - fp: 2204.0000 - tn: 9354.0000 - fn: 151.0000 - accuracy: 0.8148 - precision: 0.3140 - recall: 0.8698 - auc: 0.9154 - prc: 0.5217WARNING:tensorflow:Early stopping conditioned on metric `val_prc` which is not available. Available metrics are: loss,tp,fp,tn,fn,accuracy,precision,recall,auc,prc\n",
            "50/50 [==============================] - 8s 157ms/step - loss: 0.3646 - tp: 1009.0000 - fp: 2204.0000 - tn: 9354.0000 - fn: 151.0000 - accuracy: 0.8148 - precision: 0.3140 - recall: 0.8698 - auc: 0.9154 - prc: 0.5217\n",
            "Epoch 64/100\n",
            "50/50 [==============================] - ETA: 0s - loss: 0.3658 - tp: 1020.0000 - fp: 2321.0000 - tn: 9237.0000 - fn: 140.0000 - accuracy: 0.8065 - precision: 0.3053 - recall: 0.8793 - auc: 0.9149 - prc: 0.5451WARNING:tensorflow:Early stopping conditioned on metric `val_prc` which is not available. Available metrics are: loss,tp,fp,tn,fn,accuracy,precision,recall,auc,prc\n",
            "50/50 [==============================] - 8s 157ms/step - loss: 0.3658 - tp: 1020.0000 - fp: 2321.0000 - tn: 9237.0000 - fn: 140.0000 - accuracy: 0.8065 - precision: 0.3053 - recall: 0.8793 - auc: 0.9149 - prc: 0.5451\n",
            "Epoch 65/100\n",
            "50/50 [==============================] - ETA: 0s - loss: 0.3743 - tp: 1001.0000 - fp: 2248.0000 - tn: 9310.0000 - fn: 159.0000 - accuracy: 0.8107 - precision: 0.3081 - recall: 0.8629 - auc: 0.9122 - prc: 0.5367WARNING:tensorflow:Early stopping conditioned on metric `val_prc` which is not available. Available metrics are: loss,tp,fp,tn,fn,accuracy,precision,recall,auc,prc\n",
            "50/50 [==============================] - 8s 157ms/step - loss: 0.3743 - tp: 1001.0000 - fp: 2248.0000 - tn: 9310.0000 - fn: 159.0000 - accuracy: 0.8107 - precision: 0.3081 - recall: 0.8629 - auc: 0.9122 - prc: 0.5367\n",
            "Epoch 66/100\n",
            "50/50 [==============================] - ETA: 0s - loss: 0.3531 - tp: 1043.0000 - fp: 2288.0000 - tn: 9270.0000 - fn: 117.0000 - accuracy: 0.8109 - precision: 0.3131 - recall: 0.8991 - auc: 0.9210 - prc: 0.5473WARNING:tensorflow:Early stopping conditioned on metric `val_prc` which is not available. Available metrics are: loss,tp,fp,tn,fn,accuracy,precision,recall,auc,prc\n",
            "50/50 [==============================] - 8s 157ms/step - loss: 0.3531 - tp: 1043.0000 - fp: 2288.0000 - tn: 9270.0000 - fn: 117.0000 - accuracy: 0.8109 - precision: 0.3131 - recall: 0.8991 - auc: 0.9210 - prc: 0.5473\n",
            "Epoch 67/100\n",
            "50/50 [==============================] - ETA: 0s - loss: 0.3542 - tp: 1027.0000 - fp: 2244.0000 - tn: 9314.0000 - fn: 133.0000 - accuracy: 0.8131 - precision: 0.3140 - recall: 0.8853 - auc: 0.9184 - prc: 0.5386WARNING:tensorflow:Early stopping conditioned on metric `val_prc` which is not available. Available metrics are: loss,tp,fp,tn,fn,accuracy,precision,recall,auc,prc\n",
            "50/50 [==============================] - 8s 157ms/step - loss: 0.3542 - tp: 1027.0000 - fp: 2244.0000 - tn: 9314.0000 - fn: 133.0000 - accuracy: 0.8131 - precision: 0.3140 - recall: 0.8853 - auc: 0.9184 - prc: 0.5386\n",
            "Epoch 68/100\n",
            "50/50 [==============================] - ETA: 0s - loss: 0.3458 - tp: 1029.0000 - fp: 2070.0000 - tn: 9488.0000 - fn: 131.0000 - accuracy: 0.8269 - precision: 0.3320 - recall: 0.8871 - auc: 0.9236 - prc: 0.5692WARNING:tensorflow:Early stopping conditioned on metric `val_prc` which is not available. Available metrics are: loss,tp,fp,tn,fn,accuracy,precision,recall,auc,prc\n",
            "50/50 [==============================] - 8s 157ms/step - loss: 0.3458 - tp: 1029.0000 - fp: 2070.0000 - tn: 9488.0000 - fn: 131.0000 - accuracy: 0.8269 - precision: 0.3320 - recall: 0.8871 - auc: 0.9236 - prc: 0.5692\n",
            "Epoch 69/100\n",
            "50/50 [==============================] - ETA: 0s - loss: 0.3335 - tp: 1046.0000 - fp: 2178.0000 - tn: 9380.0000 - fn: 114.0000 - accuracy: 0.8198 - precision: 0.3244 - recall: 0.9017 - auc: 0.9285 - prc: 0.5827WARNING:tensorflow:Early stopping conditioned on metric `val_prc` which is not available. Available metrics are: loss,tp,fp,tn,fn,accuracy,precision,recall,auc,prc\n",
            "50/50 [==============================] - 8s 157ms/step - loss: 0.3335 - tp: 1046.0000 - fp: 2178.0000 - tn: 9380.0000 - fn: 114.0000 - accuracy: 0.8198 - precision: 0.3244 - recall: 0.9017 - auc: 0.9285 - prc: 0.5827\n",
            "Epoch 70/100\n",
            "50/50 [==============================] - ETA: 0s - loss: 0.3493 - tp: 1024.0000 - fp: 2220.0000 - tn: 9338.0000 - fn: 136.0000 - accuracy: 0.8148 - precision: 0.3157 - recall: 0.8828 - auc: 0.9223 - prc: 0.5719WARNING:tensorflow:Early stopping conditioned on metric `val_prc` which is not available. Available metrics are: loss,tp,fp,tn,fn,accuracy,precision,recall,auc,prc\n",
            "50/50 [==============================] - 8s 157ms/step - loss: 0.3493 - tp: 1024.0000 - fp: 2220.0000 - tn: 9338.0000 - fn: 136.0000 - accuracy: 0.8148 - precision: 0.3157 - recall: 0.8828 - auc: 0.9223 - prc: 0.5719\n",
            "Epoch 71/100\n",
            "50/50 [==============================] - ETA: 0s - loss: 0.3389 - tp: 1020.0000 - fp: 2015.0000 - tn: 9543.0000 - fn: 140.0000 - accuracy: 0.8306 - precision: 0.3361 - recall: 0.8793 - auc: 0.9263 - prc: 0.5664WARNING:tensorflow:Early stopping conditioned on metric `val_prc` which is not available. Available metrics are: loss,tp,fp,tn,fn,accuracy,precision,recall,auc,prc\n",
            "50/50 [==============================] - 8s 157ms/step - loss: 0.3389 - tp: 1020.0000 - fp: 2015.0000 - tn: 9543.0000 - fn: 140.0000 - accuracy: 0.8306 - precision: 0.3361 - recall: 0.8793 - auc: 0.9263 - prc: 0.5664\n",
            "Epoch 72/100\n",
            "50/50 [==============================] - ETA: 0s - loss: 0.3419 - tp: 1032.0000 - fp: 2066.0000 - tn: 9492.0000 - fn: 128.0000 - accuracy: 0.8275 - precision: 0.3331 - recall: 0.8897 - auc: 0.9255 - prc: 0.5641WARNING:tensorflow:Early stopping conditioned on metric `val_prc` which is not available. Available metrics are: loss,tp,fp,tn,fn,accuracy,precision,recall,auc,prc\n",
            "50/50 [==============================] - 8s 157ms/step - loss: 0.3419 - tp: 1032.0000 - fp: 2066.0000 - tn: 9492.0000 - fn: 128.0000 - accuracy: 0.8275 - precision: 0.3331 - recall: 0.8897 - auc: 0.9255 - prc: 0.5641\n",
            "Epoch 73/100\n",
            "50/50 [==============================] - ETA: 0s - loss: 0.3284 - tp: 1032.0000 - fp: 2023.0000 - tn: 9535.0000 - fn: 128.0000 - accuracy: 0.8309 - precision: 0.3378 - recall: 0.8897 - auc: 0.9311 - prc: 0.5944WARNING:tensorflow:Early stopping conditioned on metric `val_prc` which is not available. Available metrics are: loss,tp,fp,tn,fn,accuracy,precision,recall,auc,prc\n",
            "50/50 [==============================] - 8s 157ms/step - loss: 0.3284 - tp: 1032.0000 - fp: 2023.0000 - tn: 9535.0000 - fn: 128.0000 - accuracy: 0.8309 - precision: 0.3378 - recall: 0.8897 - auc: 0.9311 - prc: 0.5944\n",
            "Epoch 74/100\n",
            "50/50 [==============================] - ETA: 0s - loss: 0.3345 - tp: 1037.0000 - fp: 2058.0000 - tn: 9500.0000 - fn: 123.0000 - accuracy: 0.8285 - precision: 0.3351 - recall: 0.8940 - auc: 0.9297 - prc: 0.6034WARNING:tensorflow:Early stopping conditioned on metric `val_prc` which is not available. Available metrics are: loss,tp,fp,tn,fn,accuracy,precision,recall,auc,prc\n",
            "50/50 [==============================] - 8s 157ms/step - loss: 0.3345 - tp: 1037.0000 - fp: 2058.0000 - tn: 9500.0000 - fn: 123.0000 - accuracy: 0.8285 - precision: 0.3351 - recall: 0.8940 - auc: 0.9297 - prc: 0.6034\n",
            "Epoch 75/100\n",
            "50/50 [==============================] - ETA: 0s - loss: 0.3362 - tp: 1031.0000 - fp: 2037.0000 - tn: 9521.0000 - fn: 129.0000 - accuracy: 0.8297 - precision: 0.3360 - recall: 0.8888 - auc: 0.9287 - prc: 0.5927WARNING:tensorflow:Early stopping conditioned on metric `val_prc` which is not available. Available metrics are: loss,tp,fp,tn,fn,accuracy,precision,recall,auc,prc\n",
            "50/50 [==============================] - 8s 157ms/step - loss: 0.3362 - tp: 1031.0000 - fp: 2037.0000 - tn: 9521.0000 - fn: 129.0000 - accuracy: 0.8297 - precision: 0.3360 - recall: 0.8888 - auc: 0.9287 - prc: 0.5927\n",
            "Epoch 76/100\n",
            "50/50 [==============================] - ETA: 0s - loss: 0.3268 - tp: 1036.0000 - fp: 1951.0000 - tn: 9607.0000 - fn: 124.0000 - accuracy: 0.8368 - precision: 0.3468 - recall: 0.8931 - auc: 0.9321 - prc: 0.5954WARNING:tensorflow:Early stopping conditioned on metric `val_prc` which is not available. Available metrics are: loss,tp,fp,tn,fn,accuracy,precision,recall,auc,prc\n",
            "50/50 [==============================] - 8s 157ms/step - loss: 0.3268 - tp: 1036.0000 - fp: 1951.0000 - tn: 9607.0000 - fn: 124.0000 - accuracy: 0.8368 - precision: 0.3468 - recall: 0.8931 - auc: 0.9321 - prc: 0.5954\n",
            "Epoch 77/100\n",
            "50/50 [==============================] - ETA: 0s - loss: 0.3298 - tp: 1049.0000 - fp: 2030.0000 - tn: 9528.0000 - fn: 111.0000 - accuracy: 0.8317 - precision: 0.3407 - recall: 0.9043 - auc: 0.9305 - prc: 0.5779WARNING:tensorflow:Early stopping conditioned on metric `val_prc` which is not available. Available metrics are: loss,tp,fp,tn,fn,accuracy,precision,recall,auc,prc\n",
            "50/50 [==============================] - 8s 157ms/step - loss: 0.3298 - tp: 1049.0000 - fp: 2030.0000 - tn: 9528.0000 - fn: 111.0000 - accuracy: 0.8317 - precision: 0.3407 - recall: 0.9043 - auc: 0.9305 - prc: 0.5779\n",
            "Epoch 78/100\n",
            "50/50 [==============================] - ETA: 0s - loss: 0.3301 - tp: 1037.0000 - fp: 2065.0000 - tn: 9493.0000 - fn: 123.0000 - accuracy: 0.8280 - precision: 0.3343 - recall: 0.8940 - auc: 0.9313 - prc: 0.6069WARNING:tensorflow:Early stopping conditioned on metric `val_prc` which is not available. Available metrics are: loss,tp,fp,tn,fn,accuracy,precision,recall,auc,prc\n",
            "50/50 [==============================] - 8s 158ms/step - loss: 0.3301 - tp: 1037.0000 - fp: 2065.0000 - tn: 9493.0000 - fn: 123.0000 - accuracy: 0.8280 - precision: 0.3343 - recall: 0.8940 - auc: 0.9313 - prc: 0.6069\n",
            "Epoch 79/100\n",
            "50/50 [==============================] - ETA: 0s - loss: 0.3170 - tp: 1033.0000 - fp: 1896.0000 - tn: 9662.0000 - fn: 127.0000 - accuracy: 0.8409 - precision: 0.3527 - recall: 0.8905 - auc: 0.9363 - prc: 0.6057WARNING:tensorflow:Early stopping conditioned on metric `val_prc` which is not available. Available metrics are: loss,tp,fp,tn,fn,accuracy,precision,recall,auc,prc\n",
            "50/50 [==============================] - 8s 157ms/step - loss: 0.3170 - tp: 1033.0000 - fp: 1896.0000 - tn: 9662.0000 - fn: 127.0000 - accuracy: 0.8409 - precision: 0.3527 - recall: 0.8905 - auc: 0.9363 - prc: 0.6057\n",
            "Epoch 80/100\n",
            "50/50 [==============================] - ETA: 0s - loss: 0.3212 - tp: 1044.0000 - fp: 1963.0000 - tn: 9595.0000 - fn: 116.0000 - accuracy: 0.8365 - precision: 0.3472 - recall: 0.9000 - auc: 0.9354 - prc: 0.6189WARNING:tensorflow:Early stopping conditioned on metric `val_prc` which is not available. Available metrics are: loss,tp,fp,tn,fn,accuracy,precision,recall,auc,prc\n",
            "50/50 [==============================] - 8s 158ms/step - loss: 0.3212 - tp: 1044.0000 - fp: 1963.0000 - tn: 9595.0000 - fn: 116.0000 - accuracy: 0.8365 - precision: 0.3472 - recall: 0.9000 - auc: 0.9354 - prc: 0.6189\n",
            "Epoch 81/100\n",
            "50/50 [==============================] - ETA: 0s - loss: 0.3326 - tp: 1030.0000 - fp: 1969.0000 - tn: 9589.0000 - fn: 130.0000 - accuracy: 0.8350 - precision: 0.3434 - recall: 0.8879 - auc: 0.9314 - prc: 0.6131WARNING:tensorflow:Early stopping conditioned on metric `val_prc` which is not available. Available metrics are: loss,tp,fp,tn,fn,accuracy,precision,recall,auc,prc\n",
            "50/50 [==============================] - 8s 158ms/step - loss: 0.3326 - tp: 1030.0000 - fp: 1969.0000 - tn: 9589.0000 - fn: 130.0000 - accuracy: 0.8350 - precision: 0.3434 - recall: 0.8879 - auc: 0.9314 - prc: 0.6131\n",
            "Epoch 82/100\n",
            "50/50 [==============================] - ETA: 0s - loss: 0.3106 - tp: 1048.0000 - fp: 1906.0000 - tn: 9652.0000 - fn: 112.0000 - accuracy: 0.8413 - precision: 0.3548 - recall: 0.9034 - auc: 0.9396 - prc: 0.6288WARNING:tensorflow:Early stopping conditioned on metric `val_prc` which is not available. Available metrics are: loss,tp,fp,tn,fn,accuracy,precision,recall,auc,prc\n",
            "50/50 [==============================] - 8s 158ms/step - loss: 0.3106 - tp: 1048.0000 - fp: 1906.0000 - tn: 9652.0000 - fn: 112.0000 - accuracy: 0.8413 - precision: 0.3548 - recall: 0.9034 - auc: 0.9396 - prc: 0.6288\n",
            "Epoch 83/100\n",
            "50/50 [==============================] - ETA: 0s - loss: 0.3314 - tp: 1043.0000 - fp: 2007.0000 - tn: 9551.0000 - fn: 117.0000 - accuracy: 0.8330 - precision: 0.3420 - recall: 0.8991 - auc: 0.9303 - prc: 0.5976WARNING:tensorflow:Early stopping conditioned on metric `val_prc` which is not available. Available metrics are: loss,tp,fp,tn,fn,accuracy,precision,recall,auc,prc\n",
            "50/50 [==============================] - 8s 158ms/step - loss: 0.3314 - tp: 1043.0000 - fp: 2007.0000 - tn: 9551.0000 - fn: 117.0000 - accuracy: 0.8330 - precision: 0.3420 - recall: 0.8991 - auc: 0.9303 - prc: 0.5976\n",
            "Epoch 84/100\n",
            "50/50 [==============================] - ETA: 0s - loss: 0.3094 - tp: 1043.0000 - fp: 1937.0000 - tn: 9621.0000 - fn: 117.0000 - accuracy: 0.8385 - precision: 0.3500 - recall: 0.8991 - auc: 0.9390 - prc: 0.6244WARNING:tensorflow:Early stopping conditioned on metric `val_prc` which is not available. Available metrics are: loss,tp,fp,tn,fn,accuracy,precision,recall,auc,prc\n",
            "50/50 [==============================] - 8s 158ms/step - loss: 0.3094 - tp: 1043.0000 - fp: 1937.0000 - tn: 9621.0000 - fn: 117.0000 - accuracy: 0.8385 - precision: 0.3500 - recall: 0.8991 - auc: 0.9390 - prc: 0.6244\n",
            "Epoch 85/100\n",
            "50/50 [==============================] - ETA: 0s - loss: 0.3083 - tp: 1050.0000 - fp: 1953.0000 - tn: 9605.0000 - fn: 110.0000 - accuracy: 0.8378 - precision: 0.3497 - recall: 0.9052 - auc: 0.9399 - prc: 0.6402WARNING:tensorflow:Early stopping conditioned on metric `val_prc` which is not available. Available metrics are: loss,tp,fp,tn,fn,accuracy,precision,recall,auc,prc\n",
            "50/50 [==============================] - 8s 158ms/step - loss: 0.3083 - tp: 1050.0000 - fp: 1953.0000 - tn: 9605.0000 - fn: 110.0000 - accuracy: 0.8378 - precision: 0.3497 - recall: 0.9052 - auc: 0.9399 - prc: 0.6402\n",
            "Epoch 86/100\n",
            "50/50 [==============================] - ETA: 0s - loss: 0.3175 - tp: 1048.0000 - fp: 1893.0000 - tn: 9665.0000 - fn: 112.0000 - accuracy: 0.8423 - precision: 0.3563 - recall: 0.9034 - auc: 0.9372 - prc: 0.6256WARNING:tensorflow:Early stopping conditioned on metric `val_prc` which is not available. Available metrics are: loss,tp,fp,tn,fn,accuracy,precision,recall,auc,prc\n",
            "50/50 [==============================] - 8s 158ms/step - loss: 0.3175 - tp: 1048.0000 - fp: 1893.0000 - tn: 9665.0000 - fn: 112.0000 - accuracy: 0.8423 - precision: 0.3563 - recall: 0.9034 - auc: 0.9372 - prc: 0.6256\n",
            "Epoch 87/100\n",
            "50/50 [==============================] - ETA: 0s - loss: 0.2908 - tp: 1060.0000 - fp: 1827.0000 - tn: 9731.0000 - fn: 100.0000 - accuracy: 0.8485 - precision: 0.3672 - recall: 0.9138 - auc: 0.9461 - prc: 0.6640WARNING:tensorflow:Early stopping conditioned on metric `val_prc` which is not available. Available metrics are: loss,tp,fp,tn,fn,accuracy,precision,recall,auc,prc\n",
            "50/50 [==============================] - 8s 158ms/step - loss: 0.2908 - tp: 1060.0000 - fp: 1827.0000 - tn: 9731.0000 - fn: 100.0000 - accuracy: 0.8485 - precision: 0.3672 - recall: 0.9138 - auc: 0.9461 - prc: 0.6640\n",
            "Epoch 88/100\n",
            "50/50 [==============================] - ETA: 0s - loss: 0.3065 - tp: 1045.0000 - fp: 1860.0000 - tn: 9698.0000 - fn: 115.0000 - accuracy: 0.8447 - precision: 0.3597 - recall: 0.9009 - auc: 0.9401 - prc: 0.6418WARNING:tensorflow:Early stopping conditioned on metric `val_prc` which is not available. Available metrics are: loss,tp,fp,tn,fn,accuracy,precision,recall,auc,prc\n",
            "50/50 [==============================] - 8s 158ms/step - loss: 0.3065 - tp: 1045.0000 - fp: 1860.0000 - tn: 9698.0000 - fn: 115.0000 - accuracy: 0.8447 - precision: 0.3597 - recall: 0.9009 - auc: 0.9401 - prc: 0.6418\n",
            "Epoch 89/100\n",
            "50/50 [==============================] - ETA: 0s - loss: 0.3235 - tp: 1035.0000 - fp: 1958.0000 - tn: 9600.0000 - fn: 125.0000 - accuracy: 0.8362 - precision: 0.3458 - recall: 0.8922 - auc: 0.9346 - prc: 0.6173WARNING:tensorflow:Early stopping conditioned on metric `val_prc` which is not available. Available metrics are: loss,tp,fp,tn,fn,accuracy,precision,recall,auc,prc\n",
            "50/50 [==============================] - 8s 157ms/step - loss: 0.3235 - tp: 1035.0000 - fp: 1958.0000 - tn: 9600.0000 - fn: 125.0000 - accuracy: 0.8362 - precision: 0.3458 - recall: 0.8922 - auc: 0.9346 - prc: 0.6173\n",
            "Epoch 90/100\n",
            "50/50 [==============================] - ETA: 0s - loss: 0.2981 - tp: 1061.0000 - fp: 1909.0000 - tn: 9649.0000 - fn: 99.0000 - accuracy: 0.8421 - precision: 0.3572 - recall: 0.9147 - auc: 0.9436 - prc: 0.6504WARNING:tensorflow:Early stopping conditioned on metric `val_prc` which is not available. Available metrics are: loss,tp,fp,tn,fn,accuracy,precision,recall,auc,prc\n",
            "50/50 [==============================] - 8s 158ms/step - loss: 0.2981 - tp: 1061.0000 - fp: 1909.0000 - tn: 9649.0000 - fn: 99.0000 - accuracy: 0.8421 - precision: 0.3572 - recall: 0.9147 - auc: 0.9436 - prc: 0.6504\n",
            "Epoch 91/100\n",
            "50/50 [==============================] - ETA: 0s - loss: 0.2877 - tp: 1056.0000 - fp: 1753.0000 - tn: 9805.0000 - fn: 104.0000 - accuracy: 0.8540 - precision: 0.3759 - recall: 0.9103 - auc: 0.9466 - prc: 0.6426WARNING:tensorflow:Early stopping conditioned on metric `val_prc` which is not available. Available metrics are: loss,tp,fp,tn,fn,accuracy,precision,recall,auc,prc\n",
            "50/50 [==============================] - 8s 158ms/step - loss: 0.2877 - tp: 1056.0000 - fp: 1753.0000 - tn: 9805.0000 - fn: 104.0000 - accuracy: 0.8540 - precision: 0.3759 - recall: 0.9103 - auc: 0.9466 - prc: 0.6426\n",
            "Epoch 92/100\n",
            "50/50 [==============================] - ETA: 0s - loss: 0.3065 - tp: 1042.0000 - fp: 1907.0000 - tn: 9651.0000 - fn: 118.0000 - accuracy: 0.8408 - precision: 0.3533 - recall: 0.8983 - auc: 0.9410 - prc: 0.6488WARNING:tensorflow:Early stopping conditioned on metric `val_prc` which is not available. Available metrics are: loss,tp,fp,tn,fn,accuracy,precision,recall,auc,prc\n",
            "50/50 [==============================] - 8s 158ms/step - loss: 0.3065 - tp: 1042.0000 - fp: 1907.0000 - tn: 9651.0000 - fn: 118.0000 - accuracy: 0.8408 - precision: 0.3533 - recall: 0.8983 - auc: 0.9410 - prc: 0.6488\n",
            "Epoch 93/100\n",
            "50/50 [==============================] - ETA: 0s - loss: 0.3022 - tp: 1046.0000 - fp: 1832.0000 - tn: 9726.0000 - fn: 114.0000 - accuracy: 0.8470 - precision: 0.3634 - recall: 0.9017 - auc: 0.9422 - prc: 0.6383WARNING:tensorflow:Early stopping conditioned on metric `val_prc` which is not available. Available metrics are: loss,tp,fp,tn,fn,accuracy,precision,recall,auc,prc\n",
            "50/50 [==============================] - 8s 158ms/step - loss: 0.3022 - tp: 1046.0000 - fp: 1832.0000 - tn: 9726.0000 - fn: 114.0000 - accuracy: 0.8470 - precision: 0.3634 - recall: 0.9017 - auc: 0.9422 - prc: 0.6383\n",
            "Epoch 94/100\n",
            "50/50 [==============================] - ETA: 0s - loss: 0.2869 - tp: 1056.0000 - fp: 1808.0000 - tn: 9750.0000 - fn: 104.0000 - accuracy: 0.8497 - precision: 0.3687 - recall: 0.9103 - auc: 0.9474 - prc: 0.6660WARNING:tensorflow:Early stopping conditioned on metric `val_prc` which is not available. Available metrics are: loss,tp,fp,tn,fn,accuracy,precision,recall,auc,prc\n",
            "50/50 [==============================] - 8s 158ms/step - loss: 0.2869 - tp: 1056.0000 - fp: 1808.0000 - tn: 9750.0000 - fn: 104.0000 - accuracy: 0.8497 - precision: 0.3687 - recall: 0.9103 - auc: 0.9474 - prc: 0.6660\n",
            "Epoch 95/100\n",
            "50/50 [==============================] - ETA: 0s - loss: 0.3042 - tp: 1050.0000 - fp: 1790.0000 - tn: 9768.0000 - fn: 110.0000 - accuracy: 0.8506 - precision: 0.3697 - recall: 0.9052 - auc: 0.9430 - prc: 0.6425WARNING:tensorflow:Early stopping conditioned on metric `val_prc` which is not available. Available metrics are: loss,tp,fp,tn,fn,accuracy,precision,recall,auc,prc\n",
            "50/50 [==============================] - 8s 157ms/step - loss: 0.3042 - tp: 1050.0000 - fp: 1790.0000 - tn: 9768.0000 - fn: 110.0000 - accuracy: 0.8506 - precision: 0.3697 - recall: 0.9052 - auc: 0.9430 - prc: 0.6425\n",
            "Epoch 96/100\n",
            "50/50 [==============================] - ETA: 0s - loss: 0.2809 - tp: 1056.0000 - fp: 1704.0000 - tn: 9854.0000 - fn: 104.0000 - accuracy: 0.8578 - precision: 0.3826 - recall: 0.9103 - auc: 0.9497 - prc: 0.6595WARNING:tensorflow:Early stopping conditioned on metric `val_prc` which is not available. Available metrics are: loss,tp,fp,tn,fn,accuracy,precision,recall,auc,prc\n",
            "50/50 [==============================] - 8s 157ms/step - loss: 0.2809 - tp: 1056.0000 - fp: 1704.0000 - tn: 9854.0000 - fn: 104.0000 - accuracy: 0.8578 - precision: 0.3826 - recall: 0.9103 - auc: 0.9497 - prc: 0.6595\n",
            "Epoch 97/100\n",
            "50/50 [==============================] - ETA: 0s - loss: 0.2891 - tp: 1066.0000 - fp: 1881.0000 - tn: 9677.0000 - fn: 94.0000 - accuracy: 0.8447 - precision: 0.3617 - recall: 0.9190 - auc: 0.9473 - prc: 0.6703WARNING:tensorflow:Early stopping conditioned on metric `val_prc` which is not available. Available metrics are: loss,tp,fp,tn,fn,accuracy,precision,recall,auc,prc\n",
            "50/50 [==============================] - 8s 159ms/step - loss: 0.2891 - tp: 1066.0000 - fp: 1881.0000 - tn: 9677.0000 - fn: 94.0000 - accuracy: 0.8447 - precision: 0.3617 - recall: 0.9190 - auc: 0.9473 - prc: 0.6703\n",
            "Epoch 98/100\n",
            "50/50 [==============================] - ETA: 0s - loss: 0.2981 - tp: 1053.0000 - fp: 1800.0000 - tn: 9758.0000 - fn: 107.0000 - accuracy: 0.8501 - precision: 0.3691 - recall: 0.9078 - auc: 0.9445 - prc: 0.6638WARNING:tensorflow:Early stopping conditioned on metric `val_prc` which is not available. Available metrics are: loss,tp,fp,tn,fn,accuracy,precision,recall,auc,prc\n",
            "50/50 [==============================] - 8s 158ms/step - loss: 0.2981 - tp: 1053.0000 - fp: 1800.0000 - tn: 9758.0000 - fn: 107.0000 - accuracy: 0.8501 - precision: 0.3691 - recall: 0.9078 - auc: 0.9445 - prc: 0.6638\n",
            "Epoch 99/100\n",
            "50/50 [==============================] - ETA: 0s - loss: 0.2897 - tp: 1053.0000 - fp: 1736.0000 - tn: 9822.0000 - fn: 107.0000 - accuracy: 0.8551 - precision: 0.3776 - recall: 0.9078 - auc: 0.9471 - prc: 0.6591WARNING:tensorflow:Early stopping conditioned on metric `val_prc` which is not available. Available metrics are: loss,tp,fp,tn,fn,accuracy,precision,recall,auc,prc\n",
            "50/50 [==============================] - 8s 158ms/step - loss: 0.2897 - tp: 1053.0000 - fp: 1736.0000 - tn: 9822.0000 - fn: 107.0000 - accuracy: 0.8551 - precision: 0.3776 - recall: 0.9078 - auc: 0.9471 - prc: 0.6591\n",
            "Epoch 100/100\n",
            "50/50 [==============================] - ETA: 0s - loss: 0.2981 - tp: 1053.0000 - fp: 1824.0000 - tn: 9734.0000 - fn: 107.0000 - accuracy: 0.8482 - precision: 0.3660 - recall: 0.9078 - auc: 0.9435 - prc: 0.6569WARNING:tensorflow:Early stopping conditioned on metric `val_prc` which is not available. Available metrics are: loss,tp,fp,tn,fn,accuracy,precision,recall,auc,prc\n",
            "50/50 [==============================] - 8s 158ms/step - loss: 0.2981 - tp: 1053.0000 - fp: 1824.0000 - tn: 9734.0000 - fn: 107.0000 - accuracy: 0.8482 - precision: 0.3660 - recall: 0.9078 - auc: 0.9435 - prc: 0.6569\n"
          ]
        },
        {
          "data": {
            "text/plain": [
              "<keras.callbacks.History at 0x7f196929ec10>"
            ]
          },
          "execution_count": 88,
          "metadata": {},
          "output_type": "execute_result"
        }
      ],
      "source": [
        "model = create_model()\n",
        "early_stopping = tf.keras.callbacks.EarlyStopping(\n",
        "    monitor='val_prc', \n",
        "    verbose=1,\n",
        "    patience=30,\n",
        "    mode='max',\n",
        "    restore_best_weights=True)\n",
        "model.fit(x = X_train, y = y_train, batch_size=256, epochs=100, callbacks=[early_stopping], class_weight=class_weight)"
      ]
    },
    {
      "cell_type": "code",
      "execution_count": null,
      "metadata": {
        "colab": {
          "base_uri": "https://localhost:8080/"
        },
        "id": "Nt1F8Ho8kRTW",
        "outputId": "94913f57-c8df-4ed7-9ccb-7a7a1d4af45e"
      },
      "outputs": [
        {
          "name": "stdout",
          "output_type": "stream",
          "text": [
            "Model: \"model_8\"\n",
            "__________________________________________________________________________________________________\n",
            " Layer (type)                   Output Shape         Param #     Connected to                     \n",
            "==================================================================================================\n",
            " conv2d_18_input (InputLayer)   [(None, 112, 112, 1  0           []                               \n",
            "                                )]                                                                \n",
            "                                                                                                  \n",
            " conv2d_18 (Conv2D)             (None, 112, 112, 32  320         ['conv2d_18_input[0][0]']        \n",
            "                                )                                                                 \n",
            "                                                                                                  \n",
            " conv2d_19 (Conv2D)             (None, 112, 112, 32  9248        ['conv2d_18[0][0]']              \n",
            "                                )                                                                 \n",
            "                                                                                                  \n",
            " max_pooling2d_8 (MaxPooling2D)  (None, 56, 56, 32)  0           ['conv2d_19[0][0]']              \n",
            "                                                                                                  \n",
            " dropout_60 (Dropout)           (None, 56, 56, 32)   0           ['max_pooling2d_8[0][0]']        \n",
            "                                                                                                  \n",
            " conv2d_20 (Conv2D)             (None, 56, 56, 64)   18496       ['dropout_60[0][0]']             \n",
            "                                                                                                  \n",
            " conv2d_21 (Conv2D)             (None, 56, 56, 64)   36928       ['conv2d_20[0][0]']              \n",
            "                                                                                                  \n",
            " max_pooling2d_9 (MaxPooling2D)  (None, 28, 28, 64)  0           ['conv2d_21[0][0]']              \n",
            "                                                                                                  \n",
            " dropout_61 (Dropout)           (None, 28, 28, 64)   0           ['max_pooling2d_9[0][0]']        \n",
            "                                                                                                  \n",
            " conv2d_22 (Conv2D)             (None, 28, 28, 128)  73856       ['dropout_61[0][0]']             \n",
            "                                                                                                  \n",
            " conv2d_23 (Conv2D)             (None, 28, 28, 128)  147584      ['conv2d_22[0][0]']              \n",
            "                                                                                                  \n",
            " max_pooling2d_10 (MaxPooling2D  (None, 14, 14, 128)  0          ['conv2d_23[0][0]']              \n",
            " )                                                                                                \n",
            "                                                                                                  \n",
            " dropout_62 (Dropout)           (None, 14, 14, 128)  0           ['max_pooling2d_10[0][0]']       \n",
            "                                                                                                  \n",
            " conv2d_24 (Conv2D)             (None, 14, 14, 256)  295168      ['dropout_62[0][0]']             \n",
            "                                                                                                  \n",
            " input_19 (InputLayer)          [(None, 112, 134)]   0           []                               \n",
            "                                                                                                  \n",
            " conv2d_25 (Conv2D)             (None, 14, 14, 256)  590080      ['conv2d_24[0][0]']              \n",
            "                                                                                                  \n",
            " dropout_65 (Dropout)           (None, 112, 134)     0           ['input_19[0][0]']               \n",
            "                                                                                                  \n",
            " input_20 (InputLayer)          [(None, 112, 112)]   0           []                               \n",
            "                                                                                                  \n",
            " max_pooling2d_11 (MaxPooling2D  (None, 7, 7, 256)   0           ['conv2d_25[0][0]']              \n",
            " )                                                                                                \n",
            "                                                                                                  \n",
            " graph_convolution_4 (GraphConv  (None, 112, 32)     4320        ['dropout_65[0][0]',             \n",
            " olution)                                                         'input_20[0][0]']               \n",
            "                                                                                                  \n",
            " dropout_63 (Dropout)           (None, 7, 7, 256)    0           ['max_pooling2d_11[0][0]']       \n",
            "                                                                                                  \n",
            " dropout_66 (Dropout)           (None, 112, 32)      0           ['graph_convolution_4[0][0]']    \n",
            "                                                                                                  \n",
            " conv2d_26 (Conv2D)             (None, 7, 7, 64)     16448       ['dropout_63[0][0]']             \n",
            "                                                                                                  \n",
            " graph_convolution_5 (GraphConv  (None, 112, 32)     1056        ['dropout_66[0][0]',             \n",
            " olution)                                                         'input_20[0][0]']               \n",
            "                                                                                                  \n",
            " flatten_4 (Flatten)            (None, 3136)         0           ['conv2d_26[0][0]']              \n",
            "                                                                                                  \n",
            " flatten_5 (Flatten)            (None, 3584)         0           ['graph_convolution_5[0][0]']    \n",
            "                                                                                                  \n",
            " dense_66 (Dense)               (None, 64)           200768      ['flatten_4[0][0]']              \n",
            "                                                                                                  \n",
            " dense_67 (Dense)               (None, 64)           229440      ['flatten_5[0][0]']              \n",
            "                                                                                                  \n",
            " dropout_64 (Dropout)           (None, 64)           0           ['dense_66[0][0]']               \n",
            "                                                                                                  \n",
            " dropout_67 (Dropout)           (None, 64)           0           ['dense_67[0][0]']               \n",
            "                                                                                                  \n",
            " concatenate_2 (Concatenate)    (None, 128)          0           ['dropout_64[0][0]',             \n",
            "                                                                  'dropout_67[0][0]']             \n",
            "                                                                                                  \n",
            "==================================================================================================\n",
            "Total params: 1,623,712\n",
            "Trainable params: 1,623,712\n",
            "Non-trainable params: 0\n",
            "__________________________________________________________________________________________________\n"
          ]
        }
      ],
      "source": [
        "presentation_model = Model(inputs=model.inputs, outputs=model.layers[-5].output)\n",
        "presentation_model.summary()"
      ]
    },
    {
      "cell_type": "code",
      "execution_count": null,
      "metadata": {
        "colab": {
          "base_uri": "https://localhost:8080/"
        },
        "id": "kKfMyyYtkRTX",
        "outputId": "395a2f65-9c60-47fd-cb23-df04454f0985"
      },
      "outputs": [
        {
          "name": "stdout",
          "output_type": "stream",
          "text": [
            "(5451, 128)\n"
          ]
        }
      ],
      "source": [
        "X_test = presentation_model.predict(X_test)\n",
        "print(X_test.shape)"
      ]
    },
    {
      "cell_type": "code",
      "execution_count": null,
      "metadata": {
        "id": "tBr1h8IjkRTY"
      },
      "outputs": [],
      "source": [
        "X_train = presentation_model.predict(X_train)"
      ]
    },
    {
      "cell_type": "code",
      "execution_count": null,
      "metadata": {
        "colab": {
          "base_uri": "https://localhost:8080/"
        },
        "id": "mHABVYGakRTZ",
        "outputId": "7eab8b8f-703e-4fa8-8428-ed03ddad897b"
      },
      "outputs": [
        {
          "name": "stdout",
          "output_type": "stream",
          "text": [
            "(5451,)\n"
          ]
        }
      ],
      "source": [
        "# print(X_train.shape)\n",
        "print(y_test.shape)"
      ]
    },
    {
      "cell_type": "code",
      "execution_count": null,
      "metadata": {
        "colab": {
          "base_uri": "https://localhost:8080/"
        },
        "id": "qFEEXQCakRTZ",
        "outputId": "75c0c261-8045-465b-90e2-814ba013b512"
      },
      "outputs": [
        {
          "name": "stdout",
          "output_type": "stream",
          "text": [
            "Counter({0: 11558, 1: 5779})\n"
          ]
        }
      ],
      "source": [
        "from collections import Counter\n",
        "\n",
        "print(Counter(y_train))"
      ]
    },
    {
      "cell_type": "code",
      "execution_count": null,
      "metadata": {
        "id": "tkBAVxTHkRTa"
      },
      "outputs": [],
      "source": [
        "import imblearn\n",
        "from imblearn.over_sampling import SMOTE\n",
        "\n",
        "# transform the dataset\n",
        "oversample = SMOTE()\n",
        "X_train, y_train = oversample.fit_resample(X_train, y_train)"
      ]
    },
    {
      "cell_type": "code",
      "execution_count": null,
      "metadata": {
        "colab": {
          "base_uri": "https://localhost:8080/"
        },
        "id": "cBAVi57UkRTb",
        "outputId": "5b8ad687-93b1-4318-fbe4-c172025bbf00"
      },
      "outputs": [
        {
          "name": "stdout",
          "output_type": "stream",
          "text": [
            "Counter({0: 11558, 1: 11558})\n"
          ]
        }
      ],
      "source": [
        "print(Counter(y_train))"
      ]
    },
    {
      "cell_type": "code",
      "execution_count": null,
      "metadata": {
        "id": "ab_Gl8_bkRTb"
      },
      "outputs": [],
      "source": [
        "def classifierModel():\n",
        "    model = Sequential()\n",
        "    model.add(Input(shape=(128)))\n",
        "\n",
        "    model.add(Dense(64, activation='relu'))\n",
        "    model.add(Dropout(0.25))\n",
        "\n",
        "    model.add(Dense(32, activation='relu'))\n",
        "    model.add(Dropout(0.25))\n",
        "\n",
        "    model.add(Dense(8, activation='relu'))\n",
        "    model.add(Dropout(0.25))\n",
        "\n",
        "    model.add(Dense(n_class, activation='sigmoid'))\n",
        "\n",
        "    model.compile(optimizer=tf.keras.optimizers.Adam(), loss=tfa.losses.TripletSemiHardLoss(), metrics=METRICS)\n",
        "    model.summary()\n",
        "    return model"
      ]
    },
    {
      "cell_type": "code",
      "execution_count": null,
      "metadata": {
        "id": "zoZLuoZbkRTc"
      },
      "outputs": [],
      "source": [
        "checkpoint_filepath = 'best.hdf5'\n",
        "model = classifierModel()\n",
        "# monitor=\"val_loss\"\n",
        "model_checkpoint_callback = tf.keras.callbacks.ModelCheckpoint(filepath=checkpoint_filepath,monitor='val_accuracy',save_best_only=True, verbose=1)\n",
        "history = model.fit( x = X_train, y = y_train, batch_size=256, epochs=100, callbacks=[model_checkpoint_callback], validation_data = [X_test, y_test])"
      ]
    },
    {
      "cell_type": "code",
      "execution_count": null,
      "metadata": {
        "colab": {
          "base_uri": "https://localhost:8080/"
        },
        "id": "vPe1JHMukRTd",
        "outputId": "2fd68f76-3e6d-4d5d-84b8-91923b084a6c"
      },
      "outputs": [
        {
          "name": "stdout",
          "output_type": "stream",
          "text": [
            "Model: \"sequential_18\"\n",
            "_________________________________________________________________\n",
            " Layer (type)                Output Shape              Param #   \n",
            "=================================================================\n",
            " dense_75 (Dense)            (None, 64)                8256      \n",
            "                                                                 \n",
            " dropout_72 (Dropout)        (None, 64)                0         \n",
            "                                                                 \n",
            " dense_76 (Dense)            (None, 32)                2080      \n",
            "                                                                 \n",
            " dropout_73 (Dropout)        (None, 32)                0         \n",
            "                                                                 \n",
            " dense_77 (Dense)            (None, 8)                 264       \n",
            "                                                                 \n",
            " dropout_74 (Dropout)        (None, 8)                 0         \n",
            "                                                                 \n",
            " dense_78 (Dense)            (None, 1)                 9         \n",
            "                                                                 \n",
            "=================================================================\n",
            "Total params: 10,609\n",
            "Trainable params: 10,609\n",
            "Non-trainable params: 0\n",
            "_________________________________________________________________\n"
          ]
        }
      ],
      "source": [
        "checkpoint_filepath = 'best.hdf5'\n",
        "model = classifierModel()\n",
        "model.load_weights(checkpoint_filepath)"
      ]
    },
    {
      "cell_type": "code",
      "execution_count": null,
      "metadata": {
        "colab": {
          "base_uri": "https://localhost:8080/"
        },
        "id": "hpWwL29_kRTf",
        "outputId": "588afeb4-82b9-4df2-9b9a-111c5f0a273c"
      },
      "outputs": [
        {
          "name": "stdout",
          "output_type": "stream",
          "text": [
            "171/171 [==============================] - 2s 5ms/step - loss: 0.8313 - tp: 343.0000 - fp: 1122.0000 - tn: 8784.0000 - fn: 653.0000 - accuracy: 0.8372 - precision: 0.2341 - recall: 0.3444 - auc: 0.6298 - prc: 0.1656\n",
            "Test loss: 0.8312634825706482 / Test accuracy: 343.0\n"
          ]
        }
      ],
      "source": [
        "score = model.evaluate(X_test, y_test, verbose=1)\n",
        "print(f'Test loss: {score[0]} / Test accuracy: {score[1]}')"
      ]
    },
    {
      "cell_type": "code",
      "execution_count": null,
      "metadata": {
        "colab": {
          "base_uri": "https://localhost:8080/",
          "height": 297
        },
        "id": "8PBCoxU6kRTf",
        "outputId": "7f1af3ea-b62b-433a-bcf9-6945da5cf050"
      },
      "outputs": [
        {
          "data": {
            "text/plain": [
              "Text(33.0, 0.5, 'Actual')"
            ]
          },
          "execution_count": 99,
          "metadata": {},
          "output_type": "execute_result"
        },
        {
          "data": {
            "image/png": "[encoded data removed]",
            "text/plain": [
              "<Figure size 432x288 with 2 Axes>"
            ]
          },
          "metadata": {
            "needs_background": "light"
          },
          "output_type": "display_data"
        }
      ],
      "source": [
        "import seaborn as sns\n",
        "import matplotlib.pyplot as plt\n",
        "from sklearn.metrics import confusion_matrix\n",
        "from sklearn.metrics import classification_report\n",
        "\n",
        "y_pred = model.predict(X_test)\n",
        "\n",
        "matrix = confusion_matrix(y_test, y_pred.argmax(axis=1))\n",
        "sns.heatmap(matrix, annot=True, fmt='.0f', cmap='Blues', yticklabels=['non-vul', 'vul'],xticklabels=['non-vul', 'vul'])\n",
        "plt.xlabel(\"Predicted\")\n",
        "plt.ylabel(\"Actual\") "
      ]
    },
    {
      "cell_type": "code",
      "execution_count": null,
      "metadata": {
        "colab": {
          "base_uri": "https://localhost:8080/"
        },
        "id": "ftq1_X4VkRTh",
        "outputId": "8233ab6a-0a03-442a-be27-1f7b15ce621b"
      },
      "outputs": [
        {
          "name": "stdout",
          "output_type": "stream",
          "text": [
            "              precision    recall  f1-score   support\n",
            "\n",
            "           0       0.91      1.00      0.95      4953\n",
            "           1       0.00      0.00      0.00       498\n",
            "\n",
            "    accuracy                           0.91      5451\n",
            "   macro avg       0.45      0.50      0.48      5451\n",
            "weighted avg       0.83      0.91      0.87      5451\n",
            "\n"
          ]
        },
        {
          "name": "stderr",
          "output_type": "stream",
          "text": [
            "/usr/local/lib/python3.7/dist-packages/sklearn/metrics/_classification.py:1318: UndefinedMetricWarning: Precision and F-score are ill-defined and being set to 0.0 in labels with no predicted samples. Use `zero_division` parameter to control this behavior.\n",
            "  _warn_prf(average, modifier, msg_start, len(result))\n",
            "/usr/local/lib/python3.7/dist-packages/sklearn/metrics/_classification.py:1318: UndefinedMetricWarning: Precision and F-score are ill-defined and being set to 0.0 in labels with no predicted samples. Use `zero_division` parameter to control this behavior.\n",
            "  _warn_prf(average, modifier, msg_start, len(result))\n",
            "/usr/local/lib/python3.7/dist-packages/sklearn/metrics/_classification.py:1318: UndefinedMetricWarning: Precision and F-score are ill-defined and being set to 0.0 in labels with no predicted samples. Use `zero_division` parameter to control this behavior.\n",
            "  _warn_prf(average, modifier, msg_start, len(result))\n"
          ]
        }
      ],
      "source": [
        "print(classification_report(y_test, y_pred.argmax(axis=1)))"
      ]
    },
    {
      "cell_type": "markdown",
      "metadata": {
        "id": "6ouRzIWczAgT"
      },
      "source": [
        "## Representation learning with oversampling train data"
      ]
    },
    {
      "cell_type": "code",
      "execution_count": null,
      "metadata": {
        "id": "m-rt9pXO_zrW"
      },
      "outputs": [],
      "source": [
        "# Oversampling\n",
        "from imblearn.over_sampling import RandomOverSampler\n",
        "\n",
        "over = RandomOverSampler(sampling_strategy=0.5)\n",
        "import numpy as np\n",
        "index = np.arange(0, len(y_train)).reshape(-1, 1)\n",
        "x_index, y = over.fit_resample(index, y_train)"
      ]
    },
    {
      "cell_type": "code",
      "execution_count": null,
      "metadata": {
        "colab": {
          "base_uri": "https://localhost:8080/"
        },
        "id": "JLTLuJyU_zrW",
        "outputId": "f791237d-cfaa-4fd1-fe1d-eb1ac217fed1"
      },
      "outputs": [
        {
          "name": "stdout",
          "output_type": "stream",
          "text": [
            "(17337,)\n"
          ]
        }
      ],
      "source": [
        "index = x_index.reshape(1, -1)[0]\n",
        "print(y_train[index].shape)"
      ]
    },
    {
      "cell_type": "code",
      "execution_count": null,
      "metadata": {
        "id": "S7xXDCmb_zrX"
      },
      "outputs": [],
      "source": [
        "X_train = [X_train[i][index] for i in range(0, 3)]\n",
        "y_train = y_train[index]"
      ]
    },
    {
      "cell_type": "code",
      "execution_count": null,
      "metadata": {
        "colab": {
          "base_uri": "https://localhost:8080/"
        },
        "id": "zx8lmNBU_zrX",
        "outputId": "e1f5a493-8ecc-4a32-f974-065074dbcf84"
      },
      "outputs": [
        {
          "name": "stdout",
          "output_type": "stream",
          "text": [
            "neg:  4953\n",
            "pos:  498\n"
          ]
        }
      ],
      "source": [
        "print(\"neg: \", (y_test == 0).sum())\n",
        "print(\"pos: \", (y_test == 1).sum())"
      ]
    },
    {
      "cell_type": "code",
      "execution_count": null,
      "metadata": {
        "id": "vDjXnC7TzofR"
      },
      "outputs": [],
      "source": [
        "import tensorflow as tf\n",
        "from tensorflow.keras.models import Sequential\n",
        "from tensorflow.keras import Model\n",
        "from tensorflow.keras.layers import Dense, Conv2D, MaxPooling2D, Dropout, Flatten, GlobalAveragePooling1D,Input,concatenate,Concatenate\n",
        "from stellargraph.layer.gcn import GraphConvolution\n",
        "import tensorflow_addons as tfa\n",
        "\n",
        "# Model CNN cũ\n",
        "# Sửa lại padding = same cho tất cả các Conv layer\n",
        "# Thêm 1 block Conv\n",
        "def create_cnn_model():\n",
        "    model = Sequential()\n",
        "    model.add(Conv2D(32, (3, 3), padding='same', activation='relu', input_shape=(n_node_max,n_node_max, 1)))\n",
        "    model.add(Conv2D(32, (3, 3), padding='same', activation='relu'))\n",
        "    model.add(MaxPooling2D(pool_size=(2, 2)))\n",
        "    model.add(Dropout(0.25))\n",
        "\n",
        "    model.add(Conv2D(64, (3, 3), padding='same', activation='relu'))\n",
        "    model.add(Conv2D(64, (3, 3), padding='same', activation='relu'))\n",
        "    model.add(MaxPooling2D(pool_size=(2, 2)))\n",
        "    model.add(Dropout(0.25))\n",
        "\n",
        "    model.add(Conv2D(128, (3, 3), padding='same', activation='relu'))\n",
        "    model.add(Conv2D(128, (3, 3), padding='same', activation='relu'))\n",
        "    model.add(MaxPooling2D(pool_size=(2, 2)))\n",
        "    model.add(Dropout(0.25))\n",
        "\n",
        "    model.add(Conv2D(256, (3, 3), padding='same', activation='relu'))\n",
        "    model.add(Conv2D(256, (3, 3), padding='same', activation='relu'))\n",
        "    model.add(MaxPooling2D(pool_size=(2, 2)))\n",
        "    model.add(Dropout(0.25))\n",
        "\n",
        "    model.add(Conv2D(64, (1, 1), padding='same', activation='relu'))\n",
        "    model.add(Flatten())\n",
        "\n",
        "    model.add(Dense(64, activation='relu'))\n",
        "    model.add(Dropout(0.25))\n",
        "    \n",
        "    return model\n",
        "\n",
        "def create_gcn_model():\n",
        "    x_features = Input(shape=( n_node_max, n_node_feature))\n",
        "    x_adjacency = Input(shape=( n_node_max, n_node_max))\n",
        "    out = Dropout(0.5)(x_features)\n",
        "    out = GraphConvolution(32, activation='relu', \n",
        "                        use_bias=True\n",
        "                        )([out, x_adjacency])\n",
        "    out = Dropout(0.5)(out)\n",
        "    out = GraphConvolution(32, activation='relu', \n",
        "                        use_bias=True\n",
        "                        )([out, x_adjacency])\n",
        "\n",
        "    # out = GlobalAveragePooling1D()(out)\n",
        "    out = Flatten()(out)\n",
        "    out = Dense(64, activation='relu')(out)\n",
        "    out = Dropout(.25)(out)\n",
        "\n",
        "    model = Model(inputs=[x_features, x_adjacency], outputs=out)\n",
        "\n",
        "    return model"
      ]
    },
    {
      "cell_type": "code",
      "execution_count": null,
      "metadata": {
        "id": "Il9zISuizofU"
      },
      "outputs": [],
      "source": [
        "METRICS = [\n",
        "      tf.keras.metrics.TruePositives(name='tp'),\n",
        "      tf.keras.metrics.FalsePositives(name='fp'),\n",
        "      tf.keras.metrics.TrueNegatives(name='tn'),\n",
        "      tf.keras.metrics.FalseNegatives(name='fn'), \n",
        "      tf.keras.metrics.BinaryAccuracy(name='accuracy'),\n",
        "      tf.keras.metrics.Precision(name='precision'),\n",
        "      tf.keras.metrics.Recall(name='recall'),\n",
        "      tf.keras.metrics.AUC(name='auc'),\n",
        "      tf.keras.metrics.AUC(name='prc', curve='PR'), # precision-recall curve\n",
        "  ]\n"
      ]
    },
    {
      "cell_type": "code",
      "execution_count": null,
      "metadata": {
        "id": "8ToAGGsozofV"
      },
      "outputs": [],
      "source": [
        "def create_model() : \n",
        "  model1 = create_cnn_model()\n",
        "  model2 = create_gcn_model()\n",
        "\n",
        "  \n",
        "  out = Concatenate()([model1.output,model2.output])\n",
        "  # out = Flatten()(out)    \n",
        "  out = Dense(64, activation='relu')(out)\n",
        "  out = Dropout(.5)(out)\n",
        "  out = Dense(32, activation='relu')(out)\n",
        "  out = Dense(n_class, activation='sigmoid')(out)\n",
        "\n",
        "  model = Model([model1.input,model2.input], out)\n",
        "  model.compile(optimizer=tf.keras.optimizers.Adam(), loss=tf.keras.losses.BinaryCrossentropy(), metrics=METRICS)\n",
        "  model.summary()\n",
        "  return model"
      ]
    },
    {
      "cell_type": "code",
      "execution_count": null,
      "metadata": {
        "colab": {
          "base_uri": "https://localhost:8080/",
          "height": 1000
        },
        "id": "v3zZeu22zJw4",
        "outputId": "d7ffbe68-6a2d-47d7-aaaf-c4be34c05591"
      },
      "outputs": [
        {
          "name": "stdout",
          "output_type": "stream",
          "text": [
            "Model: \"model_22\"\n",
            "__________________________________________________________________________________________________\n",
            " Layer (type)                   Output Shape         Param #     Connected to                     \n",
            "==================================================================================================\n",
            " conv2d_72_input (InputLayer)   [(None, 112, 112, 1  0           []                               \n",
            "                                )]                                                                \n",
            "                                                                                                  \n",
            " conv2d_72 (Conv2D)             (None, 112, 112, 32  320         ['conv2d_72_input[0][0]']        \n",
            "                                )                                                                 \n",
            "                                                                                                  \n",
            " conv2d_73 (Conv2D)             (None, 112, 112, 32  9248        ['conv2d_72[0][0]']              \n",
            "                                )                                                                 \n",
            "                                                                                                  \n",
            " max_pooling2d_32 (MaxPooling2D  (None, 56, 56, 32)  0           ['conv2d_73[0][0]']              \n",
            " )                                                                                                \n",
            "                                                                                                  \n",
            " dropout_129 (Dropout)          (None, 56, 56, 32)   0           ['max_pooling2d_32[0][0]']       \n",
            "                                                                                                  \n",
            " conv2d_74 (Conv2D)             (None, 56, 56, 64)   18496       ['dropout_129[0][0]']            \n",
            "                                                                                                  \n",
            " conv2d_75 (Conv2D)             (None, 56, 56, 64)   36928       ['conv2d_74[0][0]']              \n",
            "                                                                                                  \n",
            " max_pooling2d_33 (MaxPooling2D  (None, 28, 28, 64)  0           ['conv2d_75[0][0]']              \n",
            " )                                                                                                \n",
            "                                                                                                  \n",
            " dropout_130 (Dropout)          (None, 28, 28, 64)   0           ['max_pooling2d_33[0][0]']       \n",
            "                                                                                                  \n",
            " conv2d_76 (Conv2D)             (None, 28, 28, 128)  73856       ['dropout_130[0][0]']            \n",
            "                                                                                                  \n",
            " conv2d_77 (Conv2D)             (None, 28, 28, 128)  147584      ['conv2d_76[0][0]']              \n",
            "                                                                                                  \n",
            " max_pooling2d_34 (MaxPooling2D  (None, 14, 14, 128)  0          ['conv2d_77[0][0]']              \n",
            " )                                                                                                \n",
            "                                                                                                  \n",
            " dropout_131 (Dropout)          (None, 14, 14, 128)  0           ['max_pooling2d_34[0][0]']       \n",
            "                                                                                                  \n",
            " conv2d_78 (Conv2D)             (None, 14, 14, 256)  295168      ['dropout_131[0][0]']            \n",
            "                                                                                                  \n",
            " input_36 (InputLayer)          [(None, 112, 134)]   0           []                               \n",
            "                                                                                                  \n",
            " conv2d_79 (Conv2D)             (None, 14, 14, 256)  590080      ['conv2d_78[0][0]']              \n",
            "                                                                                                  \n",
            " dropout_134 (Dropout)          (None, 112, 134)     0           ['input_36[0][0]']               \n",
            "                                                                                                  \n",
            " input_37 (InputLayer)          [(None, 112, 112)]   0           []                               \n",
            "                                                                                                  \n",
            " max_pooling2d_35 (MaxPooling2D  (None, 7, 7, 256)   0           ['conv2d_79[0][0]']              \n",
            " )                                                                                                \n",
            "                                                                                                  \n",
            " graph_convolution_16 (GraphCon  (None, 112, 32)     4320        ['dropout_134[0][0]',            \n",
            " volution)                                                        'input_37[0][0]']               \n",
            "                                                                                                  \n",
            " dropout_132 (Dropout)          (None, 7, 7, 256)    0           ['max_pooling2d_35[0][0]']       \n",
            "                                                                                                  \n",
            " dropout_135 (Dropout)          (None, 112, 32)      0           ['graph_convolution_16[0][0]']   \n",
            "                                                                                                  \n",
            " conv2d_80 (Conv2D)             (None, 7, 7, 64)     16448       ['dropout_132[0][0]']            \n",
            "                                                                                                  \n",
            " graph_convolution_17 (GraphCon  (None, 112, 32)     1056        ['dropout_135[0][0]',            \n",
            " volution)                                                        'input_37[0][0]']               \n",
            "                                                                                                  \n",
            " flatten_16 (Flatten)           (None, 3136)         0           ['conv2d_80[0][0]']              \n",
            "                                                                                                  \n",
            " flatten_17 (Flatten)           (None, 3584)         0           ['graph_convolution_17[0][0]']   \n",
            "                                                                                                  \n",
            " dense_116 (Dense)              (None, 64)           200768      ['flatten_16[0][0]']             \n",
            "                                                                                                  \n",
            " dense_117 (Dense)              (None, 64)           229440      ['flatten_17[0][0]']             \n",
            "                                                                                                  \n",
            " dropout_133 (Dropout)          (None, 64)           0           ['dense_116[0][0]']              \n",
            "                                                                                                  \n",
            " dropout_136 (Dropout)          (None, 64)           0           ['dense_117[0][0]']              \n",
            "                                                                                                  \n",
            " concatenate_8 (Concatenate)    (None, 128)          0           ['dropout_133[0][0]',            \n",
            "                                                                  'dropout_136[0][0]']            \n",
            "                                                                                                  \n",
            " dense_118 (Dense)              (None, 64)           8256        ['concatenate_8[0][0]']          \n",
            "                                                                                                  \n",
            " dropout_137 (Dropout)          (None, 64)           0           ['dense_118[0][0]']              \n",
            "                                                                                                  \n",
            " dense_119 (Dense)              (None, 32)           2080        ['dropout_137[0][0]']            \n",
            "                                                                                                  \n",
            " dense_120 (Dense)              (None, 1)            33          ['dense_119[0][0]']              \n",
            "                                                                                                  \n",
            "==================================================================================================\n",
            "Total params: 1,634,081\n",
            "Trainable params: 1,634,081\n",
            "Non-trainable params: 0\n",
            "__________________________________________________________________________________________________\n",
            "Epoch 1/100\n",
            "48/48 [==============================] - 13s 216ms/step - loss: 0.3795 - tp: 23.0000 - fp: 160.0000 - tn: 10867.0000 - fn: 1085.0000 - accuracy: 0.8974 - precision: 0.1257 - recall: 0.0208 - auc: 0.6136 - prc: 0.1214 - val_loss: 2.4510 - val_tp: 0.0000e+00 - val_fp: 0.0000e+00 - val_tn: 531.0000 - val_fn: 4671.0000 - val_accuracy: 0.1021 - val_precision: 0.0000e+00 - val_recall: 0.0000e+00 - val_auc: 0.6709 - val_prc: 0.9405\n",
            "Epoch 2/100\n",
            "48/48 [==============================] - 9s 182ms/step - loss: 0.3126 - tp: 0.0000e+00 - fp: 0.0000e+00 - tn: 11027.0000 - fn: 1108.0000 - accuracy: 0.9087 - precision: 0.0000e+00 - recall: 0.0000e+00 - auc: 0.6168 - prc: 0.1243 - val_loss: 1.9606 - val_tp: 0.0000e+00 - val_fp: 0.0000e+00 - val_tn: 531.0000 - val_fn: 4671.0000 - val_accuracy: 0.1021 - val_precision: 0.0000e+00 - val_recall: 0.0000e+00 - val_auc: 0.6909 - val_prc: 0.9463\n",
            "Epoch 3/100\n",
            "48/48 [==============================] - 9s 181ms/step - loss: 0.2988 - tp: 0.0000e+00 - fp: 1.0000 - tn: 11026.0000 - fn: 1108.0000 - accuracy: 0.9086 - precision: 0.0000e+00 - recall: 0.0000e+00 - auc: 0.6557 - prc: 0.1458 - val_loss: 2.1492 - val_tp: 0.0000e+00 - val_fp: 0.0000e+00 - val_tn: 531.0000 - val_fn: 4671.0000 - val_accuracy: 0.1021 - val_precision: 0.0000e+00 - val_recall: 0.0000e+00 - val_auc: 0.6995 - val_prc: 0.9477\n",
            "Epoch 4/100\n",
            "48/48 [==============================] - 9s 183ms/step - loss: 0.2953 - tp: 0.0000e+00 - fp: 0.0000e+00 - tn: 11027.0000 - fn: 1108.0000 - accuracy: 0.9087 - precision: 0.0000e+00 - recall: 0.0000e+00 - auc: 0.6701 - prc: 0.1485 - val_loss: 1.9147 - val_tp: 0.0000e+00 - val_fp: 0.0000e+00 - val_tn: 531.0000 - val_fn: 4671.0000 - val_accuracy: 0.1021 - val_precision: 0.0000e+00 - val_recall: 0.0000e+00 - val_auc: 0.7082 - val_prc: 0.9484\n",
            "Epoch 5/100\n",
            "48/48 [==============================] - 9s 181ms/step - loss: 0.2897 - tp: 0.0000e+00 - fp: 0.0000e+00 - tn: 11027.0000 - fn: 1108.0000 - accuracy: 0.9087 - precision: 0.0000e+00 - recall: 0.0000e+00 - auc: 0.6942 - prc: 0.1699 - val_loss: 2.0259 - val_tp: 0.0000e+00 - val_fp: 0.0000e+00 - val_tn: 531.0000 - val_fn: 4671.0000 - val_accuracy: 0.1021 - val_precision: 0.0000e+00 - val_recall: 0.0000e+00 - val_auc: 0.7123 - val_prc: 0.9492\n",
            "Epoch 6/100\n",
            "48/48 [==============================] - 9s 182ms/step - loss: 0.2893 - tp: 0.0000e+00 - fp: 0.0000e+00 - tn: 11027.0000 - fn: 1108.0000 - accuracy: 0.9087 - precision: 0.0000e+00 - recall: 0.0000e+00 - auc: 0.6903 - prc: 0.1658 - val_loss: 2.0589 - val_tp: 0.0000e+00 - val_fp: 0.0000e+00 - val_tn: 531.0000 - val_fn: 4671.0000 - val_accuracy: 0.1021 - val_precision: 0.0000e+00 - val_recall: 0.0000e+00 - val_auc: 0.7153 - val_prc: 0.9501\n",
            "Epoch 7/100\n",
            "48/48 [==============================] - 9s 181ms/step - loss: 0.2853 - tp: 0.0000e+00 - fp: 0.0000e+00 - tn: 11027.0000 - fn: 1108.0000 - accuracy: 0.9087 - precision: 0.0000e+00 - recall: 0.0000e+00 - auc: 0.7045 - prc: 0.1827 - val_loss: 1.8072 - val_tp: 0.0000e+00 - val_fp: 0.0000e+00 - val_tn: 531.0000 - val_fn: 4671.0000 - val_accuracy: 0.1021 - val_precision: 0.0000e+00 - val_recall: 0.0000e+00 - val_auc: 0.7232 - val_prc: 0.9511\n",
            "Epoch 8/100\n",
            "48/48 [==============================] - 9s 181ms/step - loss: 0.2845 - tp: 0.0000e+00 - fp: 1.0000 - tn: 11026.0000 - fn: 1108.0000 - accuracy: 0.9086 - precision: 0.0000e+00 - recall: 0.0000e+00 - auc: 0.7089 - prc: 0.1838 - val_loss: 1.8036 - val_tp: 0.0000e+00 - val_fp: 0.0000e+00 - val_tn: 531.0000 - val_fn: 4671.0000 - val_accuracy: 0.1021 - val_precision: 0.0000e+00 - val_recall: 0.0000e+00 - val_auc: 0.7256 - val_prc: 0.9515\n",
            "Epoch 9/100\n",
            "48/48 [==============================] - 9s 181ms/step - loss: 0.2812 - tp: 0.0000e+00 - fp: 0.0000e+00 - tn: 11027.0000 - fn: 1108.0000 - accuracy: 0.9087 - precision: 0.0000e+00 - recall: 0.0000e+00 - auc: 0.7173 - prc: 0.1945 - val_loss: 1.8993 - val_tp: 0.0000e+00 - val_fp: 0.0000e+00 - val_tn: 531.0000 - val_fn: 4671.0000 - val_accuracy: 0.1021 - val_precision: 0.0000e+00 - val_recall: 0.0000e+00 - val_auc: 0.7304 - val_prc: 0.9524\n",
            "Epoch 10/100\n",
            "48/48 [==============================] - 9s 181ms/step - loss: 0.2794 - tp: 0.0000e+00 - fp: 0.0000e+00 - tn: 11027.0000 - fn: 1108.0000 - accuracy: 0.9087 - precision: 0.0000e+00 - recall: 0.0000e+00 - auc: 0.7230 - prc: 0.1966 - val_loss: 1.8049 - val_tp: 0.0000e+00 - val_fp: 0.0000e+00 - val_tn: 531.0000 - val_fn: 4671.0000 - val_accuracy: 0.1021 - val_precision: 0.0000e+00 - val_recall: 0.0000e+00 - val_auc: 0.7442 - val_prc: 0.9556\n",
            "Epoch 11/100\n",
            "48/48 [==============================] - 9s 182ms/step - loss: 0.2805 - tp: 0.0000e+00 - fp: 0.0000e+00 - tn: 11027.0000 - fn: 1108.0000 - accuracy: 0.9087 - precision: 0.0000e+00 - recall: 0.0000e+00 - auc: 0.7202 - prc: 0.1870 - val_loss: 1.7834 - val_tp: 0.0000e+00 - val_fp: 0.0000e+00 - val_tn: 531.0000 - val_fn: 4671.0000 - val_accuracy: 0.1021 - val_precision: 0.0000e+00 - val_recall: 0.0000e+00 - val_auc: 0.7448 - val_prc: 0.9550\n",
            "Epoch 12/100\n",
            "48/48 [==============================] - 9s 181ms/step - loss: 0.2805 - tp: 0.0000e+00 - fp: 0.0000e+00 - tn: 11027.0000 - fn: 1108.0000 - accuracy: 0.9087 - precision: 0.0000e+00 - recall: 0.0000e+00 - auc: 0.7220 - prc: 0.1883 - val_loss: 1.9500 - val_tp: 0.0000e+00 - val_fp: 0.0000e+00 - val_tn: 531.0000 - val_fn: 4671.0000 - val_accuracy: 0.1021 - val_precision: 0.0000e+00 - val_recall: 0.0000e+00 - val_auc: 0.7500 - val_prc: 0.9564\n",
            "Epoch 13/100\n",
            "48/48 [==============================] - 9s 182ms/step - loss: 0.2787 - tp: 0.0000e+00 - fp: 0.0000e+00 - tn: 11027.0000 - fn: 1108.0000 - accuracy: 0.9087 - precision: 0.0000e+00 - recall: 0.0000e+00 - auc: 0.7273 - prc: 0.1939 - val_loss: 2.1726 - val_tp: 0.0000e+00 - val_fp: 0.0000e+00 - val_tn: 531.0000 - val_fn: 4671.0000 - val_accuracy: 0.1021 - val_precision: 0.0000e+00 - val_recall: 0.0000e+00 - val_auc: 0.7536 - val_prc: 0.9572\n",
            "Epoch 14/100\n",
            "48/48 [==============================] - 9s 181ms/step - loss: 0.2778 - tp: 0.0000e+00 - fp: 0.0000e+00 - tn: 11027.0000 - fn: 1108.0000 - accuracy: 0.9087 - precision: 0.0000e+00 - recall: 0.0000e+00 - auc: 0.7293 - prc: 0.1979 - val_loss: 1.7305 - val_tp: 0.0000e+00 - val_fp: 0.0000e+00 - val_tn: 531.0000 - val_fn: 4671.0000 - val_accuracy: 0.1021 - val_precision: 0.0000e+00 - val_recall: 0.0000e+00 - val_auc: 0.7653 - val_prc: 0.9594\n",
            "Epoch 15/100\n",
            "48/48 [==============================] - 9s 181ms/step - loss: 0.2745 - tp: 0.0000e+00 - fp: 0.0000e+00 - tn: 11027.0000 - fn: 1108.0000 - accuracy: 0.9087 - precision: 0.0000e+00 - recall: 0.0000e+00 - auc: 0.7389 - prc: 0.1980 - val_loss: 1.6976 - val_tp: 0.0000e+00 - val_fp: 0.0000e+00 - val_tn: 531.0000 - val_fn: 4671.0000 - val_accuracy: 0.1021 - val_precision: 0.0000e+00 - val_recall: 0.0000e+00 - val_auc: 0.7668 - val_prc: 0.9590\n",
            "Epoch 16/100\n",
            "48/48 [==============================] - 9s 182ms/step - loss: 0.2722 - tp: 0.0000e+00 - fp: 0.0000e+00 - tn: 11027.0000 - fn: 1108.0000 - accuracy: 0.9087 - precision: 0.0000e+00 - recall: 0.0000e+00 - auc: 0.7466 - prc: 0.2162 - val_loss: 1.7686 - val_tp: 0.0000e+00 - val_fp: 0.0000e+00 - val_tn: 531.0000 - val_fn: 4671.0000 - val_accuracy: 0.1021 - val_precision: 0.0000e+00 - val_recall: 0.0000e+00 - val_auc: 0.7740 - val_prc: 0.9598\n",
            "Epoch 17/100\n",
            "48/48 [==============================] - 9s 181ms/step - loss: 0.2684 - tp: 0.0000e+00 - fp: 0.0000e+00 - tn: 11027.0000 - fn: 1108.0000 - accuracy: 0.9087 - precision: 0.0000e+00 - recall: 0.0000e+00 - auc: 0.7606 - prc: 0.2218 - val_loss: 1.7284 - val_tp: 0.0000e+00 - val_fp: 0.0000e+00 - val_tn: 531.0000 - val_fn: 4671.0000 - val_accuracy: 0.1021 - val_precision: 0.0000e+00 - val_recall: 0.0000e+00 - val_auc: 0.7781 - val_prc: 0.9608\n",
            "Epoch 18/100\n",
            "48/48 [==============================] - 9s 181ms/step - loss: 0.2693 - tp: 0.0000e+00 - fp: 0.0000e+00 - tn: 11027.0000 - fn: 1108.0000 - accuracy: 0.9087 - precision: 0.0000e+00 - recall: 0.0000e+00 - auc: 0.7583 - prc: 0.2191 - val_loss: 1.5806 - val_tp: 0.0000e+00 - val_fp: 0.0000e+00 - val_tn: 531.0000 - val_fn: 4671.0000 - val_accuracy: 0.1021 - val_precision: 0.0000e+00 - val_recall: 0.0000e+00 - val_auc: 0.7923 - val_prc: 0.9639\n",
            "Epoch 19/100\n",
            "48/48 [==============================] - 9s 181ms/step - loss: 0.2662 - tp: 0.0000e+00 - fp: 0.0000e+00 - tn: 11027.0000 - fn: 1108.0000 - accuracy: 0.9087 - precision: 0.0000e+00 - recall: 0.0000e+00 - auc: 0.7675 - prc: 0.2266 - val_loss: 1.7866 - val_tp: 0.0000e+00 - val_fp: 0.0000e+00 - val_tn: 531.0000 - val_fn: 4671.0000 - val_accuracy: 0.1021 - val_precision: 0.0000e+00 - val_recall: 0.0000e+00 - val_auc: 0.7858 - val_prc: 0.9624\n",
            "Epoch 20/100\n",
            "48/48 [==============================] - 9s 181ms/step - loss: 0.2667 - tp: 0.0000e+00 - fp: 0.0000e+00 - tn: 11027.0000 - fn: 1108.0000 - accuracy: 0.9087 - precision: 0.0000e+00 - recall: 0.0000e+00 - auc: 0.7679 - prc: 0.2359 - val_loss: 1.6698 - val_tp: 0.0000e+00 - val_fp: 0.0000e+00 - val_tn: 531.0000 - val_fn: 4671.0000 - val_accuracy: 0.1021 - val_precision: 0.0000e+00 - val_recall: 0.0000e+00 - val_auc: 0.7954 - val_prc: 0.9629\n",
            "Epoch 21/100\n",
            "48/48 [==============================] - 9s 181ms/step - loss: 0.2674 - tp: 0.0000e+00 - fp: 0.0000e+00 - tn: 11027.0000 - fn: 1108.0000 - accuracy: 0.9087 - precision: 0.0000e+00 - recall: 0.0000e+00 - auc: 0.7625 - prc: 0.2305 - val_loss: 1.6162 - val_tp: 0.0000e+00 - val_fp: 0.0000e+00 - val_tn: 531.0000 - val_fn: 4671.0000 - val_accuracy: 0.1021 - val_precision: 0.0000e+00 - val_recall: 0.0000e+00 - val_auc: 0.7937 - val_prc: 0.9630\n",
            "Epoch 22/100\n",
            "48/48 [==============================] - 9s 181ms/step - loss: 0.2667 - tp: 0.0000e+00 - fp: 0.0000e+00 - tn: 11027.0000 - fn: 1108.0000 - accuracy: 0.9087 - precision: 0.0000e+00 - recall: 0.0000e+00 - auc: 0.7664 - prc: 0.2347 - val_loss: 1.6002 - val_tp: 0.0000e+00 - val_fp: 0.0000e+00 - val_tn: 531.0000 - val_fn: 4671.0000 - val_accuracy: 0.1021 - val_precision: 0.0000e+00 - val_recall: 0.0000e+00 - val_auc: 0.8058 - val_prc: 0.9652\n",
            "Epoch 23/100\n",
            "48/48 [==============================] - 9s 182ms/step - loss: 0.2655 - tp: 0.0000e+00 - fp: 0.0000e+00 - tn: 11027.0000 - fn: 1108.0000 - accuracy: 0.9087 - precision: 0.0000e+00 - recall: 0.0000e+00 - auc: 0.7694 - prc: 0.2367 - val_loss: 1.6340 - val_tp: 0.0000e+00 - val_fp: 0.0000e+00 - val_tn: 531.0000 - val_fn: 4671.0000 - val_accuracy: 0.1021 - val_precision: 0.0000e+00 - val_recall: 0.0000e+00 - val_auc: 0.8114 - val_prc: 0.9674\n",
            "Epoch 24/100\n",
            "48/48 [==============================] - 9s 181ms/step - loss: 0.2605 - tp: 0.0000e+00 - fp: 0.0000e+00 - tn: 11027.0000 - fn: 1108.0000 - accuracy: 0.9087 - precision: 0.0000e+00 - recall: 0.0000e+00 - auc: 0.7840 - prc: 0.2496 - val_loss: 1.4200 - val_tp: 0.0000e+00 - val_fp: 0.0000e+00 - val_tn: 531.0000 - val_fn: 4671.0000 - val_accuracy: 0.1021 - val_precision: 0.0000e+00 - val_recall: 0.0000e+00 - val_auc: 0.7934 - val_prc: 0.9625\n",
            "Epoch 25/100\n",
            "48/48 [==============================] - 9s 181ms/step - loss: 0.2625 - tp: 0.0000e+00 - fp: 0.0000e+00 - tn: 11027.0000 - fn: 1108.0000 - accuracy: 0.9087 - precision: 0.0000e+00 - recall: 0.0000e+00 - auc: 0.7803 - prc: 0.2441 - val_loss: 1.9633 - val_tp: 0.0000e+00 - val_fp: 0.0000e+00 - val_tn: 531.0000 - val_fn: 4671.0000 - val_accuracy: 0.1021 - val_precision: 0.0000e+00 - val_recall: 0.0000e+00 - val_auc: 0.8194 - val_prc: 0.9688\n",
            "Epoch 26/100\n",
            "48/48 [==============================] - 9s 181ms/step - loss: 0.2604 - tp: 0.0000e+00 - fp: 0.0000e+00 - tn: 11027.0000 - fn: 1108.0000 - accuracy: 0.9087 - precision: 0.0000e+00 - recall: 0.0000e+00 - auc: 0.7835 - prc: 0.2396 - val_loss: 1.6382 - val_tp: 0.0000e+00 - val_fp: 0.0000e+00 - val_tn: 531.0000 - val_fn: 4671.0000 - val_accuracy: 0.1021 - val_precision: 0.0000e+00 - val_recall: 0.0000e+00 - val_auc: 0.8135 - val_prc: 0.9677\n",
            "Epoch 27/100\n",
            "48/48 [==============================] - 9s 181ms/step - loss: 0.2578 - tp: 0.0000e+00 - fp: 0.0000e+00 - tn: 11027.0000 - fn: 1108.0000 - accuracy: 0.9087 - precision: 0.0000e+00 - recall: 0.0000e+00 - auc: 0.7908 - prc: 0.2455 - val_loss: 1.6567 - val_tp: 0.0000e+00 - val_fp: 0.0000e+00 - val_tn: 531.0000 - val_fn: 4671.0000 - val_accuracy: 0.1021 - val_precision: 0.0000e+00 - val_recall: 0.0000e+00 - val_auc: 0.8238 - val_prc: 0.9697\n",
            "Epoch 28/100\n",
            "48/48 [==============================] - 9s 181ms/step - loss: 0.2556 - tp: 0.0000e+00 - fp: 0.0000e+00 - tn: 11027.0000 - fn: 1108.0000 - accuracy: 0.9087 - precision: 0.0000e+00 - recall: 0.0000e+00 - auc: 0.7994 - prc: 0.2795 - val_loss: 1.6581 - val_tp: 0.0000e+00 - val_fp: 0.0000e+00 - val_tn: 531.0000 - val_fn: 4671.0000 - val_accuracy: 0.1021 - val_precision: 0.0000e+00 - val_recall: 0.0000e+00 - val_auc: 0.8245 - val_prc: 0.9694\n",
            "Epoch 29/100\n",
            "48/48 [==============================] - 9s 181ms/step - loss: 0.2548 - tp: 0.0000e+00 - fp: 0.0000e+00 - tn: 11027.0000 - fn: 1108.0000 - accuracy: 0.9087 - precision: 0.0000e+00 - recall: 0.0000e+00 - auc: 0.7997 - prc: 0.2741 - val_loss: 1.3927 - val_tp: 0.0000e+00 - val_fp: 0.0000e+00 - val_tn: 531.0000 - val_fn: 4671.0000 - val_accuracy: 0.1021 - val_precision: 0.0000e+00 - val_recall: 0.0000e+00 - val_auc: 0.8313 - val_prc: 0.9719\n",
            "Epoch 30/100\n",
            "48/48 [==============================] - 9s 181ms/step - loss: 0.2569 - tp: 0.0000e+00 - fp: 0.0000e+00 - tn: 11027.0000 - fn: 1108.0000 - accuracy: 0.9087 - precision: 0.0000e+00 - recall: 0.0000e+00 - auc: 0.7936 - prc: 0.2665 - val_loss: 1.5406 - val_tp: 0.0000e+00 - val_fp: 0.0000e+00 - val_tn: 531.0000 - val_fn: 4671.0000 - val_accuracy: 0.1021 - val_precision: 0.0000e+00 - val_recall: 0.0000e+00 - val_auc: 0.8330 - val_prc: 0.9718\n",
            "Epoch 31/100\n",
            "48/48 [==============================] - 9s 181ms/step - loss: 0.2524 - tp: 0.0000e+00 - fp: 0.0000e+00 - tn: 11027.0000 - fn: 1108.0000 - accuracy: 0.9087 - precision: 0.0000e+00 - recall: 0.0000e+00 - auc: 0.8034 - prc: 0.2724 - val_loss: 1.5179 - val_tp: 0.0000e+00 - val_fp: 0.0000e+00 - val_tn: 531.0000 - val_fn: 4671.0000 - val_accuracy: 0.1021 - val_precision: 0.0000e+00 - val_recall: 0.0000e+00 - val_auc: 0.8337 - val_prc: 0.9714\n",
            "Epoch 32/100\n",
            "48/48 [==============================] - 9s 181ms/step - loss: 0.2514 - tp: 0.0000e+00 - fp: 0.0000e+00 - tn: 11027.0000 - fn: 1108.0000 - accuracy: 0.9087 - precision: 0.0000e+00 - recall: 0.0000e+00 - auc: 0.8059 - prc: 0.2837 - val_loss: 1.3374 - val_tp: 0.0000e+00 - val_fp: 0.0000e+00 - val_tn: 531.0000 - val_fn: 4671.0000 - val_accuracy: 0.1021 - val_precision: 0.0000e+00 - val_recall: 0.0000e+00 - val_auc: 0.8336 - val_prc: 0.9701\n",
            "Epoch 33/100\n",
            "48/48 [==============================] - 9s 181ms/step - loss: 0.2500 - tp: 0.0000e+00 - fp: 0.0000e+00 - tn: 11027.0000 - fn: 1108.0000 - accuracy: 0.9087 - precision: 0.0000e+00 - recall: 0.0000e+00 - auc: 0.8110 - prc: 0.2863 - val_loss: 1.4772 - val_tp: 0.0000e+00 - val_fp: 0.0000e+00 - val_tn: 531.0000 - val_fn: 4671.0000 - val_accuracy: 0.1021 - val_precision: 0.0000e+00 - val_recall: 0.0000e+00 - val_auc: 0.8419 - val_prc: 0.9724\n",
            "Epoch 34/100\n",
            "48/48 [==============================] - 9s 181ms/step - loss: 0.2479 - tp: 0.0000e+00 - fp: 0.0000e+00 - tn: 11027.0000 - fn: 1108.0000 - accuracy: 0.9087 - precision: 0.0000e+00 - recall: 0.0000e+00 - auc: 0.8166 - prc: 0.2859 - val_loss: 1.4846 - val_tp: 0.0000e+00 - val_fp: 0.0000e+00 - val_tn: 531.0000 - val_fn: 4671.0000 - val_accuracy: 0.1021 - val_precision: 0.0000e+00 - val_recall: 0.0000e+00 - val_auc: 0.8417 - val_prc: 0.9729\n",
            "Epoch 35/100\n",
            "48/48 [==============================] - 9s 181ms/step - loss: 0.2495 - tp: 0.0000e+00 - fp: 0.0000e+00 - tn: 11027.0000 - fn: 1108.0000 - accuracy: 0.9087 - precision: 0.0000e+00 - recall: 0.0000e+00 - auc: 0.8104 - prc: 0.2905 - val_loss: 1.6396 - val_tp: 0.0000e+00 - val_fp: 0.0000e+00 - val_tn: 531.0000 - val_fn: 4671.0000 - val_accuracy: 0.1021 - val_precision: 0.0000e+00 - val_recall: 0.0000e+00 - val_auc: 0.8411 - val_prc: 0.9729\n",
            "Epoch 36/100\n",
            "48/48 [==============================] - 9s 182ms/step - loss: 0.2452 - tp: 0.0000e+00 - fp: 0.0000e+00 - tn: 11027.0000 - fn: 1108.0000 - accuracy: 0.9087 - precision: 0.0000e+00 - recall: 0.0000e+00 - auc: 0.8228 - prc: 0.3092 - val_loss: 1.4419 - val_tp: 0.0000e+00 - val_fp: 0.0000e+00 - val_tn: 531.0000 - val_fn: 4671.0000 - val_accuracy: 0.1021 - val_precision: 0.0000e+00 - val_recall: 0.0000e+00 - val_auc: 0.8463 - val_prc: 0.9735\n",
            "Epoch 37/100\n",
            "48/48 [==============================] - 9s 182ms/step - loss: 0.2491 - tp: 0.0000e+00 - fp: 0.0000e+00 - tn: 11027.0000 - fn: 1108.0000 - accuracy: 0.9087 - precision: 0.0000e+00 - recall: 0.0000e+00 - auc: 0.8127 - prc: 0.2975 - val_loss: 1.5943 - val_tp: 0.0000e+00 - val_fp: 0.0000e+00 - val_tn: 531.0000 - val_fn: 4671.0000 - val_accuracy: 0.1021 - val_precision: 0.0000e+00 - val_recall: 0.0000e+00 - val_auc: 0.8474 - val_prc: 0.9734\n",
            "Epoch 38/100\n",
            "30/48 [=================>............] - ETA: 2s - loss: 0.2412 - tp: 0.0000e+00 - fp: 0.0000e+00 - tn: 6997.0000 - fn: 683.0000 - accuracy: 0.9111 - precision: 0.0000e+00 - recall: 0.0000e+00 - auc: 0.8207 - prc: 0.2983"
          ]
        },
        {
          "ename": "KeyboardInterrupt",
          "evalue": "ignored",
          "output_type": "error",
          "traceback": [
            "\u001b[0;31m---------------------------------------------------------------------------\u001b[0m",
            "\u001b[0;31mKeyboardInterrupt\u001b[0m                         Traceback (most recent call last)",
            "\u001b[0;32m<ipython-input-184-771197e18284>\u001b[0m in \u001b[0;36m<module>\u001b[0;34m()\u001b[0m\n\u001b[1;32m      6\u001b[0m     \u001b[0mmode\u001b[0m\u001b[0;34m=\u001b[0m\u001b[0;34m'max'\u001b[0m\u001b[0;34m,\u001b[0m\u001b[0;34m\u001b[0m\u001b[0;34m\u001b[0m\u001b[0m\n\u001b[1;32m      7\u001b[0m     restore_best_weights=True)\n\u001b[0;32m----> 8\u001b[0;31m \u001b[0mmodel\u001b[0m\u001b[0;34m.\u001b[0m\u001b[0mfit\u001b[0m\u001b[0;34m(\u001b[0m\u001b[0mx\u001b[0m \u001b[0;34m=\u001b[0m \u001b[0mX_train\u001b[0m\u001b[0;34m,\u001b[0m \u001b[0my\u001b[0m \u001b[0;34m=\u001b[0m \u001b[0my_train\u001b[0m\u001b[0;34m,\u001b[0m \u001b[0mbatch_size\u001b[0m\u001b[0;34m=\u001b[0m\u001b[0;36m256\u001b[0m\u001b[0;34m,\u001b[0m \u001b[0mepochs\u001b[0m\u001b[0;34m=\u001b[0m\u001b[0;36m100\u001b[0m\u001b[0;34m,\u001b[0m \u001b[0mvalidation_split\u001b[0m\u001b[0;34m=\u001b[0m\u001b[0;36m0.3\u001b[0m\u001b[0;34m)\u001b[0m\u001b[0;34m\u001b[0m\u001b[0;34m\u001b[0m\u001b[0m\n\u001b[0m",
            "\u001b[0;32m/usr/local/lib/python3.7/dist-packages/keras/utils/traceback_utils.py\u001b[0m in \u001b[0;36merror_handler\u001b[0;34m(*args, **kwargs)\u001b[0m\n\u001b[1;32m     62\u001b[0m     \u001b[0mfiltered_tb\u001b[0m \u001b[0;34m=\u001b[0m \u001b[0;32mNone\u001b[0m\u001b[0;34m\u001b[0m\u001b[0;34m\u001b[0m\u001b[0m\n\u001b[1;32m     63\u001b[0m     \u001b[0;32mtry\u001b[0m\u001b[0;34m:\u001b[0m\u001b[0;34m\u001b[0m\u001b[0;34m\u001b[0m\u001b[0m\n\u001b[0;32m---> 64\u001b[0;31m       \u001b[0;32mreturn\u001b[0m \u001b[0mfn\u001b[0m\u001b[0;34m(\u001b[0m\u001b[0;34m*\u001b[0m\u001b[0margs\u001b[0m\u001b[0;34m,\u001b[0m \u001b[0;34m**\u001b[0m\u001b[0mkwargs\u001b[0m\u001b[0;34m)\u001b[0m\u001b[0;34m\u001b[0m\u001b[0;34m\u001b[0m\u001b[0m\n\u001b[0m\u001b[1;32m     65\u001b[0m     \u001b[0;32mexcept\u001b[0m \u001b[0mException\u001b[0m \u001b[0;32mas\u001b[0m \u001b[0me\u001b[0m\u001b[0;34m:\u001b[0m  \u001b[0;31m# pylint: disable=broad-except\u001b[0m\u001b[0;34m\u001b[0m\u001b[0;34m\u001b[0m\u001b[0m\n\u001b[1;32m     66\u001b[0m       \u001b[0mfiltered_tb\u001b[0m \u001b[0;34m=\u001b[0m \u001b[0m_process_traceback_frames\u001b[0m\u001b[0;34m(\u001b[0m\u001b[0me\u001b[0m\u001b[0;34m.\u001b[0m\u001b[0m__traceback__\u001b[0m\u001b[0;34m)\u001b[0m\u001b[0;34m\u001b[0m\u001b[0;34m\u001b[0m\u001b[0m\n",
            "\u001b[0;32m/usr/local/lib/python3.7/dist-packages/keras/engine/training.py\u001b[0m in \u001b[0;36mfit\u001b[0;34m(self, x, y, batch_size, epochs, verbose, callbacks, validation_split, validation_data, shuffle, class_weight, sample_weight, initial_epoch, steps_per_epoch, validation_steps, validation_batch_size, validation_freq, max_queue_size, workers, use_multiprocessing)\u001b[0m\n\u001b[1;32m   1382\u001b[0m                 _r=1):\n\u001b[1;32m   1383\u001b[0m               \u001b[0mcallbacks\u001b[0m\u001b[0;34m.\u001b[0m\u001b[0mon_train_batch_begin\u001b[0m\u001b[0;34m(\u001b[0m\u001b[0mstep\u001b[0m\u001b[0;34m)\u001b[0m\u001b[0;34m\u001b[0m\u001b[0;34m\u001b[0m\u001b[0m\n\u001b[0;32m-> 1384\u001b[0;31m               \u001b[0mtmp_logs\u001b[0m \u001b[0;34m=\u001b[0m \u001b[0mself\u001b[0m\u001b[0;34m.\u001b[0m\u001b[0mtrain_function\u001b[0m\u001b[0;34m(\u001b[0m\u001b[0miterator\u001b[0m\u001b[0;34m)\u001b[0m\u001b[0;34m\u001b[0m\u001b[0;34m\u001b[0m\u001b[0m\n\u001b[0m\u001b[1;32m   1385\u001b[0m               \u001b[0;32mif\u001b[0m \u001b[0mdata_handler\u001b[0m\u001b[0;34m.\u001b[0m\u001b[0mshould_sync\u001b[0m\u001b[0;34m:\u001b[0m\u001b[0;34m\u001b[0m\u001b[0;34m\u001b[0m\u001b[0m\n\u001b[1;32m   1386\u001b[0m                 \u001b[0mcontext\u001b[0m\u001b[0;34m.\u001b[0m\u001b[0masync_wait\u001b[0m\u001b[0;34m(\u001b[0m\u001b[0;34m)\u001b[0m\u001b[0;34m\u001b[0m\u001b[0;34m\u001b[0m\u001b[0m\n",
            "\u001b[0;32m/usr/local/lib/python3.7/dist-packages/tensorflow/python/util/traceback_utils.py\u001b[0m in \u001b[0;36merror_handler\u001b[0;34m(*args, **kwargs)\u001b[0m\n\u001b[1;32m    148\u001b[0m     \u001b[0mfiltered_tb\u001b[0m \u001b[0;34m=\u001b[0m \u001b[0;32mNone\u001b[0m\u001b[0;34m\u001b[0m\u001b[0;34m\u001b[0m\u001b[0m\n\u001b[1;32m    149\u001b[0m     \u001b[0;32mtry\u001b[0m\u001b[0;34m:\u001b[0m\u001b[0;34m\u001b[0m\u001b[0;34m\u001b[0m\u001b[0m\n\u001b[0;32m--> 150\u001b[0;31m       \u001b[0;32mreturn\u001b[0m \u001b[0mfn\u001b[0m\u001b[0;34m(\u001b[0m\u001b[0;34m*\u001b[0m\u001b[0margs\u001b[0m\u001b[0;34m,\u001b[0m \u001b[0;34m**\u001b[0m\u001b[0mkwargs\u001b[0m\u001b[0;34m)\u001b[0m\u001b[0;34m\u001b[0m\u001b[0;34m\u001b[0m\u001b[0m\n\u001b[0m\u001b[1;32m    151\u001b[0m     \u001b[0;32mexcept\u001b[0m \u001b[0mException\u001b[0m \u001b[0;32mas\u001b[0m \u001b[0me\u001b[0m\u001b[0;34m:\u001b[0m\u001b[0;34m\u001b[0m\u001b[0;34m\u001b[0m\u001b[0m\n\u001b[1;32m    152\u001b[0m       \u001b[0mfiltered_tb\u001b[0m \u001b[0;34m=\u001b[0m \u001b[0m_process_traceback_frames\u001b[0m\u001b[0;34m(\u001b[0m\u001b[0me\u001b[0m\u001b[0;34m.\u001b[0m\u001b[0m__traceback__\u001b[0m\u001b[0;34m)\u001b[0m\u001b[0;34m\u001b[0m\u001b[0;34m\u001b[0m\u001b[0m\n",
            "\u001b[0;32m/usr/local/lib/python3.7/dist-packages/tensorflow/python/eager/def_function.py\u001b[0m in \u001b[0;36m__call__\u001b[0;34m(self, *args, **kwds)\u001b[0m\n\u001b[1;32m    913\u001b[0m \u001b[0;34m\u001b[0m\u001b[0m\n\u001b[1;32m    914\u001b[0m       \u001b[0;32mwith\u001b[0m \u001b[0mOptionalXlaContext\u001b[0m\u001b[0;34m(\u001b[0m\u001b[0mself\u001b[0m\u001b[0;34m.\u001b[0m\u001b[0m_jit_compile\u001b[0m\u001b[0;34m)\u001b[0m\u001b[0;34m:\u001b[0m\u001b[0;34m\u001b[0m\u001b[0;34m\u001b[0m\u001b[0m\n\u001b[0;32m--> 915\u001b[0;31m         \u001b[0mresult\u001b[0m \u001b[0;34m=\u001b[0m \u001b[0mself\u001b[0m\u001b[0;34m.\u001b[0m\u001b[0m_call\u001b[0m\u001b[0;34m(\u001b[0m\u001b[0;34m*\u001b[0m\u001b[0margs\u001b[0m\u001b[0;34m,\u001b[0m \u001b[0;34m**\u001b[0m\u001b[0mkwds\u001b[0m\u001b[0;34m)\u001b[0m\u001b[0;34m\u001b[0m\u001b[0;34m\u001b[0m\u001b[0m\n\u001b[0m\u001b[1;32m    916\u001b[0m \u001b[0;34m\u001b[0m\u001b[0m\n\u001b[1;32m    917\u001b[0m       \u001b[0mnew_tracing_count\u001b[0m \u001b[0;34m=\u001b[0m \u001b[0mself\u001b[0m\u001b[0;34m.\u001b[0m\u001b[0mexperimental_get_tracing_count\u001b[0m\u001b[0;34m(\u001b[0m\u001b[0;34m)\u001b[0m\u001b[0;34m\u001b[0m\u001b[0;34m\u001b[0m\u001b[0m\n",
            "\u001b[0;32m/usr/local/lib/python3.7/dist-packages/tensorflow/python/eager/def_function.py\u001b[0m in \u001b[0;36m_call\u001b[0;34m(self, *args, **kwds)\u001b[0m\n\u001b[1;32m    945\u001b[0m       \u001b[0;31m# In this case we have created variables on the first call, so we run the\u001b[0m\u001b[0;34m\u001b[0m\u001b[0;34m\u001b[0m\u001b[0;34m\u001b[0m\u001b[0m\n\u001b[1;32m    946\u001b[0m       \u001b[0;31m# defunned version which is guaranteed to never create variables.\u001b[0m\u001b[0;34m\u001b[0m\u001b[0;34m\u001b[0m\u001b[0;34m\u001b[0m\u001b[0m\n\u001b[0;32m--> 947\u001b[0;31m       \u001b[0;32mreturn\u001b[0m \u001b[0mself\u001b[0m\u001b[0;34m.\u001b[0m\u001b[0m_stateless_fn\u001b[0m\u001b[0;34m(\u001b[0m\u001b[0;34m*\u001b[0m\u001b[0margs\u001b[0m\u001b[0;34m,\u001b[0m \u001b[0;34m**\u001b[0m\u001b[0mkwds\u001b[0m\u001b[0;34m)\u001b[0m  \u001b[0;31m# pylint: disable=not-callable\u001b[0m\u001b[0;34m\u001b[0m\u001b[0;34m\u001b[0m\u001b[0m\n\u001b[0m\u001b[1;32m    948\u001b[0m     \u001b[0;32melif\u001b[0m \u001b[0mself\u001b[0m\u001b[0;34m.\u001b[0m\u001b[0m_stateful_fn\u001b[0m \u001b[0;32mis\u001b[0m \u001b[0;32mnot\u001b[0m \u001b[0;32mNone\u001b[0m\u001b[0;34m:\u001b[0m\u001b[0;34m\u001b[0m\u001b[0;34m\u001b[0m\u001b[0m\n\u001b[1;32m    949\u001b[0m       \u001b[0;31m# Release the lock early so that multiple threads can perform the call\u001b[0m\u001b[0;34m\u001b[0m\u001b[0;34m\u001b[0m\u001b[0;34m\u001b[0m\u001b[0m\n",
            "\u001b[0;32m/usr/local/lib/python3.7/dist-packages/tensorflow/python/eager/function.py\u001b[0m in \u001b[0;36m__call__\u001b[0;34m(self, *args, **kwargs)\u001b[0m\n\u001b[1;32m   2955\u001b[0m        filtered_flat_args) = self._maybe_define_function(args, kwargs)\n\u001b[1;32m   2956\u001b[0m     return graph_function._call_flat(\n\u001b[0;32m-> 2957\u001b[0;31m         filtered_flat_args, captured_inputs=graph_function.captured_inputs)  # pylint: disable=protected-access\n\u001b[0m\u001b[1;32m   2958\u001b[0m \u001b[0;34m\u001b[0m\u001b[0m\n\u001b[1;32m   2959\u001b[0m   \u001b[0;34m@\u001b[0m\u001b[0mproperty\u001b[0m\u001b[0;34m\u001b[0m\u001b[0;34m\u001b[0m\u001b[0m\n",
            "\u001b[0;32m/usr/local/lib/python3.7/dist-packages/tensorflow/python/eager/function.py\u001b[0m in \u001b[0;36m_call_flat\u001b[0;34m(self, args, captured_inputs, cancellation_manager)\u001b[0m\n\u001b[1;32m   1852\u001b[0m       \u001b[0;31m# No tape is watching; skip to running the function.\u001b[0m\u001b[0;34m\u001b[0m\u001b[0;34m\u001b[0m\u001b[0;34m\u001b[0m\u001b[0m\n\u001b[1;32m   1853\u001b[0m       return self._build_call_outputs(self._inference_function.call(\n\u001b[0;32m-> 1854\u001b[0;31m           ctx, args, cancellation_manager=cancellation_manager))\n\u001b[0m\u001b[1;32m   1855\u001b[0m     forward_backward = self._select_forward_and_backward_functions(\n\u001b[1;32m   1856\u001b[0m         \u001b[0margs\u001b[0m\u001b[0;34m,\u001b[0m\u001b[0;34m\u001b[0m\u001b[0;34m\u001b[0m\u001b[0m\n",
            "\u001b[0;32m/usr/local/lib/python3.7/dist-packages/tensorflow/python/eager/function.py\u001b[0m in \u001b[0;36mcall\u001b[0;34m(self, ctx, args, cancellation_manager)\u001b[0m\n\u001b[1;32m    502\u001b[0m               \u001b[0minputs\u001b[0m\u001b[0;34m=\u001b[0m\u001b[0margs\u001b[0m\u001b[0;34m,\u001b[0m\u001b[0;34m\u001b[0m\u001b[0;34m\u001b[0m\u001b[0m\n\u001b[1;32m    503\u001b[0m               \u001b[0mattrs\u001b[0m\u001b[0;34m=\u001b[0m\u001b[0mattrs\u001b[0m\u001b[0;34m,\u001b[0m\u001b[0;34m\u001b[0m\u001b[0;34m\u001b[0m\u001b[0m\n\u001b[0;32m--> 504\u001b[0;31m               ctx=ctx)\n\u001b[0m\u001b[1;32m    505\u001b[0m         \u001b[0;32melse\u001b[0m\u001b[0;34m:\u001b[0m\u001b[0;34m\u001b[0m\u001b[0;34m\u001b[0m\u001b[0m\n\u001b[1;32m    506\u001b[0m           outputs = execute.execute_with_cancellation(\n",
            "\u001b[0;32m/usr/local/lib/python3.7/dist-packages/tensorflow/python/eager/execute.py\u001b[0m in \u001b[0;36mquick_execute\u001b[0;34m(op_name, num_outputs, inputs, attrs, ctx, name)\u001b[0m\n\u001b[1;32m     53\u001b[0m     \u001b[0mctx\u001b[0m\u001b[0;34m.\u001b[0m\u001b[0mensure_initialized\u001b[0m\u001b[0;34m(\u001b[0m\u001b[0;34m)\u001b[0m\u001b[0;34m\u001b[0m\u001b[0;34m\u001b[0m\u001b[0m\n\u001b[1;32m     54\u001b[0m     tensors = pywrap_tfe.TFE_Py_Execute(ctx._handle, device_name, op_name,\n\u001b[0;32m---> 55\u001b[0;31m                                         inputs, attrs, num_outputs)\n\u001b[0m\u001b[1;32m     56\u001b[0m   \u001b[0;32mexcept\u001b[0m \u001b[0mcore\u001b[0m\u001b[0;34m.\u001b[0m\u001b[0m_NotOkStatusException\u001b[0m \u001b[0;32mas\u001b[0m \u001b[0me\u001b[0m\u001b[0;34m:\u001b[0m\u001b[0;34m\u001b[0m\u001b[0;34m\u001b[0m\u001b[0m\n\u001b[1;32m     57\u001b[0m     \u001b[0;32mif\u001b[0m \u001b[0mname\u001b[0m \u001b[0;32mis\u001b[0m \u001b[0;32mnot\u001b[0m \u001b[0;32mNone\u001b[0m\u001b[0;34m:\u001b[0m\u001b[0;34m\u001b[0m\u001b[0;34m\u001b[0m\u001b[0m\n",
            "\u001b[0;31mKeyboardInterrupt\u001b[0m: "
          ]
        }
      ],
      "source": [
        "model = create_model()\n",
        "early_stopping = tf.keras.callbacks.EarlyStopping(\n",
        "    monitor='val_prc', \n",
        "    verbose=1,\n",
        "    patience=10,\n",
        "    mode='max',\n",
        "    restore_best_weights=True)\n",
        "model.fit(x = X_train, y = y_train, batch_size=256, epochs=100, validation_split=0.3)"
      ]
    },
    {
      "cell_type": "code",
      "execution_count": null,
      "metadata": {
        "id": "eX1qWeFh5izy"
      },
      "outputs": [],
      "source": [
        "import seaborn as sns\n",
        "import matplotlib.pyplot as plt\n",
        "from sklearn.metrics import confusion_matrix\n",
        "from sklearn.metrics import classification_report\n",
        "\n",
        "y_pred = model.predict(X_test)\n",
        "\n",
        "matrix = confusion_matrix(y_test, np.round(y_pred))\n",
        "sns.heatmap(matrix, annot=True, fmt='.0f', cmap='Blues', yticklabels=['non-vul', 'vul'],xticklabels=['non-vul', 'vul'])\n",
        "plt.xlabel(\"Predicted\")\n",
        "plt.ylabel(\"Actual\") "
      ]
    },
    {
      "cell_type": "code",
      "execution_count": null,
      "metadata": {
        "colab": {
          "base_uri": "https://localhost:8080/"
        },
        "id": "76h8pc645wdi",
        "outputId": "73354201-d429-4f95-91c5-08419149a735"
      },
      "outputs": [
        {
          "data": {
            "text/plain": [
              "(230,)"
            ]
          },
          "execution_count": 139,
          "metadata": {},
          "output_type": "execute_result"
        }
      ],
      "source": [
        "y_pred[y_pred>0.5].shape"
      ]
    },
    {
      "cell_type": "code",
      "execution_count": null,
      "metadata": {
        "id": "KdIzfSkDAkYo"
      },
      "outputs": [],
      "source": [
        "presentation_model = Model(inputs=model.inputs, outputs=model.layers[-5].output)\n",
        "presentation_model.summary()"
      ]
    },
    {
      "cell_type": "code",
      "execution_count": null,
      "metadata": {
        "id": "Tt79ff2hAkYq"
      },
      "outputs": [],
      "source": [
        "X_test = presentation_model.predict(X_test)\n",
        "print(X_test.shape)"
      ]
    },
    {
      "cell_type": "code",
      "execution_count": null,
      "metadata": {
        "id": "HokoPnEDAkYr"
      },
      "outputs": [],
      "source": [
        "X_train = presentation_model.predict(X_train)"
      ]
    },
    {
      "cell_type": "code",
      "execution_count": null,
      "metadata": {
        "id": "j_BCZf4NAkYs"
      },
      "outputs": [],
      "source": [
        "print(X_train.shape)\n",
        "print(y_test.shape)"
      ]
    },
    {
      "cell_type": "code",
      "execution_count": null,
      "metadata": {
        "id": "o76icGk7AkYs"
      },
      "outputs": [],
      "source": [
        "from collections import Counter\n",
        "\n",
        "print(Counter(y_train))"
      ]
    },
    {
      "cell_type": "code",
      "execution_count": null,
      "metadata": {
        "id": "_dJB-hLMAkYt"
      },
      "outputs": [],
      "source": [
        "import imblearn\n",
        "from imblearn.over_sampling import SMOTE\n",
        "\n",
        "# transform the dataset\n",
        "oversample = SMOTE(sampling_strategy=0.5)\n",
        "X_train, y_train = oversample.fit_resample(X_train, y_train)"
      ]
    },
    {
      "cell_type": "code",
      "execution_count": null,
      "metadata": {
        "id": "s5_u6BAjAkYu"
      },
      "outputs": [],
      "source": [
        "print(Counter(y_train))"
      ]
    },
    {
      "cell_type": "code",
      "execution_count": null,
      "metadata": {
        "id": "tV6H7vXYAkYv"
      },
      "outputs": [],
      "source": [
        "def classifierModel():\n",
        "    model = Sequential()\n",
        "    model.add(Input(shape=(128)))\n",
        "\n",
        "    model.add(Dense(64, activation='relu'))\n",
        "    model.add(Dropout(0.25))\n",
        "\n",
        "    model.add(Dense(32, activation='relu'))\n",
        "    model.add(Dropout(0.25))\n",
        "\n",
        "    model.add(Dense(8, activation='relu'))\n",
        "    model.add(Dropout(0.25))\n",
        "\n",
        "    model.add(Dense(n_class, activation='sigmoid'))\n",
        "\n",
        "    model.compile(optimizer=tf.keras.optimizers.Adam(), loss=tf.keras.losses.BinaryCrossentropy(), metrics=METRICS)\n",
        "    model.summary()\n",
        "    return model"
      ]
    },
    {
      "cell_type": "code",
      "execution_count": null,
      "metadata": {
        "id": "6y6wt07m0JHm"
      },
      "outputs": [],
      "source": [
        "checkpoint_filepath = 'best.hdf5'\n",
        "model = classifierModel()\n",
        "# monitor=\"val_loss\"\n",
        "model_checkpoint_callback = tf.keras.callbacks.ModelCheckpoint(filepath=checkpoint_filepath,monitor='val_accuracy',save_best_only=True, verbose=1)\n",
        "history = model.fit( x = X_train, y = y_train, batch_size=256, epochs=100, callbacks=[model_checkpoint_callback], validation_data = [X_test, y_test])"
      ]
    },
    {
      "cell_type": "code",
      "execution_count": null,
      "metadata": {
        "colab": {
          "base_uri": "https://localhost:8080/"
        },
        "id": "PuPAxckn0JIC",
        "outputId": "53100968-38d6-4a33-8ca8-d2c3c401e369"
      },
      "outputs": [
        {
          "name": "stdout",
          "output_type": "stream",
          "text": [
            "Model: \"sequential_26\"\n",
            "_________________________________________________________________\n",
            " Layer (type)                Output Shape              Param #   \n",
            "=================================================================\n",
            " dense_112 (Dense)           (None, 64)                8256      \n",
            "                                                                 \n",
            " dropout_126 (Dropout)       (None, 64)                0         \n",
            "                                                                 \n",
            " dense_113 (Dense)           (None, 32)                2080      \n",
            "                                                                 \n",
            " dropout_127 (Dropout)       (None, 32)                0         \n",
            "                                                                 \n",
            " dense_114 (Dense)           (None, 8)                 264       \n",
            "                                                                 \n",
            " dropout_128 (Dropout)       (None, 8)                 0         \n",
            "                                                                 \n",
            " dense_115 (Dense)           (None, 1)                 9         \n",
            "                                                                 \n",
            "=================================================================\n",
            "Total params: 10,609\n",
            "Trainable params: 10,609\n",
            "Non-trainable params: 0\n",
            "_________________________________________________________________\n"
          ]
        }
      ],
      "source": [
        "checkpoint_filepath = 'best.hdf5'\n",
        "model = classifierModel()\n",
        "model.load_weights(checkpoint_filepath)"
      ]
    },
    {
      "cell_type": "code",
      "execution_count": null,
      "metadata": {
        "id": "nAStvv400JID"
      },
      "outputs": [],
      "source": [
        "score = model.evaluate(X_test, y_test, verbose=1)\n",
        "print(f'Test loss: {score[0]} / Test accuracy: {score[1]}')"
      ]
    },
    {
      "cell_type": "code",
      "execution_count": null,
      "metadata": {
        "id": "fIdE16Sj0JID"
      },
      "outputs": [],
      "source": [
        "import seaborn as sns\n",
        "import matplotlib.pyplot as plt\n",
        "from sklearn.metrics import confusion_matrix\n",
        "from sklearn.metrics import classification_report\n",
        "\n",
        "y_pred = model.predict(X_test)\n",
        "\n",
        "matrix = confusion_matrix(y_test, np.round(y_pred))\n",
        "sns.heatmap(matrix, annot=True, fmt='.0f', cmap='Blues', yticklabels=['non-vul', 'vul'],xticklabels=['non-vul', 'vul'])\n",
        "plt.xlabel(\"Predicted\")\n",
        "plt.ylabel(\"Actual\") "
      ]
    },
    {
      "cell_type": "code",
      "execution_count": null,
      "metadata": {
        "id": "V8uqJmoq0JIE"
      },
      "outputs": [],
      "source": [
        "print(classification_report(y_test, np.round(y_pred)))"
      ]
    }
  ],
  "metadata": {
    "accelerator": "GPU",
    "colab": {
      "collapsed_sections": [],
      "machine_shape": "hm",
      "name": "GCN+CNN_representation_learning.ipynb",
      "provenance": [],
      "toc_visible": true
    },
    "kernelspec": {
      "display_name": "Python 3",
      "name": "python3"
    },
    "language_info": {
      "name": "python",
      "version": "3.7.13"
    }
  },
  "nbformat": 4,
  "nbformat_minor": 0
}
