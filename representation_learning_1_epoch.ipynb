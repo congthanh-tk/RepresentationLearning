{
  "cells": [
    {
      "cell_type": "markdown",
      "metadata": {
        "id": "8G-eAEB00XEe"
      },
      "source": [
        "## Setup enviroment and load data"
      ]
    },
    {
      "cell_type": "code",
      "execution_count": 1,
      "metadata": {
        "id": "m80damzQgyOg"
      },
      "outputs": [],
      "source": [
        "import pickle\n",
        "\n",
        "X_test = pickle.load(open(\"X_test.npy\", \"rb\"))\n",
        "y_test = pickle.load(open(\"y_test.npy\", \"rb\"))\n",
        "X_train = pickle.load(open(\"X_train.npy\", \"rb\"))\n",
        "y_train = pickle.load(open(\"y_train.npy\", \"rb\"))"
      ]
    },
    {
      "cell_type": "code",
      "execution_count": 2,
      "metadata": {
        "id": "EVgfNFXL16Y3"
      },
      "outputs": [],
      "source": [
        "y_train = y_train.argmax(axis=1)\n",
        "y_test = y_test.argmax(axis=1)"
      ]
    },
    {
      "cell_type": "code",
      "execution_count": 7,
      "metadata": {
        "id": "Y3tQyjbIq43S"
      },
      "outputs": [],
      "source": [
        "import pandas as pd\n",
        "import numpy as np\n",
        "import stellargraph as sg\n",
        "import cv2\n",
        "from tensorflow.keras.callbacks import EarlyStopping\n",
        "\n",
        "n_node_feature = 69+64+1\n",
        "n_node_max = 112\n",
        "np.random.seed(10)\n",
        "n_class = 2\n",
        "# n_edge_type = 13\n",
        "n_edge_type = 2 + n_node_feature + 13"
      ]
    },
    {
      "cell_type": "markdown",
      "metadata": {
        "id": "DmIBgf1hKE96"
      },
      "source": [
        "## Representation learning with 1 epoch"
      ]
    },
    {
      "cell_type": "code",
      "execution_count": 8,
      "metadata": {
        "id": "iokrFVqw3hli"
      },
      "outputs": [],
      "source": [
        "import tensorflow as tf\n",
        "from tensorflow.keras.models import Sequential\n",
        "from tensorflow.keras import Model\n",
        "from tensorflow.keras.layers import Dense, Conv2D, MaxPooling2D, Dropout, Flatten, GlobalAveragePooling1D,Input,concatenate,Concatenate\n",
        "from stellargraph.layer.gcn import GraphConvolution\n",
        "import tensorflow_addons as tfa\n",
        "\n",
        "# Model CNN cũ\n",
        "# Sửa lại padding = same cho tất cả các Conv layer\n",
        "# Thêm 1 block Conv\n",
        "def create_cnn_model():\n",
        "    model = Sequential()\n",
        "    model.add(Conv2D(32, (3, 3), padding='same', activation='relu', input_shape=(n_node_max,n_node_max, 1)))\n",
        "    model.add(Conv2D(32, (3, 3), padding='same', activation='relu'))\n",
        "    model.add(MaxPooling2D(pool_size=(2, 2)))\n",
        "    model.add(Dropout(0.25))\n",
        "\n",
        "    model.add(Conv2D(64, (3, 3), padding='same', activation='relu'))\n",
        "    model.add(Conv2D(64, (3, 3), padding='same', activation='relu'))\n",
        "    model.add(MaxPooling2D(pool_size=(2, 2)))\n",
        "    model.add(Dropout(0.25))\n",
        "\n",
        "    model.add(Conv2D(128, (3, 3), padding='same', activation='relu'))\n",
        "    model.add(Conv2D(128, (3, 3), padding='same', activation='relu'))\n",
        "    model.add(MaxPooling2D(pool_size=(2, 2)))\n",
        "    model.add(Dropout(0.25))\n",
        "\n",
        "    model.add(Conv2D(256, (3, 3), padding='same', activation='relu'))\n",
        "    model.add(Conv2D(256, (3, 3), padding='same', activation='relu'))\n",
        "    model.add(MaxPooling2D(pool_size=(2, 2)))\n",
        "    model.add(Dropout(0.25))\n",
        "\n",
        "    model.add(Conv2D(64, (1, 1), padding='same', activation='relu'))\n",
        "    model.add(Flatten())\n",
        "\n",
        "    model.add(Dense(64, activation='relu'))\n",
        "    model.add(Dropout(0.25))\n",
        "    \n",
        "    return model\n",
        "\n",
        "def create_gcn_model():\n",
        "    x_features = Input(shape=( n_node_max, n_node_feature))\n",
        "    x_adjacency = Input(shape=( n_node_max, n_node_max))\n",
        "    out = Dropout(0.5)(x_features)\n",
        "    out = GraphConvolution(32, activation='relu', \n",
        "                        use_bias=True\n",
        "                        )([out, x_adjacency])\n",
        "    out = Dropout(0.5)(out)\n",
        "    out = GraphConvolution(32, activation='relu', \n",
        "                        use_bias=True\n",
        "                        )([out, x_adjacency])\n",
        "\n",
        "    # out = GlobalAveragePooling1D()(out)\n",
        "    out = Flatten()(out)\n",
        "    out = Dense(64, activation='relu')(out)\n",
        "    out = Dropout(.25)(out)\n",
        "\n",
        "    model = Model(inputs=[x_features, x_adjacency], outputs=out)\n",
        "\n",
        "    return model"
      ]
    },
    {
      "cell_type": "code",
      "execution_count": 9,
      "metadata": {
        "id": "WKtVN_R13hlk"
      },
      "outputs": [],
      "source": [
        "def create_model() : \n",
        "  model1 = create_cnn_model()\n",
        "  model2 = create_gcn_model()\n",
        "\n",
        "  \n",
        "  out = Concatenate()([model1.output,model2.output])\n",
        "  # out = Flatten()(out)    \n",
        "  out = Dense(64, activation='relu')(out)\n",
        "  out = Dropout(.5)(out)\n",
        "  out = Dense(32, activation='relu')(out)\n",
        "  out = Dense(n_class, activation='softmax')(out)\n",
        "\n",
        "  model = Model([model1.input,model2.input], out)\n",
        "  model.compile(optimizer=tf.keras.optimizers.Adam(), loss='sparse_categorical_crossentropy', metrics=['sparse_categorical_accuracy'])\n",
        "  model.summary()\n",
        "  return model"
      ]
    },
    {
      "cell_type": "code",
      "execution_count": null,
      "metadata": {
        "colab": {
          "base_uri": "https://localhost:8080/"
        },
        "id": "uZZAoMLLMLVG",
        "outputId": "7c64cfea-8ce4-4cbe-dfdd-8b39f20c6e98"
      },
      "outputs": [],
      "source": [
        "model = create_model()\n",
        "model.fit(x = X_train, y = y_train, batch_size=256, epochs=1)"
      ]
    },
    {
      "cell_type": "code",
      "execution_count": null,
      "metadata": {
        "colab": {
          "base_uri": "https://localhost:8080/"
        },
        "id": "E4GX0PSlMiC0",
        "outputId": "3c712618-7a64-48d5-97af-88f802b9cd86"
      },
      "outputs": [],
      "source": [
        "presentation_model = Model(inputs=model.inputs, outputs=model.layers[-5].output)\n",
        "presentation_model.summary()"
      ]
    },
    {
      "cell_type": "code",
      "execution_count": null,
      "metadata": {
        "colab": {
          "base_uri": "https://localhost:8080/"
        },
        "id": "qvdaH6skSSnp",
        "outputId": "8001bee5-bc24-4b07-851a-c5161e0f3e66"
      },
      "outputs": [
        {
          "name": "stdout",
          "output_type": "stream",
          "text": [
            "(5451, 128)\n"
          ]
        }
      ],
      "source": [
        "X_test = presentation_model.predict(X_test)\n",
        "X_train = presentation_model.predict(X_train)\n",
        "print(X_test.shape)\n",
        "print(X_train.shape)"
      ]
    },
    {
      "cell_type": "code",
      "execution_count": null,
      "metadata": {
        "colab": {
          "base_uri": "https://localhost:8080/"
        },
        "id": "ZvUi4ajTLz13",
        "outputId": "282304d4-1c8e-4c60-863d-678d5357d593"
      },
      "outputs": [
        {
          "name": "stdout",
          "output_type": "stream",
          "text": [
            "Counter({0: 11558, 1: 1160})\n"
          ]
        }
      ],
      "source": [
        "from collections import Counter\n",
        "\n",
        "print(Counter(y_train))"
      ]
    },
    {
      "cell_type": "code",
      "execution_count": null,
      "metadata": {},
      "outputs": [],
      "source": [
        "import os\n",
        "import json\n",
        "import sys\n",
        "\n",
        "import numpy\n",
        "import torch\n",
        "from sklearn.model_selection import train_test_split\n",
        "\n",
        "from representation_learning_api import RepresentationLearningModel"
      ]
    },
    {
      "cell_type": "code",
      "execution_count": null,
      "metadata": {},
      "outputs": [],
      "source": [
        "lambda1 = 0.5\n",
        "lambda2 = 0.001\n",
        "num_layers = 1"
      ]
    },
    {
      "cell_type": "code",
      "execution_count": null,
      "metadata": {},
      "outputs": [],
      "source": [
        "X = numpy.array([X_test, X_train])\n",
        "Y = numpy.array([y_test, y_train])\n",
        "\n",
        "print('Dataset', X.shape, Y.shape, numpy.sum(Y), sep='\\t', file=sys.stderr)\n",
        "print('=' * 100, file=sys.stderr, flush=True)"
      ]
    },
    {
      "cell_type": "code",
      "execution_count": null,
      "metadata": {},
      "outputs": [],
      "source": [
        "for _ in range(30):\n",
        "    train_X, test_X, train_Y, test_Y = train_test_split(X, Y, test_size=0.2)\n",
        "    print(train_X.shape, train_Y.shape, test_X.shape, test_Y.shape, sep='\\t', file=sys.stderr, flush=True)\n",
        "    model = RepresentationLearningModel(\n",
        "        lambda1=lambda1, lambda2=lambda2, batch_size=256, print=True, max_patience=5, balance=True,\n",
        "        num_layers=num_layers\n",
        "    )\n",
        "\n",
        "    model.train(train_X, train_Y)\n",
        "    results = model.evaluate(test_X, test_Y)\n",
        "\n",
        "    print(results['accuracy'], results['precision'], results['recall'], results['f1'], sep='\\t', flush=True)\n",
        "\n",
        "    print(results['accuracy'], results['precision'], results['recall'], results['f1'], sep='\\t',\n",
        "            file=sys.stderr, flush=True, end=('\\n' + '=' * 100 + '\\n'))"
      ]
    }
  ],
  "metadata": {
    "accelerator": "GPU",
    "colab": {
      "collapsed_sections": [],
      "machine_shape": "hm",
      "name": "GCN+CNN_representation_learning.ipynb",
      "provenance": [],
      "toc_visible": true
    },
    "kernelspec": {
      "display_name": "Python 3",
      "name": "python3"
    },
    "language_info": {
      "codemirror_mode": {
        "name": "ipython",
        "version": 3
      },
      "file_extension": ".py",
      "mimetype": "text/x-python",
      "name": "python",
      "nbconvert_exporter": "python",
      "pygments_lexer": "ipython3",
      "version": "3.7.13"
    }
  },
  "nbformat": 4,
  "nbformat_minor": 0
}
